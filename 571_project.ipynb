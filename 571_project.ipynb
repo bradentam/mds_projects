{
 "cells": [
  {
   "cell_type": "markdown",
   "metadata": {
    "deletable": true,
    "nbgrader": {
     "cell_type": "markdown",
     "checksum": "68191c8dddc288d48d7b4e4650638884",
     "grade": false,
     "grade_id": "cell-0ee873cb59220882",
     "locked": true,
     "schema_version": 3,
     "solution": false,
     "task": false
    },
    "toc-hr-collapsed": true
   },
   "source": [
    "## Mini project from UBC MDS DSCI 571 Lab 4\n",
    "The goal of this project is to estimate abalone age with various characteristics. The data can be found [here](https://archive.ics.uci.edu/ml/datasets/abalone). This data is named `abalone_age.csv` in your repository and consists of 8 features and 1 response variable:\n",
    "\n",
    "- Sex (M, F, I (infant))\n",
    "- Length (mm)\n",
    "- Diameter (mm)\n",
    "- Height (mm)\n",
    "- Whole weight (grams)\n",
    "- Shucked weight (grams)\n",
    "- Viscera weight (grams)\n",
    "- Shell weight (grams)\n",
    "- Rings (+1.5 to the number of rings gives the age of the abalone in years)"
   ]
  },
  {
   "cell_type": "markdown",
   "metadata": {},
   "source": [
    "### Import Packages"
   ]
  },
  {
   "cell_type": "code",
   "execution_count": null,
   "metadata": {},
   "outputs": [],
   "source": [
    "import numpy as np\n",
    "import pandas as pd\n",
    "import altair as alt\n",
    "from sklearn import datasets\n",
    "from sklearn.model_selection import train_test_split\n",
    "from sklearn.model_selection import GridSearchCV\n",
    "from sklearn.ensemble import GradientBoostingClassifier\n",
    "from sklearn.ensemble import RandomForestClassifier\n",
    "from sklearn.tree import DecisionTreeClassifier\n",
    "from sklearn.preprocessing import StandardScaler\n",
    "from sklearn.compose import ColumnTransformer\n",
    "from sklearn.preprocessing import OneHotEncoder\n",
    "from sklearn.linear_model import LinearRegression\n",
    "from sklearn.svm import SVR\n",
    "from sklearn.neighbors import KNeighborsRegressor\n",
    "from sklearn.ensemble import RandomForestRegressor\n",
    "from sklearn.metrics import mean_squared_error"
   ]
  },
  {
   "cell_type": "markdown",
   "metadata": {},
   "source": [
    "### Simple EDA"
   ]
  },
  {
   "cell_type": "code",
   "execution_count": 335,
   "metadata": {
    "deletable": false,
    "nbgrader": {
     "cell_type": "code",
     "checksum": "137d04220c68c4b6c2328413c4f0f482",
     "grade": true,
     "grade_id": "cell-3fc3750b0a0230d9",
     "locked": false,
     "points": 0,
     "schema_version": 3,
     "solution": true,
     "task": false
    }
   },
   "outputs": [
    {
     "name": "stdout",
     "output_type": "stream",
     "text": [
      "<class 'pandas.core.frame.DataFrame'>\n",
      "RangeIndex: 4177 entries, 0 to 4176\n",
      "Data columns (total 9 columns):\n",
      "Sex               4177 non-null object\n",
      "Length            4177 non-null float64\n",
      "Diameter          4177 non-null float64\n",
      "Height            4177 non-null float64\n",
      "Whole weight      4177 non-null float64\n",
      "Shucked weight    4177 non-null float64\n",
      "Viscera weight    4177 non-null float64\n",
      "Shell weight      4177 non-null float64\n",
      "Rings             4177 non-null int64\n",
      "dtypes: float64(7), int64(1), object(1)\n",
      "memory usage: 293.8+ KB\n"
     ]
    },
    {
     "data": {
      "text/html": [
       "<div>\n",
       "<style scoped>\n",
       "    .dataframe tbody tr th:only-of-type {\n",
       "        vertical-align: middle;\n",
       "    }\n",
       "\n",
       "    .dataframe tbody tr th {\n",
       "        vertical-align: top;\n",
       "    }\n",
       "\n",
       "    .dataframe thead th {\n",
       "        text-align: right;\n",
       "    }\n",
       "</style>\n",
       "<table border=\"1\" class=\"dataframe\">\n",
       "  <thead>\n",
       "    <tr style=\"text-align: right;\">\n",
       "      <th></th>\n",
       "      <th>Length</th>\n",
       "      <th>Diameter</th>\n",
       "      <th>Height</th>\n",
       "      <th>Whole weight</th>\n",
       "      <th>Shucked weight</th>\n",
       "      <th>Viscera weight</th>\n",
       "      <th>Shell weight</th>\n",
       "      <th>Rings</th>\n",
       "    </tr>\n",
       "  </thead>\n",
       "  <tbody>\n",
       "    <tr>\n",
       "      <th>count</th>\n",
       "      <td>4177.000000</td>\n",
       "      <td>4177.000000</td>\n",
       "      <td>4177.000000</td>\n",
       "      <td>4177.000000</td>\n",
       "      <td>4177.000000</td>\n",
       "      <td>4177.000000</td>\n",
       "      <td>4177.000000</td>\n",
       "      <td>4177.000000</td>\n",
       "    </tr>\n",
       "    <tr>\n",
       "      <th>mean</th>\n",
       "      <td>0.523992</td>\n",
       "      <td>0.407881</td>\n",
       "      <td>0.139516</td>\n",
       "      <td>0.828742</td>\n",
       "      <td>0.359367</td>\n",
       "      <td>0.180594</td>\n",
       "      <td>0.238831</td>\n",
       "      <td>9.933684</td>\n",
       "    </tr>\n",
       "    <tr>\n",
       "      <th>std</th>\n",
       "      <td>0.120093</td>\n",
       "      <td>0.099240</td>\n",
       "      <td>0.041827</td>\n",
       "      <td>0.490389</td>\n",
       "      <td>0.221963</td>\n",
       "      <td>0.109614</td>\n",
       "      <td>0.139203</td>\n",
       "      <td>3.224169</td>\n",
       "    </tr>\n",
       "    <tr>\n",
       "      <th>min</th>\n",
       "      <td>0.075000</td>\n",
       "      <td>0.055000</td>\n",
       "      <td>0.000000</td>\n",
       "      <td>0.002000</td>\n",
       "      <td>0.001000</td>\n",
       "      <td>0.000500</td>\n",
       "      <td>0.001500</td>\n",
       "      <td>1.000000</td>\n",
       "    </tr>\n",
       "    <tr>\n",
       "      <th>25%</th>\n",
       "      <td>0.450000</td>\n",
       "      <td>0.350000</td>\n",
       "      <td>0.115000</td>\n",
       "      <td>0.441500</td>\n",
       "      <td>0.186000</td>\n",
       "      <td>0.093500</td>\n",
       "      <td>0.130000</td>\n",
       "      <td>8.000000</td>\n",
       "    </tr>\n",
       "    <tr>\n",
       "      <th>50%</th>\n",
       "      <td>0.545000</td>\n",
       "      <td>0.425000</td>\n",
       "      <td>0.140000</td>\n",
       "      <td>0.799500</td>\n",
       "      <td>0.336000</td>\n",
       "      <td>0.171000</td>\n",
       "      <td>0.234000</td>\n",
       "      <td>9.000000</td>\n",
       "    </tr>\n",
       "    <tr>\n",
       "      <th>75%</th>\n",
       "      <td>0.615000</td>\n",
       "      <td>0.480000</td>\n",
       "      <td>0.165000</td>\n",
       "      <td>1.153000</td>\n",
       "      <td>0.502000</td>\n",
       "      <td>0.253000</td>\n",
       "      <td>0.329000</td>\n",
       "      <td>11.000000</td>\n",
       "    </tr>\n",
       "    <tr>\n",
       "      <th>max</th>\n",
       "      <td>0.815000</td>\n",
       "      <td>0.650000</td>\n",
       "      <td>1.130000</td>\n",
       "      <td>2.825500</td>\n",
       "      <td>1.488000</td>\n",
       "      <td>0.760000</td>\n",
       "      <td>1.005000</td>\n",
       "      <td>29.000000</td>\n",
       "    </tr>\n",
       "  </tbody>\n",
       "</table>\n",
       "</div>"
      ],
      "text/plain": [
       "            Length     Diameter       Height  Whole weight  Shucked weight  \\\n",
       "count  4177.000000  4177.000000  4177.000000   4177.000000     4177.000000   \n",
       "mean      0.523992     0.407881     0.139516      0.828742        0.359367   \n",
       "std       0.120093     0.099240     0.041827      0.490389        0.221963   \n",
       "min       0.075000     0.055000     0.000000      0.002000        0.001000   \n",
       "25%       0.450000     0.350000     0.115000      0.441500        0.186000   \n",
       "50%       0.545000     0.425000     0.140000      0.799500        0.336000   \n",
       "75%       0.615000     0.480000     0.165000      1.153000        0.502000   \n",
       "max       0.815000     0.650000     1.130000      2.825500        1.488000   \n",
       "\n",
       "       Viscera weight  Shell weight        Rings  \n",
       "count     4177.000000   4177.000000  4177.000000  \n",
       "mean         0.180594      0.238831     9.933684  \n",
       "std          0.109614      0.139203     3.224169  \n",
       "min          0.000500      0.001500     1.000000  \n",
       "25%          0.093500      0.130000     8.000000  \n",
       "50%          0.171000      0.234000     9.000000  \n",
       "75%          0.253000      0.329000    11.000000  \n",
       "max          0.760000      1.005000    29.000000  "
      ]
     },
     "execution_count": 335,
     "metadata": {},
     "output_type": "execute_result"
    },
    {
     "data": {
      "image/png": "[encoded data removed]",
      "text/plain": [
       "<Figure size 432x288 with 1 Axes>"
      ]
     },
     "metadata": {
      "needs_background": "light"
     },
     "output_type": "display_data"
    },
    {
     "data": {
      "image/png": "[encoded data removed]",
      "text/plain": [
       "<Figure size 432x288 with 1 Axes>"
      ]
     },
     "metadata": {
      "needs_background": "light"
     },
     "output_type": "display_data"
    },
    {
     "data": {
      "image/png": "[encoded data removed]",
      "text/plain": [
       "<Figure size 432x288 with 1 Axes>"
      ]
     },
     "metadata": {
      "needs_background": "light"
     },
     "output_type": "display_data"
    },
    {
     "data": {
      "image/png": "[encoded data removed]",
      "text/plain": [
       "<Figure size 432x288 with 1 Axes>"
      ]
     },
     "metadata": {
      "needs_background": "light"
     },
     "output_type": "display_data"
    },
    {
     "data": {
      "image/png": "[encoded data removed]",
      "text/plain": [
       "<Figure size 432x288 with 1 Axes>"
      ]
     },
     "metadata": {
      "needs_background": "light"
     },
     "output_type": "display_data"
    },
    {
     "data": {
      "image/png": "[encoded data removed]",
      "text/plain": [
       "<Figure size 432x288 with 1 Axes>"
      ]
     },
     "metadata": {
      "needs_background": "light"
     },
     "output_type": "display_data"
    },
    {
     "data": {
      "image/png": "[encoded data removed]",
      "text/plain": [
       "<Figure size 432x288 with 1 Axes>"
      ]
     },
     "metadata": {
      "needs_background": "light"
     },
     "output_type": "display_data"
    },
    {
     "data": {
      "image/png": "[encoded data removed]",
      "text/plain": [
       "<Figure size 432x288 with 1 Axes>"
      ]
     },
     "metadata": {
      "needs_background": "light"
     },
     "output_type": "display_data"
    }
   ],
   "source": [
    "abalone_df = pd.read_csv(\"abalone_age.csv\")\n",
    "\n",
    "for column in abalone_df.columns[1:]:\n",
    "    abalone_df.hist(str(column), bins = 30)\n",
    "\n",
    "abalone_df.info()\n",
    "abalone_df.describe()"
   ]
  },
  {
   "cell_type": "markdown",
   "metadata": {},
   "source": [
    "> There are no null values and the distribution of most features are right skewed other than length and diameter which are left skewed. There doesn't appear to be any major outliers. Although, height of 0 doesn't seem to make much sense. "
   ]
  },
  {
   "cell_type": "code",
   "execution_count": 336,
   "metadata": {},
   "outputs": [],
   "source": [
    "abalone_df['age'] = abalone_df['Rings'] + 1.5"
   ]
  },
  {
   "cell_type": "code",
   "execution_count": 337,
   "metadata": {},
   "outputs": [],
   "source": [
    "features = abalone_df.drop(columns = ['Rings', 'age'])\n",
    "target = abalone_df['age']"
   ]
  },
  {
   "cell_type": "code",
   "execution_count": 338,
   "metadata": {},
   "outputs": [],
   "source": [
    "# scale numerical features and ohe categorical features\n",
    "\n",
    "numeric_features = ['Length', 'Diameter', 'Height', 'Whole weight', \n",
    "                    'Shucked weight', 'Viscera weight', 'Shell weight']\n",
    "categorical_features = ['Sex']\n",
    "\n",
    "preprocessor = ColumnTransformer(\n",
    "    transformers=[\n",
    "        ('scale', StandardScaler(), numeric_features),\n",
    "        ('ohe', OneHotEncoder(drop=\"first\"), categorical_features)])\n",
    "\n",
    "# Split data\n",
    "X_train, X_test, y_train, y_test = train_test_split(features, target, test_size = 0.2)\n",
    "\n",
    "X_train = pd.DataFrame(preprocessor.fit_transform(X_train),\n",
    "                       index=X_train.index,\n",
    "                       columns=(numeric_features +\n",
    "                                list(preprocessor.named_transformers_['ohe']\n",
    "                                     .get_feature_names(categorical_features))))\n",
    "X_test = pd.DataFrame(preprocessor.transform(X_test),\n",
    "                      index=X_test.index,\n",
    "                      columns=X_train.columns)"
   ]
  },
  {
   "cell_type": "code",
   "execution_count": 339,
   "metadata": {},
   "outputs": [],
   "source": [
    "# Linear Regression\n",
    "\n",
    "lin_reg = LinearRegression()\n",
    "lin_reg.fit(X_train, y_train);"
   ]
  },
  {
   "cell_type": "code",
   "execution_count": 340,
   "metadata": {},
   "outputs": [
    {
     "name": "stderr",
     "output_type": "stream",
     "text": [
      "/Users/bradentam/anaconda3/lib/python3.7/site-packages/sklearn/model_selection/_search.py:814: DeprecationWarning: The default of the `iid` parameter will change from True to False in version 0.22 and will be removed in 0.24. This will change numeric results when test-set sizes are unequal.\n",
      "  DeprecationWarning)\n"
     ]
    },
    {
     "name": "stdout",
     "output_type": "stream",
     "text": [
      "The best choice of parameter: {'C': 5, 'gamma': 'auto', 'kernel': 'rbf'}\n"
     ]
    }
   ],
   "source": [
    "# Support vector regressor\n",
    "\n",
    "tuned_parameters = {'kernel': ['linear', 'poly', 'rbf'],\n",
    "                    'gamma': ['scale', 'auto'],\n",
    "                    'C': [1, 3, 5]}\n",
    "\n",
    "svr = GridSearchCV(SVR(), param_grid = tuned_parameters, cv = 5)\n",
    "svr.fit(X_train, y_train);\n",
    "\n",
    "print('The best choice of parameter:', svr.best_params_)"
   ]
  },
  {
   "cell_type": "code",
   "execution_count": 341,
   "metadata": {},
   "outputs": [
    {
     "name": "stdout",
     "output_type": "stream",
     "text": [
      "The best choice of parameter: {'n_neighbors': 16}\n"
     ]
    }
   ],
   "source": [
    "# k neighbours regressor\n",
    "\n",
    "tuned_parameters = {'n_neighbors': range(1, 20)}\n",
    "\n",
    "knr = GridSearchCV(KNeighborsRegressor(), param_grid = tuned_parameters, cv = 5)\n",
    "knr.fit(X_train, y_train);\n",
    "\n",
    "print('The best choice of parameter:', knr.best_params_)"
   ]
  },
  {
   "cell_type": "code",
   "execution_count": 342,
   "metadata": {},
   "outputs": [
    {
     "name": "stdout",
     "output_type": "stream",
     "text": [
      "The best choice of parameter: {'max_features': 3, 'n_estimators': 90}\n"
     ]
    }
   ],
   "source": [
    "# random forest regressor\n",
    "\n",
    "tuned_parameters = {'n_estimators': range(90, 120, 10),\n",
    "                    'max_features': range(1, 9, 2)}\n",
    "\n",
    "rfr = GridSearchCV(RandomForestRegressor(), param_grid = tuned_parameters, cv = 5)\n",
    "rfr.fit(X_train, y_train);\n",
    "\n",
    "print('The best choice of parameter:', rfr.best_params_)"
   ]
  },
  {
   "cell_type": "code",
   "execution_count": 348,
   "metadata": {},
   "outputs": [
    {
     "name": "stdout",
     "output_type": "stream",
     "text": [
      "RMSE of lin_reg of test set: 2.194847069345932\n",
      "RMSE of knr of test set: 2.1678586771326076\n",
      "RMSE of svr of test set: 2.0737479524269373\n",
      "RMSE of rfr of test set: 2.116766746487386\n"
     ]
    }
   ],
   "source": [
    "print(\"RMSE of lin_reg of test set:\", np.sqrt(mean_squared_error(y_test, lin_reg.predict(X_test))))\n",
    "print(\"RMSE of knr of test set:\", np.sqrt(mean_squared_error(y_test, knr.predict(X_test))))\n",
    "print(\"RMSE of svr of test set:\", np.sqrt(mean_squared_error(y_test, svr.predict(X_test))))\n",
    "print(\"RMSE of rfr of test set:\", np.sqrt(mean_squared_error(y_test, rfr.predict(X_test))))"
   ]
  },
  {
   "cell_type": "code",
   "execution_count": 349,
   "metadata": {},
   "outputs": [],
   "source": [
    "results = pd.DataFrame({'observed': y_test,\n",
    "                        'lin_reg': lin_reg.predict(X_test), \n",
    "                        'knr': knr.predict(X_test),\n",
    "                        'svr': svr.predict(X_test), \n",
    "                        'rfr': rfr.predict(X_test)})\n",
    "\n",
    "results = results.melt(id_vars = ['observed'], value_vars = ['lin_reg', 'knr', 'svr', 'rfr'])\n",
    "results = results.rename(columns = {'variable': 'model', \n",
    "                                    'value': 'predicted'})\n",
    "results_avg = results.groupby(['observed', 'model']).mean()\n",
    "results_avg = results_avg.reset_index()"
   ]
  },
  {
   "cell_type": "code",
   "execution_count": 355,
   "metadata": {},
   "outputs": [
    {
     "data": {
      "application/vnd.vegalite.v3+json": {
       "$schema": "https://vega.github.io/schema/vega-lite/v3.4.0.json",
       "config": {
        "axis": {
         "labelFontSize": 15,
         "titleFontSize": 18
        },
        "mark": {
         "tooltip": null
        },
        "title": {
         "fontSize": 20
        },
        "view": {
         "height": 300,
         "width": 400
        }
       },
       "datasets": {
        "data-133b5c66807dc153560cb7016f9f21c3": [
         {
          "model": "lin_reg",
          "observed": 12.5,
          "predicted": 13.55259757135947
         },
         {
          "model": "lin_reg",
          "observed": 11.5,
          "predicted": 14.416878729755023
         },
         {
          "model": "lin_reg",
          "observed": 10.5,
          "predicted": 10.790947269067164
         },
         {
          "model": "lin_reg",
          "observed": 9.5,
          "predicted": 13.14738478952009
         },
         {
          "model": "lin_reg",
          "observed": 14.5,
          "predicted": 12.583414015126724
         },
         {
          "model": "lin_reg",
          "observed": 11.5,
          "predicted": 13.511504277471506
         },
         {
          "model": "lin_reg",
          "observed": 8.5,
          "predicted": 8.523331738560856
         },
         {
          "model": "lin_reg",
          "observed": 10.5,
          "predicted": 9.773560917678845
         },
         {
          "model": "lin_reg",
          "observed": 12.5,
          "predicted": 13.427039619921217
         },
         {
          "model": "lin_reg",
          "observed": 13.5,
          "predicted": 9.754344548626225
         },
         {
          "model": "lin_reg",
          "observed": 14.5,
          "predicted": 11.378760987560165
         },
         {
          "model": "lin_reg",
          "observed": 13.5,
          "predicted": 12.615686012165076
         },
         {
          "model": "lin_reg",
          "observed": 10.5,
          "predicted": 8.954130445136455
         },
         {
          "model": "lin_reg",
          "observed": 11.5,
          "predicted": 11.650168343944811
         },
         {
          "model": "lin_reg",
          "observed": 18.5,
          "predicted": 20.514784442676024
         },
         {
          "model": "lin_reg",
          "observed": 12.5,
          "predicted": 14.17475334817059
         },
         {
          "model": "lin_reg",
          "observed": 12.5,
          "predicted": 12.99156515460616
         },
         {
          "model": "lin_reg",
          "observed": 12.5,
          "predicted": 12.073284496798015
         },
         {
          "model": "lin_reg",
          "observed": 9.5,
          "predicted": 9.548288511834514
         },
         {
          "model": "lin_reg",
          "observed": 7.5,
          "predicted": 8.49367406564405
         },
         {
          "model": "lin_reg",
          "observed": 10.5,
          "predicted": 10.782106831855872
         },
         {
          "model": "lin_reg",
          "observed": 10.5,
          "predicted": 11.667881700947387
         },
         {
          "model": "lin_reg",
          "observed": 19.5,
          "predicted": 13.705048410324391
         },
         {
          "model": "lin_reg",
          "observed": 15.5,
          "predicted": 13.59171478478384
         },
         {
          "model": "lin_reg",
          "observed": 8.5,
          "predicted": 9.451569830362214
         },
         {
          "model": "lin_reg",
          "observed": 12.5,
          "predicted": 13.00460846547807
         },
         {
          "model": "lin_reg",
          "observed": 8.5,
          "predicted": 8.519165813682445
         },
         {
          "model": "lin_reg",
          "observed": 9.5,
          "predicted": 10.037942275560326
         },
         {
          "model": "lin_reg",
          "observed": 11.5,
          "predicted": 10.19599453060852
         },
         {
          "model": "lin_reg",
          "observed": 12.5,
          "predicted": 10.67925432966949
         },
         {
          "model": "lin_reg",
          "observed": 7.5,
          "predicted": 8.734320180027563
         },
         {
          "model": "lin_reg",
          "observed": 10.5,
          "predicted": 10.870374475103354
         },
         {
          "model": "lin_reg",
          "observed": 9.5,
          "predicted": 9.840812262051873
         },
         {
          "model": "lin_reg",
          "observed": 10.5,
          "predicted": 13.765007408787294
         },
         {
          "model": "lin_reg",
          "observed": 8.5,
          "predicted": 8.643829550993178
         },
         {
          "model": "lin_reg",
          "observed": 12.5,
          "predicted": 12.723896821813929
         },
         {
          "model": "lin_reg",
          "observed": 9.5,
          "predicted": 12.677561688886053
         },
         {
          "model": "lin_reg",
          "observed": 15.5,
          "predicted": 11.709921201021913
         },
         {
          "model": "lin_reg",
          "observed": 11.5,
          "predicted": 12.707021504083151
         },
         {
          "model": "lin_reg",
          "observed": 11.5,
          "predicted": 11.156715981745577
         },
         {
          "model": "lin_reg",
          "observed": 16.5,
          "predicted": 10.83606794851479
         },
         {
          "model": "lin_reg",
          "observed": 10.5,
          "predicted": 10.598975119114947
         },
         {
          "model": "lin_reg",
          "observed": 14.5,
          "predicted": 18.332366320914495
         },
         {
          "model": "lin_reg",
          "observed": 16.5,
          "predicted": 16.60484979627028
         },
         {
          "model": "lin_reg",
          "observed": 19.5,
          "predicted": 14.613033603252735
         },
         {
          "model": "lin_reg",
          "observed": 17.5,
          "predicted": 13.05980231261922
         },
         {
          "model": "lin_reg",
          "observed": 11.5,
          "predicted": 9.872052456340807
         },
         {
          "model": "lin_reg",
          "observed": 12.5,
          "predicted": 12.539525295518146
         },
         {
          "model": "lin_reg",
          "observed": 9.5,
          "predicted": 9.327292766503774
         },
         {
          "model": "lin_reg",
          "observed": 13.5,
          "predicted": 15.446281873636986
         },
         {
          "model": "lin_reg",
          "observed": 9.5,
          "predicted": 9.122527838406635
         },
         {
          "model": "lin_reg",
          "observed": 11.5,
          "predicted": 13.66393648488994
         },
         {
          "model": "lin_reg",
          "observed": 11.5,
          "predicted": 11.369320459410162
         },
         {
          "model": "lin_reg",
          "observed": 5.5,
          "predicted": 7.342406058667093
         },
         {
          "model": "lin_reg",
          "observed": 11.5,
          "predicted": 12.199122098573621
         },
         {
          "model": "lin_reg",
          "observed": 11.5,
          "predicted": 11.965969640038434
         },
         {
          "model": "lin_reg",
          "observed": 13.5,
          "predicted": 12.73832542148603
         },
         {
          "model": "lin_reg",
          "observed": 11.5,
          "predicted": 11.605985416932125
         },
         {
          "model": "lin_reg",
          "observed": 10.5,
          "predicted": 11.807490461848744
         },
         {
          "model": "lin_reg",
          "observed": 10.5,
          "predicted": 10.080934096524185
         },
         {
          "model": "lin_reg",
          "observed": 10.5,
          "predicted": 13.381014144325281
         },
         {
          "model": "lin_reg",
          "observed": 13.5,
          "predicted": 12.090619297116344
         },
         {
          "model": "lin_reg",
          "observed": 9.5,
          "predicted": 12.036676032536562
         },
         {
          "model": "lin_reg",
          "observed": 13.5,
          "predicted": 11.55500409279909
         },
         {
          "model": "lin_reg",
          "observed": 13.5,
          "predicted": 12.772029640853207
         },
         {
          "model": "lin_reg",
          "observed": 12.5,
          "predicted": 12.987311914430254
         },
         {
          "model": "lin_reg",
          "observed": 10.5,
          "predicted": 10.836951208101027
         },
         {
          "model": "lin_reg",
          "observed": 8.5,
          "predicted": 8.774017015856566
         },
         {
          "model": "lin_reg",
          "observed": 12.5,
          "predicted": 12.289256709096726
         },
         {
          "model": "lin_reg",
          "observed": 9.5,
          "predicted": 12.672271180637473
         },
         {
          "model": "lin_reg",
          "observed": 6.5,
          "predicted": 7.645790988988968
         },
         {
          "model": "lin_reg",
          "observed": 10.5,
          "predicted": 10.708158464243038
         },
         {
          "model": "lin_reg",
          "observed": 11.5,
          "predicted": 15.622085894196813
         },
         {
          "model": "lin_reg",
          "observed": 11.5,
          "predicted": 12.472508006364189
         },
         {
          "model": "lin_reg",
          "observed": 10.5,
          "predicted": 10.708178188819959
         },
         {
          "model": "lin_reg",
          "observed": 13.5,
          "predicted": 15.080416244708134
         },
         {
          "model": "lin_reg",
          "observed": 11.5,
          "predicted": 11.215342250859685
         },
         {
          "model": "lin_reg",
          "observed": 7.5,
          "predicted": 8.400298872583813
         },
         {
          "model": "lin_reg",
          "observed": 11.5,
          "predicted": 13.611567032119764
         },
         {
          "model": "lin_reg",
          "observed": 13.5,
          "predicted": 15.431083657138803
         },
         {
          "model": "lin_reg",
          "observed": 15.5,
          "predicted": 17.70782071473839
         },
         {
          "model": "lin_reg",
          "observed": 13.5,
          "predicted": 14.301308824714244
         },
         {
          "model": "lin_reg",
          "observed": 11.5,
          "predicted": 10.839911545147348
         },
         {
          "model": "lin_reg",
          "observed": 7.5,
          "predicted": 7.531468407337818
         },
         {
          "model": "lin_reg",
          "observed": 14.5,
          "predicted": 13.856607481363767
         },
         {
          "model": "lin_reg",
          "observed": 10.5,
          "predicted": 9.030979994939003
         },
         {
          "model": "lin_reg",
          "observed": 14.5,
          "predicted": 13.801808914182038
         },
         {
          "model": "lin_reg",
          "observed": 15.5,
          "predicted": 14.071818212400727
         },
         {
          "model": "lin_reg",
          "observed": 16.5,
          "predicted": 12.25229533725092
         },
         {
          "model": "lin_reg",
          "observed": 13.5,
          "predicted": 10.146481252974693
         },
         {
          "model": "lin_reg",
          "observed": 18.5,
          "predicted": 12.18396565118086
         },
         {
          "model": "lin_reg",
          "observed": 14.5,
          "predicted": 14.425768964798847
         },
         {
          "model": "lin_reg",
          "observed": 9.5,
          "predicted": 10.359339783163612
         },
         {
          "model": "lin_reg",
          "observed": 11.5,
          "predicted": 11.603568707045973
         },
         {
          "model": "lin_reg",
          "observed": 8.5,
          "predicted": 10.189909738339317
         },
         {
          "model": "lin_reg",
          "observed": 13.5,
          "predicted": 14.541276522877975
         },
         {
          "model": "lin_reg",
          "observed": 11.5,
          "predicted": 17.807165220004855
         },
         {
          "model": "lin_reg",
          "observed": 8.5,
          "predicted": 10.695863816737292
         },
         {
          "model": "lin_reg",
          "observed": 8.5,
          "predicted": 9.529213010854772
         },
         {
          "model": "lin_reg",
          "observed": 10.5,
          "predicted": 11.379818260134936
         },
         {
          "model": "lin_reg",
          "observed": 8.5,
          "predicted": 8.59666236577502
         },
         {
          "model": "lin_reg",
          "observed": 14.5,
          "predicted": 11.794738121036374
         },
         {
          "model": "lin_reg",
          "observed": 11.5,
          "predicted": 10.630482732867838
         },
         {
          "model": "lin_reg",
          "observed": 7.5,
          "predicted": 8.448443210565372
         },
         {
          "model": "lin_reg",
          "observed": 10.5,
          "predicted": 10.257796935944455
         },
         {
          "model": "lin_reg",
          "observed": 10.5,
          "predicted": 12.243622247613967
         },
         {
          "model": "lin_reg",
          "observed": 9.5,
          "predicted": 14.84540264686457
         },
         {
          "model": "lin_reg",
          "observed": 7.5,
          "predicted": 7.719647158732955
         },
         {
          "model": "lin_reg",
          "observed": 11.5,
          "predicted": 13.076962064330607
         },
         {
          "model": "lin_reg",
          "observed": 15.5,
          "predicted": 13.252686405057785
         },
         {
          "model": "lin_reg",
          "observed": 11.5,
          "predicted": 13.339175476398882
         },
         {
          "model": "lin_reg",
          "observed": 23.5,
          "predicted": 16.97608987919928
         },
         {
          "model": "lin_reg",
          "observed": 12.5,
          "predicted": 9.948231869459228
         },
         {
          "model": "lin_reg",
          "observed": 11.5,
          "predicted": 12.334165539733757
         },
         {
          "model": "lin_reg",
          "observed": 14.5,
          "predicted": 15.493584462916829
         },
         {
          "model": "lin_reg",
          "observed": 12.5,
          "predicted": 11.44707100430018
         },
         {
          "model": "lin_reg",
          "observed": 10.5,
          "predicted": 11.53911915314244
         },
         {
          "model": "lin_reg",
          "observed": 14.5,
          "predicted": 13.24892386328034
         },
         {
          "model": "lin_reg",
          "observed": 8.5,
          "predicted": 9.146905814766345
         },
         {
          "model": "lin_reg",
          "observed": 7.5,
          "predicted": 8.350692738446561
         },
         {
          "model": "lin_reg",
          "observed": 13.5,
          "predicted": 13.270613020756379
         },
         {
          "model": "lin_reg",
          "observed": 8.5,
          "predicted": 9.865567917471644
         },
         {
          "model": "lin_reg",
          "observed": 12.5,
          "predicted": 12.29476676592404
         },
         {
          "model": "lin_reg",
          "observed": 12.5,
          "predicted": 14.371897503451173
         },
         {
          "model": "lin_reg",
          "observed": 10.5,
          "predicted": 7.446543470054797
         },
         {
          "model": "lin_reg",
          "observed": 11.5,
          "predicted": 11.34800583334902
         },
         {
          "model": "lin_reg",
          "observed": 15.5,
          "predicted": 11.801158616927435
         },
         {
          "model": "lin_reg",
          "observed": 12.5,
          "predicted": 9.79783950396304
         },
         {
          "model": "lin_reg",
          "observed": 11.5,
          "predicted": 12.112676622972195
         },
         {
          "model": "lin_reg",
          "observed": 11.5,
          "predicted": 13.009744626076216
         },
         {
          "model": "lin_reg",
          "observed": 11.5,
          "predicted": 9.95154462122106
         },
         {
          "model": "lin_reg",
          "observed": 18.5,
          "predicted": 12.398471794243331
         },
         {
          "model": "lin_reg",
          "observed": 20.5,
          "predicted": 12.120252282030258
         },
         {
          "model": "lin_reg",
          "observed": 13.5,
          "predicted": 10.626859161680105
         },
         {
          "model": "lin_reg",
          "observed": 9.5,
          "predicted": 12.571106527650196
         },
         {
          "model": "lin_reg",
          "observed": 21.5,
          "predicted": 16.07350414295354
         },
         {
          "model": "lin_reg",
          "observed": 11.5,
          "predicted": 12.197674206193728
         },
         {
          "model": "lin_reg",
          "observed": 7.5,
          "predicted": 8.636025494660561
         },
         {
          "model": "lin_reg",
          "observed": 14.5,
          "predicted": 11.948358748558615
         },
         {
          "model": "lin_reg",
          "observed": 9.5,
          "predicted": 11.138882162481838
         },
         {
          "model": "lin_reg",
          "observed": 6.5,
          "predicted": 8.626329815827917
         },
         {
          "model": "lin_reg",
          "observed": 11.5,
          "predicted": 13.002885848720048
         },
         {
          "model": "lin_reg",
          "observed": 10.5,
          "predicted": 8.750079828089177
         },
         {
          "model": "lin_reg",
          "observed": 10.5,
          "predicted": 12.035157013627229
         },
         {
          "model": "lin_reg",
          "observed": 10.5,
          "predicted": 9.785295951350786
         },
         {
          "model": "lin_reg",
          "observed": 8.5,
          "predicted": 7.796633694859161
         },
         {
          "model": "lin_reg",
          "observed": 11.5,
          "predicted": 9.996029884954293
         },
         {
          "model": "lin_reg",
          "observed": 8.5,
          "predicted": 8.419770819553348
         },
         {
          "model": "lin_reg",
          "observed": 9.5,
          "predicted": 10.689483006948533
         },
         {
          "model": "lin_reg",
          "observed": 9.5,
          "predicted": 10.918171049477163
         },
         {
          "model": "lin_reg",
          "observed": 21.5,
          "predicted": 11.858494292924693
         },
         {
          "model": "lin_reg",
          "observed": 9.5,
          "predicted": 10.104127806400745
         },
         {
          "model": "lin_reg",
          "observed": 9.5,
          "predicted": 8.576825118657567
         },
         {
          "model": "lin_reg",
          "observed": 18.5,
          "predicted": 16.118350458387063
         },
         {
          "model": "lin_reg",
          "observed": 14.5,
          "predicted": 15.906550402315364
         },
         {
          "model": "lin_reg",
          "observed": 12.5,
          "predicted": 12.58556430870087
         },
         {
          "model": "lin_reg",
          "observed": 7.5,
          "predicted": 8.795058932963856
         },
         {
          "model": "lin_reg",
          "observed": 12.5,
          "predicted": 12.76813739156393
         },
         {
          "model": "lin_reg",
          "observed": 16.5,
          "predicted": 14.518031313241327
         },
         {
          "model": "lin_reg",
          "observed": 13.5,
          "predicted": 11.88613287880493
         },
         {
          "model": "lin_reg",
          "observed": 10.5,
          "predicted": 9.321149991953416
         },
         {
          "model": "lin_reg",
          "observed": 12.5,
          "predicted": 10.432645032424707
         },
         {
          "model": "lin_reg",
          "observed": 10.5,
          "predicted": 10.886522328057758
         },
         {
          "model": "lin_reg",
          "observed": 8.5,
          "predicted": 9.624771621032927
         },
         {
          "model": "lin_reg",
          "observed": 16.5,
          "predicted": 10.735537330861488
         },
         {
          "model": "lin_reg",
          "observed": 11.5,
          "predicted": 10.95724143805593
         },
         {
          "model": "lin_reg",
          "observed": 18.5,
          "predicted": 13.517321148674188
         },
         {
          "model": "lin_reg",
          "observed": 9.5,
          "predicted": 8.476820575095498
         },
         {
          "model": "lin_reg",
          "observed": 16.5,
          "predicted": 12.479722195582132
         },
         {
          "model": "lin_reg",
          "observed": 9.5,
          "predicted": 10.924708446596375
         },
         {
          "model": "lin_reg",
          "observed": 17.5,
          "predicted": 14.90047268285329
         },
         {
          "model": "lin_reg",
          "observed": 12.5,
          "predicted": 14.224835664494742
         },
         {
          "model": "lin_reg",
          "observed": 7.5,
          "predicted": 9.35188368499832
         },
         {
          "model": "lin_reg",
          "observed": 13.5,
          "predicted": 14.557539986133909
         },
         {
          "model": "lin_reg",
          "observed": 11.5,
          "predicted": 11.686536614284032
         },
         {
          "model": "lin_reg",
          "observed": 12.5,
          "predicted": 12.453500150096184
         },
         {
          "model": "lin_reg",
          "observed": 10.5,
          "predicted": 12.500581973743234
         },
         {
          "model": "lin_reg",
          "observed": 12.5,
          "predicted": 14.467289805760135
         },
         {
          "model": "lin_reg",
          "observed": 11.5,
          "predicted": 11.256556892797258
         },
         {
          "model": "lin_reg",
          "observed": 9.5,
          "predicted": 10.37086950892023
         },
         {
          "model": "lin_reg",
          "observed": 12.5,
          "predicted": 12.530589357356854
         },
         {
          "model": "lin_reg",
          "observed": 5.5,
          "predicted": 8.039011794873687
         },
         {
          "model": "lin_reg",
          "observed": 12.5,
          "predicted": 14.182157567039928
         },
         {
          "model": "lin_reg",
          "observed": 11.5,
          "predicted": 12.429180181057635
         },
         {
          "model": "lin_reg",
          "observed": 7.5,
          "predicted": 8.238199688010347
         },
         {
          "model": "lin_reg",
          "observed": 12.5,
          "predicted": 14.983118229280414
         },
         {
          "model": "lin_reg",
          "observed": 9.5,
          "predicted": 9.198752412415676
         },
         {
          "model": "lin_reg",
          "observed": 11.5,
          "predicted": 10.79617884969131
         },
         {
          "model": "lin_reg",
          "observed": 10.5,
          "predicted": 8.763914184660484
         },
         {
          "model": "lin_reg",
          "observed": 12.5,
          "predicted": 11.857686787512844
         },
         {
          "model": "lin_reg",
          "observed": 10.5,
          "predicted": 11.555595189305642
         },
         {
          "model": "lin_reg",
          "observed": 10.5,
          "predicted": 11.273859495159904
         },
         {
          "model": "lin_reg",
          "observed": 13.5,
          "predicted": 10.92256021839988
         },
         {
          "model": "lin_reg",
          "observed": 11.5,
          "predicted": 10.607509397075807
         },
         {
          "model": "lin_reg",
          "observed": 18.5,
          "predicted": 19.371589595581696
         },
         {
          "model": "lin_reg",
          "observed": 8.5,
          "predicted": 8.663686066742924
         },
         {
          "model": "lin_reg",
          "observed": 11.5,
          "predicted": 13.717776546547803
         },
         {
          "model": "lin_reg",
          "observed": 9.5,
          "predicted": 8.900356453868035
         },
         {
          "model": "lin_reg",
          "observed": 10.5,
          "predicted": 11.744974918084662
         },
         {
          "model": "lin_reg",
          "observed": 19.5,
          "predicted": 16.30923053033695
         },
         {
          "model": "lin_reg",
          "observed": 18.5,
          "predicted": 13.151967703219876
         },
         {
          "model": "lin_reg",
          "observed": 10.5,
          "predicted": 10.308913560016626
         },
         {
          "model": "lin_reg",
          "observed": 9.5,
          "predicted": 8.61679489605125
         },
         {
          "model": "lin_reg",
          "observed": 9.5,
          "predicted": 11.2247001396881
         },
         {
          "model": "lin_reg",
          "observed": 8.5,
          "predicted": 10.820884665716191
         },
         {
          "model": "lin_reg",
          "observed": 12.5,
          "predicted": 13.269324898843667
         },
         {
          "model": "lin_reg",
          "observed": 13.5,
          "predicted": 13.58088611862894
         },
         {
          "model": "lin_reg",
          "observed": 11.5,
          "predicted": 10.860225904920634
         },
         {
          "model": "lin_reg",
          "observed": 23.5,
          "predicted": 22.169073804565897
         },
         {
          "model": "lin_reg",
          "observed": 12.5,
          "predicted": 12.648137438653947
         },
         {
          "model": "lin_reg",
          "observed": 12.5,
          "predicted": 17.112069468879305
         },
         {
          "model": "lin_reg",
          "observed": 12.5,
          "predicted": 12.943404578714102
         },
         {
          "model": "lin_reg",
          "observed": 22.5,
          "predicted": 15.414212930834072
         },
         {
          "model": "lin_reg",
          "observed": 8.5,
          "predicted": 11.208273499337066
         },
         {
          "model": "lin_reg",
          "observed": 10.5,
          "predicted": 8.389219468320025
         },
         {
          "model": "lin_reg",
          "observed": 11.5,
          "predicted": 11.591557069277503
         },
         {
          "model": "lin_reg",
          "observed": 10.5,
          "predicted": 9.979792744991025
         },
         {
          "model": "lin_reg",
          "observed": 10.5,
          "predicted": 10.918016870831043
         },
         {
          "model": "lin_reg",
          "observed": 13.5,
          "predicted": 15.11768253955043
         },
         {
          "model": "lin_reg",
          "observed": 10.5,
          "predicted": 11.247408049714839
         },
         {
          "model": "lin_reg",
          "observed": 15.5,
          "predicted": 14.053108427570276
         },
         {
          "model": "lin_reg",
          "observed": 10.5,
          "predicted": 13.792754568696381
         },
         {
          "model": "lin_reg",
          "observed": 13.5,
          "predicted": 13.500188126116235
         },
         {
          "model": "lin_reg",
          "observed": 19.5,
          "predicted": 11.47552505522475
         },
         {
          "model": "lin_reg",
          "observed": 9.5,
          "predicted": 9.139233838497741
         },
         {
          "model": "lin_reg",
          "observed": 7.5,
          "predicted": 8.513859546469636
         },
         {
          "model": "lin_reg",
          "observed": 9.5,
          "predicted": 11.191816869669521
         },
         {
          "model": "lin_reg",
          "observed": 9.5,
          "predicted": 10.605320208125885
         },
         {
          "model": "lin_reg",
          "observed": 9.5,
          "predicted": 11.45576894567356
         },
         {
          "model": "lin_reg",
          "observed": 11.5,
          "predicted": 14.384560945416576
         },
         {
          "model": "lin_reg",
          "observed": 11.5,
          "predicted": 8.842556340095427
         },
         {
          "model": "lin_reg",
          "observed": 13.5,
          "predicted": 12.213429659960209
         },
         {
          "model": "lin_reg",
          "observed": 14.5,
          "predicted": 14.039671677342369
         },
         {
          "model": "lin_reg",
          "observed": 11.5,
          "predicted": 13.136299635756224
         },
         {
          "model": "lin_reg",
          "observed": 12.5,
          "predicted": 12.146306935020105
         },
         {
          "model": "lin_reg",
          "observed": 14.5,
          "predicted": 13.930504698248354
         },
         {
          "model": "lin_reg",
          "observed": 12.5,
          "predicted": 14.41633149136029
         },
         {
          "model": "lin_reg",
          "observed": 8.5,
          "predicted": 9.8778777978301
         },
         {
          "model": "lin_reg",
          "observed": 8.5,
          "predicted": 9.785998130087052
         },
         {
          "model": "lin_reg",
          "observed": 6.5,
          "predicted": 9.060973498298608
         },
         {
          "model": "lin_reg",
          "observed": 7.5,
          "predicted": 8.664787363282453
         },
         {
          "model": "lin_reg",
          "observed": 11.5,
          "predicted": 11.470591820048565
         },
         {
          "model": "lin_reg",
          "observed": 9.5,
          "predicted": 10.632315990408223
         },
         {
          "model": "lin_reg",
          "observed": 8.5,
          "predicted": 10.344763133951993
         },
         {
          "model": "lin_reg",
          "observed": 10.5,
          "predicted": 13.759051004698417
         },
         {
          "model": "lin_reg",
          "observed": 9.5,
          "predicted": 11.645269057838872
         },
         {
          "model": "lin_reg",
          "observed": 11.5,
          "predicted": 15.086924113884168
         },
         {
          "model": "lin_reg",
          "observed": 7.5,
          "predicted": 7.396195160328908
         },
         {
          "model": "lin_reg",
          "observed": 8.5,
          "predicted": 8.367797581830523
         },
         {
          "model": "lin_reg",
          "observed": 8.5,
          "predicted": 9.696999291666838
         },
         {
          "model": "lin_reg",
          "observed": 16.5,
          "predicted": 11.580492474723323
         },
         {
          "model": "lin_reg",
          "observed": 10.5,
          "predicted": 12.253637618890956
         },
         {
          "model": "lin_reg",
          "observed": 12.5,
          "predicted": 12.566659112075275
         },
         {
          "model": "lin_reg",
          "observed": 9.5,
          "predicted": 9.688294493879937
         },
         {
          "model": "lin_reg",
          "observed": 11.5,
          "predicted": 9.620612860711635
         },
         {
          "model": "lin_reg",
          "observed": 11.5,
          "predicted": 11.068370241820844
         },
         {
          "model": "lin_reg",
          "observed": 8.5,
          "predicted": 9.86490539299469
         },
         {
          "model": "lin_reg",
          "observed": 13.5,
          "predicted": 9.746061683885948
         },
         {
          "model": "lin_reg",
          "observed": 9.5,
          "predicted": 10.371802165548507
         },
         {
          "model": "lin_reg",
          "observed": 10.5,
          "predicted": 16.094609850462138
         },
         {
          "model": "lin_reg",
          "observed": 16.5,
          "predicted": 14.255147525413305
         },
         {
          "model": "lin_reg",
          "observed": 9.5,
          "predicted": 9.245245797202102
         },
         {
          "model": "lin_reg",
          "observed": 11.5,
          "predicted": 12.19113554315819
         },
         {
          "model": "lin_reg",
          "observed": 7.5,
          "predicted": 8.724867865182334
         },
         {
          "model": "lin_reg",
          "observed": 10.5,
          "predicted": 9.766189649808156
         },
         {
          "model": "lin_reg",
          "observed": 12.5,
          "predicted": 12.77243568418273
         },
         {
          "model": "lin_reg",
          "observed": 8.5,
          "predicted": 8.014820787067357
         },
         {
          "model": "lin_reg",
          "observed": 9.5,
          "predicted": 9.247691052475464
         },
         {
          "model": "lin_reg",
          "observed": 9.5,
          "predicted": 10.71463752435698
         },
         {
          "model": "lin_reg",
          "observed": 9.5,
          "predicted": 10.528018923628292
         },
         {
          "model": "lin_reg",
          "observed": 11.5,
          "predicted": 13.654640766980375
         },
         {
          "model": "lin_reg",
          "observed": 9.5,
          "predicted": 12.197410014997462
         },
         {
          "model": "lin_reg",
          "observed": 24.5,
          "predicted": 16.853651768313423
         },
         {
          "model": "lin_reg",
          "observed": 7.5,
          "predicted": 9.938093096452995
         },
         {
          "model": "lin_reg",
          "observed": 13.5,
          "predicted": 21.04827974506621
         },
         {
          "model": "lin_reg",
          "observed": 14.5,
          "predicted": 13.114994753230096
         },
         {
          "model": "lin_reg",
          "observed": 7.5,
          "predicted": 8.692293898257638
         },
         {
          "model": "lin_reg",
          "observed": 12.5,
          "predicted": 12.922618073504658
         },
         {
          "model": "lin_reg",
          "observed": 10.5,
          "predicted": 11.11458466948002
         },
         {
          "model": "lin_reg",
          "observed": 20.5,
          "predicted": 16.629056726568177
         },
         {
          "model": "lin_reg",
          "observed": 7.5,
          "predicted": 8.48012019513181
         },
         {
          "model": "lin_reg",
          "observed": 9.5,
          "predicted": 11.160576486430344
         },
         {
          "model": "lin_reg",
          "observed": 13.5,
          "predicted": 11.482325883528363
         },
         {
          "model": "lin_reg",
          "observed": 8.5,
          "predicted": 10.181664135962407
         },
         {
          "model": "lin_reg",
          "observed": 9.5,
          "predicted": 9.35769544206191
         },
         {
          "model": "lin_reg",
          "observed": 10.5,
          "predicted": 11.296691062094052
         },
         {
          "model": "lin_reg",
          "observed": 10.5,
          "predicted": 8.708949936993942
         },
         {
          "model": "lin_reg",
          "observed": 6.5,
          "predicted": 7.837631183989187
         },
         {
          "model": "lin_reg",
          "observed": 11.5,
          "predicted": 14.108552508108069
         },
         {
          "model": "lin_reg",
          "observed": 12.5,
          "predicted": 12.502195878182658
         },
         {
          "model": "lin_reg",
          "observed": 10.5,
          "predicted": 9.83393687470595
         },
         {
          "model": "lin_reg",
          "observed": 11.5,
          "predicted": 12.37238666438772
         },
         {
          "model": "lin_reg",
          "observed": 7.5,
          "predicted": 11.314560199700685
         },
         {
          "model": "lin_reg",
          "observed": 7.5,
          "predicted": 9.096124991649502
         },
         {
          "model": "lin_reg",
          "observed": 7.5,
          "predicted": 8.945304105855925
         },
         {
          "model": "lin_reg",
          "observed": 12.5,
          "predicted": 15.183247615656484
         },
         {
          "model": "lin_reg",
          "observed": 9.5,
          "predicted": 10.279319679635222
         },
         {
          "model": "lin_reg",
          "observed": 11.5,
          "predicted": 13.416656536321275
         },
         {
          "model": "lin_reg",
          "observed": 10.5,
          "predicted": 11.476605344042762
         },
         {
          "model": "lin_reg",
          "observed": 9.5,
          "predicted": 10.32052895363704
         },
         {
          "model": "lin_reg",
          "observed": 8.5,
          "predicted": 10.01281004945536
         },
         {
          "model": "lin_reg",
          "observed": 10.5,
          "predicted": 9.496408134419932
         },
         {
          "model": "lin_reg",
          "observed": 12.5,
          "predicted": 14.533820934543845
         },
         {
          "model": "lin_reg",
          "observed": 13.5,
          "predicted": 9.739049121616777
         },
         {
          "model": "lin_reg",
          "observed": 16.5,
          "predicted": 11.97659995740202
         },
         {
          "model": "lin_reg",
          "observed": 14.5,
          "predicted": 15.776390517414507
         },
         {
          "model": "lin_reg",
          "observed": 10.5,
          "predicted": 11.126318282669283
         },
         {
          "model": "lin_reg",
          "observed": 9.5,
          "predicted": 12.777747280201414
         },
         {
          "model": "lin_reg",
          "observed": 9.5,
          "predicted": 11.111099126340287
         },
         {
          "model": "lin_reg",
          "observed": 8.5,
          "predicted": 10.31129345349883
         },
         {
          "model": "lin_reg",
          "observed": 9.5,
          "predicted": 10.683671366257748
         },
         {
          "model": "lin_reg",
          "observed": 8.5,
          "predicted": 8.151262521776344
         },
         {
          "model": "lin_reg",
          "observed": 12.5,
          "predicted": 11.61413414847895
         },
         {
          "model": "lin_reg",
          "observed": 12.5,
          "predicted": 11.14384288569505
         },
         {
          "model": "lin_reg",
          "observed": 11.5,
          "predicted": 14.056558352541757
         },
         {
          "model": "lin_reg",
          "observed": 10.5,
          "predicted": 13.510572244462386
         },
         {
          "model": "lin_reg",
          "observed": 13.5,
          "predicted": 12.516736061791962
         },
         {
          "model": "lin_reg",
          "observed": 15.5,
          "predicted": 12.790740444598812
         },
         {
          "model": "lin_reg",
          "observed": 10.5,
          "predicted": 14.011042079833636
         },
         {
          "model": "lin_reg",
          "observed": 10.5,
          "predicted": 11.04028869224698
         },
         {
          "model": "lin_reg",
          "observed": 6.5,
          "predicted": 7.530292730008906
         },
         {
          "model": "lin_reg",
          "observed": 10.5,
          "predicted": 12.822823824746903
         },
         {
          "model": "lin_reg",
          "observed": 5.5,
          "predicted": 7.340856055326535
         },
         {
          "model": "lin_reg",
          "observed": 8.5,
          "predicted": 8.184673687335977
         },
         {
          "model": "lin_reg",
          "observed": 12.5,
          "predicted": 12.098365593579224
         },
         {
          "model": "lin_reg",
          "observed": 10.5,
          "predicted": 11.026783954948224
         },
         {
          "model": "lin_reg",
          "observed": 8.5,
          "predicted": 7.507260369073991
         },
         {
          "model": "lin_reg",
          "observed": 7.5,
          "predicted": 8.976437202849683
         },
         {
          "model": "lin_reg",
          "observed": 13.5,
          "predicted": 11.880149453134099
         },
         {
          "model": "lin_reg",
          "observed": 10.5,
          "predicted": 12.25011586134649
         },
         {
          "model": "lin_reg",
          "observed": 9.5,
          "predicted": 8.098981298181172
         },
         {
          "model": "lin_reg",
          "observed": 10.5,
          "predicted": 12.394526434340792
         },
         {
          "model": "lin_reg",
          "observed": 14.5,
          "predicted": 14.5242602679145
         },
         {
          "model": "lin_reg",
          "observed": 9.5,
          "predicted": 10.008217483587252
         },
         {
          "model": "lin_reg",
          "observed": 7.5,
          "predicted": 10.722106734569035
         },
         {
          "model": "lin_reg",
          "observed": 4.5,
          "predicted": 7.344532317626018
         },
         {
          "model": "lin_reg",
          "observed": 8.5,
          "predicted": 11.36679059812434
         },
         {
          "model": "lin_reg",
          "observed": 7.5,
          "predicted": 8.896180215160255
         },
         {
          "model": "lin_reg",
          "observed": 19.5,
          "predicted": 13.140880532501281
         },
         {
          "model": "lin_reg",
          "observed": 9.5,
          "predicted": 8.614829934835289
         },
         {
          "model": "lin_reg",
          "observed": 7.5,
          "predicted": 8.105287938531928
         },
         {
          "model": "lin_reg",
          "observed": 12.5,
          "predicted": 12.449737853500384
         },
         {
          "model": "lin_reg",
          "observed": 11.5,
          "predicted": 15.024074239855022
         },
         {
          "model": "lin_reg",
          "observed": 12.5,
          "predicted": 11.886199539377765
         },
         {
          "model": "lin_reg",
          "observed": 10.5,
          "predicted": 13.476551702670395
         },
         {
          "model": "lin_reg",
          "observed": 10.5,
          "predicted": 10.578863342022267
         },
         {
          "model": "lin_reg",
          "observed": 15.5,
          "predicted": 13.663183260390504
         },
         {
          "model": "lin_reg",
          "observed": 9.5,
          "predicted": 9.910338711786338
         },
         {
          "model": "lin_reg",
          "observed": 12.5,
          "predicted": 13.989165519182965
         },
         {
          "model": "lin_reg",
          "observed": 12.5,
          "predicted": 13.766431576081178
         },
         {
          "model": "lin_reg",
          "observed": 14.5,
          "predicted": 12.456449173118598
         },
         {
          "model": "lin_reg",
          "observed": 11.5,
          "predicted": 11.64185804328502
         },
         {
          "model": "lin_reg",
          "observed": 10.5,
          "predicted": 11.030195287760527
         },
         {
          "model": "lin_reg",
          "observed": 11.5,
          "predicted": 15.855056840844533
         },
         {
          "model": "lin_reg",
          "observed": 8.5,
          "predicted": 10.248378884835567
         },
         {
          "model": "lin_reg",
          "observed": 12.5,
          "predicted": 12.027888983266852
         },
         {
          "model": "lin_reg",
          "observed": 21.5,
          "predicted": 15.073996123929735
         },
         {
          "model": "lin_reg",
          "observed": 7.5,
          "predicted": 8.716208483129371
         },
         {
          "model": "lin_reg",
          "observed": 9.5,
          "predicted": 11.646261485602823
         },
         {
          "model": "lin_reg",
          "observed": 6.5,
          "predicted": 7.743694492124836
         },
         {
          "model": "lin_reg",
          "observed": 11.5,
          "predicted": 9.003033134251336
         },
         {
          "model": "lin_reg",
          "observed": 14.5,
          "predicted": 13.1133595601054
         },
         {
          "model": "lin_reg",
          "observed": 11.5,
          "predicted": 11.52297248649683
         },
         {
          "model": "lin_reg",
          "observed": 10.5,
          "predicted": 13.023064908510307
         },
         {
          "model": "lin_reg",
          "observed": 11.5,
          "predicted": 12.813088476369678
         },
         {
          "model": "lin_reg",
          "observed": 11.5,
          "predicted": 14.515106164201843
         },
         {
          "model": "lin_reg",
          "observed": 13.5,
          "predicted": 11.002333045916805
         },
         {
          "model": "lin_reg",
          "observed": 9.5,
          "predicted": 9.386861949029603
         },
         {
          "model": "lin_reg",
          "observed": 11.5,
          "predicted": 13.366226970773994
         },
         {
          "model": "lin_reg",
          "observed": 12.5,
          "predicted": 8.81110690199501
         },
         {
          "model": "lin_reg",
          "observed": 7.5,
          "predicted": 8.432479420155632
         },
         {
          "model": "lin_reg",
          "observed": 13.5,
          "predicted": 13.398558265710868
         },
         {
          "model": "lin_reg",
          "observed": 9.5,
          "predicted": 10.31699343314822
         },
         {
          "model": "lin_reg",
          "observed": 8.5,
          "predicted": 9.581844443051342
         },
         {
          "model": "lin_reg",
          "observed": 14.5,
          "predicted": 14.369119749163898
         },
         {
          "model": "lin_reg",
          "observed": 12.5,
          "predicted": 12.377169707447475
         },
         {
          "model": "lin_reg",
          "observed": 13.5,
          "predicted": 11.816286054665053
         },
         {
          "model": "lin_reg",
          "observed": 12.5,
          "predicted": 12.265201057603647
         },
         {
          "model": "lin_reg",
          "observed": 10.5,
          "predicted": 12.132510665619767
         },
         {
          "model": "lin_reg",
          "observed": 12.5,
          "predicted": 14.245695917144653
         },
         {
          "model": "lin_reg",
          "observed": 12.5,
          "predicted": 11.597761295861362
         },
         {
          "model": "lin_reg",
          "observed": 7.5,
          "predicted": 7.23731616642071
         },
         {
          "model": "lin_reg",
          "observed": 9.5,
          "predicted": 9.749839189178324
         },
         {
          "model": "lin_reg",
          "observed": 7.5,
          "predicted": 8.137596570726004
         },
         {
          "model": "lin_reg",
          "observed": 8.5,
          "predicted": 7.473029767817761
         },
         {
          "model": "lin_reg",
          "observed": 9.5,
          "predicted": 9.48091334361472
         },
         {
          "model": "lin_reg",
          "observed": 9.5,
          "predicted": 10.919566715388278
         },
         {
          "model": "lin_reg",
          "observed": 12.5,
          "predicted": 12.231024803225715
         },
         {
          "model": "lin_reg",
          "observed": 5.5,
          "predicted": 6.78414029371862
         },
         {
          "model": "lin_reg",
          "observed": 11.5,
          "predicted": 13.241196071420363
         },
         {
          "model": "lin_reg",
          "observed": 7.5,
          "predicted": 8.708253435955157
         },
         {
          "model": "lin_reg",
          "observed": 13.5,
          "predicted": 10.287590730477827
         },
         {
          "model": "lin_reg",
          "observed": 11.5,
          "predicted": 12.009983714785747
         },
         {
          "model": "lin_reg",
          "observed": 13.5,
          "predicted": 12.53648564342692
         },
         {
          "model": "lin_reg",
          "observed": 10.5,
          "predicted": 9.215613169494976
         },
         {
          "model": "lin_reg",
          "observed": 18.5,
          "predicted": 12.616835895900316
         },
         {
          "model": "lin_reg",
          "observed": 12.5,
          "predicted": 12.911712014458985
         },
         {
          "model": "lin_reg",
          "observed": 9.5,
          "predicted": 11.37167060087499
         },
         {
          "model": "lin_reg",
          "observed": 10.5,
          "predicted": 10.03421817231073
         },
         {
          "model": "lin_reg",
          "observed": 8.5,
          "predicted": 8.436284186591255
         },
         {
          "model": "lin_reg",
          "observed": 11.5,
          "predicted": 10.091108022851177
         },
         {
          "model": "lin_reg",
          "observed": 11.5,
          "predicted": 13.148034031750619
         },
         {
          "model": "lin_reg",
          "observed": 13.5,
          "predicted": 13.581200591723256
         },
         {
          "model": "lin_reg",
          "observed": 12.5,
          "predicted": 12.607127605602273
         },
         {
          "model": "lin_reg",
          "observed": 11.5,
          "predicted": 13.047862110035577
         },
         {
          "model": "lin_reg",
          "observed": 14.5,
          "predicted": 12.982066912310623
         },
         {
          "model": "lin_reg",
          "observed": 10.5,
          "predicted": 12.847935480722846
         },
         {
          "model": "lin_reg",
          "observed": 9.5,
          "predicted": 11.391801569645986
         },
         {
          "model": "lin_reg",
          "observed": 16.5,
          "predicted": 16.07041138889691
         },
         {
          "model": "lin_reg",
          "observed": 9.5,
          "predicted": 9.337280443585332
         },
         {
          "model": "lin_reg",
          "observed": 6.5,
          "predicted": 8.52095321971252
         },
         {
          "model": "lin_reg",
          "observed": 10.5,
          "predicted": 12.019953684449327
         },
         {
          "model": "lin_reg",
          "observed": 11.5,
          "predicted": 13.344546325646228
         },
         {
          "model": "lin_reg",
          "observed": 12.5,
          "predicted": 13.453787579542269
         },
         {
          "model": "lin_reg",
          "observed": 8.5,
          "predicted": 8.641145771363146
         },
         {
          "model": "lin_reg",
          "observed": 27.5,
          "predicted": 15.827052107083963
         },
         {
          "model": "lin_reg",
          "observed": 10.5,
          "predicted": 12.274539486894472
         },
         {
          "model": "lin_reg",
          "observed": 10.5,
          "predicted": 10.645118098210435
         },
         {
          "model": "lin_reg",
          "observed": 9.5,
          "predicted": 10.63009452803181
         },
         {
          "model": "lin_reg",
          "observed": 22.5,
          "predicted": 18.06023498353017
         },
         {
          "model": "lin_reg",
          "observed": 9.5,
          "predicted": 9.992658532354394
         },
         {
          "model": "lin_reg",
          "observed": 7.5,
          "predicted": 6.670794929295475
         },
         {
          "model": "lin_reg",
          "observed": 13.5,
          "predicted": 14.33719559970331
         },
         {
          "model": "lin_reg",
          "observed": 12.5,
          "predicted": 10.358737821677437
         },
         {
          "model": "lin_reg",
          "observed": 12.5,
          "predicted": 11.703592351201307
         },
         {
          "model": "lin_reg",
          "observed": 18.5,
          "predicted": 16.298784915666644
         },
         {
          "model": "lin_reg",
          "observed": 12.5,
          "predicted": 13.647565171908637
         },
         {
          "model": "lin_reg",
          "observed": 12.5,
          "predicted": 13.78061517137489
         },
         {
          "model": "lin_reg",
          "observed": 6.5,
          "predicted": 6.514586061141939
         },
         {
          "model": "lin_reg",
          "observed": 11.5,
          "predicted": 12.057404227359436
         },
         {
          "model": "lin_reg",
          "observed": 6.5,
          "predicted": 8.497216602504315
         },
         {
          "model": "lin_reg",
          "observed": 9.5,
          "predicted": 8.907194336824203
         },
         {
          "model": "lin_reg",
          "observed": 13.5,
          "predicted": 12.314184189179226
         },
         {
          "model": "lin_reg",
          "observed": 13.5,
          "predicted": 12.961554925678048
         },
         {
          "model": "lin_reg",
          "observed": 10.5,
          "predicted": 13.142446381536177
         },
         {
          "model": "lin_reg",
          "observed": 7.5,
          "predicted": 8.005686773153927
         },
         {
          "model": "lin_reg",
          "observed": 8.5,
          "predicted": 8.44735471242642
         },
         {
          "model": "lin_reg",
          "observed": 15.5,
          "predicted": 10.959478839432087
         },
         {
          "model": "lin_reg",
          "observed": 11.5,
          "predicted": 16.077578567954298
         },
         {
          "model": "lin_reg",
          "observed": 9.5,
          "predicted": 9.761334848564804
         },
         {
          "model": "lin_reg",
          "observed": 22.5,
          "predicted": 18.516878900613477
         },
         {
          "model": "lin_reg",
          "observed": 11.5,
          "predicted": 16.39921347327865
         },
         {
          "model": "lin_reg",
          "observed": 9.5,
          "predicted": 10.491930755792197
         },
         {
          "model": "lin_reg",
          "observed": 7.5,
          "predicted": 9.316861325201458
         },
         {
          "model": "lin_reg",
          "observed": 12.5,
          "predicted": 13.05659112379856
         },
         {
          "model": "lin_reg",
          "observed": 10.5,
          "predicted": 10.978747640066292
         },
         {
          "model": "lin_reg",
          "observed": 15.5,
          "predicted": 12.563916583682614
         },
         {
          "model": "lin_reg",
          "observed": 11.5,
          "predicted": 11.380314550145199
         },
         {
          "model": "lin_reg",
          "observed": 10.5,
          "predicted": 12.135430115198822
         },
         {
          "model": "lin_reg",
          "observed": 9.5,
          "predicted": 12.849555778902364
         },
         {
          "model": "lin_reg",
          "observed": 11.5,
          "predicted": 12.53484295770626
         },
         {
          "model": "lin_reg",
          "observed": 10.5,
          "predicted": 10.3142584976694
         },
         {
          "model": "lin_reg",
          "observed": 12.5,
          "predicted": 10.623467428557051
         },
         {
          "model": "lin_reg",
          "observed": 12.5,
          "predicted": 15.088370601261916
         },
         {
          "model": "lin_reg",
          "observed": 9.5,
          "predicted": 11.630357676419775
         },
         {
          "model": "lin_reg",
          "observed": 10.5,
          "predicted": 9.712747566461118
         },
         {
          "model": "lin_reg",
          "observed": 6.5,
          "predicted": 6.9181632619387665
         },
         {
          "model": "lin_reg",
          "observed": 14.5,
          "predicted": 10.149367967617982
         },
         {
          "model": "lin_reg",
          "observed": 13.5,
          "predicted": 10.968222547525466
         },
         {
          "model": "lin_reg",
          "observed": 10.5,
          "predicted": 11.502595982869675
         },
         {
          "model": "lin_reg",
          "observed": 6.5,
          "predicted": 6.685050643409352
         },
         {
          "model": "lin_reg",
          "observed": 10.5,
          "predicted": 10.635364136913182
         },
         {
          "model": "lin_reg",
          "observed": 8.5,
          "predicted": 10.681412070240922
         },
         {
          "model": "lin_reg",
          "observed": 14.5,
          "predicted": 11.954394867813502
         },
         {
          "model": "lin_reg",
          "observed": 11.5,
          "predicted": 12.8577283558478
         },
         {
          "model": "lin_reg",
          "observed": 9.5,
          "predicted": 11.290944136569042
         },
         {
          "model": "lin_reg",
          "observed": 9.5,
          "predicted": 10.778027119933796
         },
         {
          "model": "lin_reg",
          "observed": 9.5,
          "predicted": 11.750745421325874
         },
         {
          "model": "lin_reg",
          "observed": 11.5,
          "predicted": 11.995727586451896
         },
         {
          "model": "lin_reg",
          "observed": 14.5,
          "predicted": 13.08863733038892
         },
         {
          "model": "lin_reg",
          "observed": 8.5,
          "predicted": 9.137082985106918
         },
         {
          "model": "lin_reg",
          "observed": 23.5,
          "predicted": 14.982014072496156
         },
         {
          "model": "lin_reg",
          "observed": 9.5,
          "predicted": 10.641546885563377
         },
         {
          "model": "lin_reg",
          "observed": 8.5,
          "predicted": 9.568686152060693
         },
         {
          "model": "lin_reg",
          "observed": 9.5,
          "predicted": 9.491798888197428
         },
         {
          "model": "lin_reg",
          "observed": 9.5,
          "predicted": 8.83040378401838
         },
         {
          "model": "lin_reg",
          "observed": 11.5,
          "predicted": 10.266878342483583
         },
         {
          "model": "lin_reg",
          "observed": 13.5,
          "predicted": 12.605204764580467
         },
         {
          "model": "lin_reg",
          "observed": 11.5,
          "predicted": 11.052001470755357
         },
         {
          "model": "lin_reg",
          "observed": 12.5,
          "predicted": 11.37409654535016
         },
         {
          "model": "lin_reg",
          "observed": 7.5,
          "predicted": 8.317293240828727
         },
         {
          "model": "lin_reg",
          "observed": 10.5,
          "predicted": 11.185852605221097
         },
         {
          "model": "lin_reg",
          "observed": 7.5,
          "predicted": 7.932299784450092
         },
         {
          "model": "lin_reg",
          "observed": 12.5,
          "predicted": 12.656208499091928
         },
         {
          "model": "lin_reg",
          "observed": 12.5,
          "predicted": 13.462677465652607
         },
         {
          "model": "lin_reg",
          "observed": 11.5,
          "predicted": 13.203043643349819
         },
         {
          "model": "lin_reg",
          "observed": 11.5,
          "predicted": 12.990331511142609
         },
         {
          "model": "lin_reg",
          "observed": 10.5,
          "predicted": 11.88107294979082
         },
         {
          "model": "lin_reg",
          "observed": 12.5,
          "predicted": 12.297668349243928
         },
         {
          "model": "lin_reg",
          "observed": 10.5,
          "predicted": 12.312650853961092
         },
         {
          "model": "lin_reg",
          "observed": 13.5,
          "predicted": 12.2563817464195
         },
         {
          "model": "lin_reg",
          "observed": 11.5,
          "predicted": 12.162778708783186
         },
         {
          "model": "lin_reg",
          "observed": 10.5,
          "predicted": 11.746766237879836
         },
         {
          "model": "lin_reg",
          "observed": 14.5,
          "predicted": 11.102093809739838
         },
         {
          "model": "lin_reg",
          "observed": 8.5,
          "predicted": 9.889063310688856
         },
         {
          "model": "lin_reg",
          "observed": 12.5,
          "predicted": 11.17936564913201
         },
         {
          "model": "lin_reg",
          "observed": 5.5,
          "predicted": 6.126727107315252
         },
         {
          "model": "lin_reg",
          "observed": 9.5,
          "predicted": 11.369535323255757
         },
         {
          "model": "lin_reg",
          "observed": 11.5,
          "predicted": 16.2117510828096
         },
         {
          "model": "lin_reg",
          "observed": 11.5,
          "predicted": 11.911720079781556
         },
         {
          "model": "lin_reg",
          "observed": 10.5,
          "predicted": 12.110320850868991
         },
         {
          "model": "lin_reg",
          "observed": 15.5,
          "predicted": 12.6178928578433
         },
         {
          "model": "lin_reg",
          "observed": 8.5,
          "predicted": 9.779845096415208
         },
         {
          "model": "lin_reg",
          "observed": 10.5,
          "predicted": 11.301477015677094
         },
         {
          "model": "lin_reg",
          "observed": 10.5,
          "predicted": 8.922794155200853
         },
         {
          "model": "lin_reg",
          "observed": 9.5,
          "predicted": 10.700137676397894
         },
         {
          "model": "lin_reg",
          "observed": 12.5,
          "predicted": 14.017901851776967
         },
         {
          "model": "lin_reg",
          "observed": 17.5,
          "predicted": 13.482952322636933
         },
         {
          "model": "lin_reg",
          "observed": 12.5,
          "predicted": 12.485808211578597
         },
         {
          "model": "lin_reg",
          "observed": 13.5,
          "predicted": 9.81691866718121
         },
         {
          "model": "lin_reg",
          "observed": 10.5,
          "predicted": 10.003315266411763
         },
         {
          "model": "lin_reg",
          "observed": 11.5,
          "predicted": 10.637899372443696
         },
         {
          "model": "lin_reg",
          "observed": 16.5,
          "predicted": 14.41667604065595
         },
         {
          "model": "lin_reg",
          "observed": 13.5,
          "predicted": 12.796511264830135
         },
         {
          "model": "lin_reg",
          "observed": 11.5,
          "predicted": 12.063228889745996
         },
         {
          "model": "lin_reg",
          "observed": 10.5,
          "predicted": 10.465058127336293
         },
         {
          "model": "lin_reg",
          "observed": 5.5,
          "predicted": 7.15137323630049
         },
         {
          "model": "lin_reg",
          "observed": 17.5,
          "predicted": 22.243154337073555
         },
         {
          "model": "lin_reg",
          "observed": 18.5,
          "predicted": 13.237876325081011
         },
         {
          "model": "lin_reg",
          "observed": 10.5,
          "predicted": 11.102731373470535
         },
         {
          "model": "lin_reg",
          "observed": 11.5,
          "predicted": 13.831854635395548
         },
         {
          "model": "lin_reg",
          "observed": 9.5,
          "predicted": 11.079965529156073
         },
         {
          "model": "lin_reg",
          "observed": 10.5,
          "predicted": 10.951613403480277
         },
         {
          "model": "lin_reg",
          "observed": 6.5,
          "predicted": 7.85543213381731
         },
         {
          "model": "lin_reg",
          "observed": 12.5,
          "predicted": 12.686824103442822
         },
         {
          "model": "lin_reg",
          "observed": 16.5,
          "predicted": 10.577027401736382
         },
         {
          "model": "lin_reg",
          "observed": 10.5,
          "predicted": 12.408155425882098
         },
         {
          "model": "lin_reg",
          "observed": 10.5,
          "predicted": 12.618136432867178
         },
         {
          "model": "lin_reg",
          "observed": 11.5,
          "predicted": 10.201673451323577
         },
         {
          "model": "lin_reg",
          "observed": 7.5,
          "predicted": 6.5145358452677025
         },
         {
          "model": "lin_reg",
          "observed": 14.5,
          "predicted": 14.466751942794245
         },
         {
          "model": "lin_reg",
          "observed": 11.5,
          "predicted": 11.839871822963001
         },
         {
          "model": "lin_reg",
          "observed": 13.5,
          "predicted": 10.169252695348248
         },
         {
          "model": "lin_reg",
          "observed": 12.5,
          "predicted": 15.728809413277206
         },
         {
          "model": "lin_reg",
          "observed": 11.5,
          "predicted": 9.157845201365365
         },
         {
          "model": "lin_reg",
          "observed": 8.5,
          "predicted": 10.722956384800746
         },
         {
          "model": "lin_reg",
          "observed": 13.5,
          "predicted": 14.854048323353316
         },
         {
          "model": "lin_reg",
          "observed": 14.5,
          "predicted": 10.64429919346056
         },
         {
          "model": "lin_reg",
          "observed": 15.5,
          "predicted": 14.734585195037234
         },
         {
          "model": "lin_reg",
          "observed": 6.5,
          "predicted": 9.368756482449296
         },
         {
          "model": "lin_reg",
          "observed": 10.5,
          "predicted": 11.659079195244194
         },
         {
          "model": "lin_reg",
          "observed": 12.5,
          "predicted": 13.419567629279571
         },
         {
          "model": "lin_reg",
          "observed": 10.5,
          "predicted": 11.255732135584159
         },
         {
          "model": "lin_reg",
          "observed": 10.5,
          "predicted": 12.556674988253684
         },
         {
          "model": "lin_reg",
          "observed": 11.5,
          "predicted": 10.365614737015312
         },
         {
          "model": "lin_reg",
          "observed": 8.5,
          "predicted": 10.689149707865392
         },
         {
          "model": "lin_reg",
          "observed": 11.5,
          "predicted": 11.947777856659034
         },
         {
          "model": "lin_reg",
          "observed": 10.5,
          "predicted": 12.105411788441218
         },
         {
          "model": "lin_reg",
          "observed": 10.5,
          "predicted": 10.887381028761194
         },
         {
          "model": "lin_reg",
          "observed": 7.5,
          "predicted": 9.253351456449606
         },
         {
          "model": "lin_reg",
          "observed": 19.5,
          "predicted": 14.110160094822843
         },
         {
          "model": "lin_reg",
          "observed": 14.5,
          "predicted": 13.62804955695847
         },
         {
          "model": "lin_reg",
          "observed": 8.5,
          "predicted": 9.811528681895279
         },
         {
          "model": "lin_reg",
          "observed": 8.5,
          "predicted": 9.835845101745365
         },
         {
          "model": "lin_reg",
          "observed": 11.5,
          "predicted": 12.72945903578216
         },
         {
          "model": "lin_reg",
          "observed": 7.5,
          "predicted": 7.856859192972802
         },
         {
          "model": "lin_reg",
          "observed": 12.5,
          "predicted": 12.280947556683815
         },
         {
          "model": "lin_reg",
          "observed": 8.5,
          "predicted": 9.107902538297498
         },
         {
          "model": "lin_reg",
          "observed": 13.5,
          "predicted": 12.584845750907624
         },
         {
          "model": "lin_reg",
          "observed": 11.5,
          "predicted": 10.592101379881193
         },
         {
          "model": "lin_reg",
          "observed": 12.5,
          "predicted": 11.339512282852228
         },
         {
          "model": "lin_reg",
          "observed": 11.5,
          "predicted": 11.33793526442856
         },
         {
          "model": "lin_reg",
          "observed": 12.5,
          "predicted": 11.249275194490657
         },
         {
          "model": "lin_reg",
          "observed": 10.5,
          "predicted": 10.770436647649596
         },
         {
          "model": "lin_reg",
          "observed": 11.5,
          "predicted": 9.960252150281674
         },
         {
          "model": "lin_reg",
          "observed": 6.5,
          "predicted": 6.964491550531741
         },
         {
          "model": "lin_reg",
          "observed": 11.5,
          "predicted": 13.460135043015843
         },
         {
          "model": "lin_reg",
          "observed": 10.5,
          "predicted": 11.36891133944046
         },
         {
          "model": "lin_reg",
          "observed": 17.5,
          "predicted": 15.085074944701287
         },
         {
          "model": "lin_reg",
          "observed": 6.5,
          "predicted": 7.638314305777596
         },
         {
          "model": "lin_reg",
          "observed": 9.5,
          "predicted": 10.418729124204454
         },
         {
          "model": "lin_reg",
          "observed": 8.5,
          "predicted": 8.513814636068432
         },
         {
          "model": "lin_reg",
          "observed": 7.5,
          "predicted": 8.404143861275186
         },
         {
          "model": "lin_reg",
          "observed": 14.5,
          "predicted": 12.791055358079056
         },
         {
          "model": "lin_reg",
          "observed": 12.5,
          "predicted": 15.307599872974674
         },
         {
          "model": "lin_reg",
          "observed": 11.5,
          "predicted": 9.109725103309561
         },
         {
          "model": "lin_reg",
          "observed": 16.5,
          "predicted": 17.04223320792556
         },
         {
          "model": "lin_reg",
          "observed": 10.5,
          "predicted": 12.505201690962423
         },
         {
          "model": "lin_reg",
          "observed": 14.5,
          "predicted": 14.6242011078604
         },
         {
          "model": "lin_reg",
          "observed": 12.5,
          "predicted": 11.78812945014667
         },
         {
          "model": "lin_reg",
          "observed": 9.5,
          "predicted": 10.999479652689466
         },
         {
          "model": "lin_reg",
          "observed": 9.5,
          "predicted": 10.612846115577629
         },
         {
          "model": "lin_reg",
          "observed": 9.5,
          "predicted": 10.748541436750918
         },
         {
          "model": "lin_reg",
          "observed": 10.5,
          "predicted": 12.053192829147994
         },
         {
          "model": "lin_reg",
          "observed": 8.5,
          "predicted": 7.990180010073238
         },
         {
          "model": "lin_reg",
          "observed": 13.5,
          "predicted": 12.69305053589361
         },
         {
          "model": "lin_reg",
          "observed": 8.5,
          "predicted": 8.656926656476273
         },
         {
          "model": "lin_reg",
          "observed": 10.5,
          "predicted": 10.561042766383341
         },
         {
          "model": "lin_reg",
          "observed": 11.5,
          "predicted": 9.467107673574855
         },
         {
          "model": "lin_reg",
          "observed": 10.5,
          "predicted": 13.139881776494704
         },
         {
          "model": "lin_reg",
          "observed": 9.5,
          "predicted": 11.138148289481313
         },
         {
          "model": "lin_reg",
          "observed": 9.5,
          "predicted": 10.76547959497999
         },
         {
          "model": "lin_reg",
          "observed": 6.5,
          "predicted": 7.7811151413167785
         },
         {
          "model": "lin_reg",
          "observed": 11.5,
          "predicted": 12.333565674017775
         },
         {
          "model": "lin_reg",
          "observed": 7.5,
          "predicted": 8.97267025980037
         },
         {
          "model": "lin_reg",
          "observed": 14.5,
          "predicted": 11.637928381193841
         },
         {
          "model": "lin_reg",
          "observed": 11.5,
          "predicted": 10.500175310119507
         },
         {
          "model": "lin_reg",
          "observed": 10.5,
          "predicted": 8.905830619202833
         },
         {
          "model": "lin_reg",
          "observed": 7.5,
          "predicted": 7.875124176438678
         },
         {
          "model": "lin_reg",
          "observed": 11.5,
          "predicted": 12.861413685187447
         },
         {
          "model": "lin_reg",
          "observed": 9.5,
          "predicted": 10.15539645172744
         },
         {
          "model": "lin_reg",
          "observed": 11.5,
          "predicted": 15.967756549929648
         },
         {
          "model": "lin_reg",
          "observed": 13.5,
          "predicted": 13.96067960500127
         },
         {
          "model": "lin_reg",
          "observed": 15.5,
          "predicted": 15.33162345640566
         },
         {
          "model": "lin_reg",
          "observed": 14.5,
          "predicted": 10.59176726667106
         },
         {
          "model": "lin_reg",
          "observed": 12.5,
          "predicted": 12.808067677015135
         },
         {
          "model": "lin_reg",
          "observed": 8.5,
          "predicted": 9.303765049212657
         },
         {
          "model": "lin_reg",
          "observed": 10.5,
          "predicted": 14.145329663718188
         },
         {
          "model": "lin_reg",
          "observed": 7.5,
          "predicted": 6.193730590092288
         },
         {
          "model": "lin_reg",
          "observed": 11.5,
          "predicted": 13.154091240618168
         },
         {
          "model": "lin_reg",
          "observed": 11.5,
          "predicted": 13.735023995336938
         },
         {
          "model": "lin_reg",
          "observed": 15.5,
          "predicted": 15.859037044282683
         },
         {
          "model": "lin_reg",
          "observed": 8.5,
          "predicted": 9.192325639231978
         },
         {
          "model": "lin_reg",
          "observed": 7.5,
          "predicted": 8.390999127605838
         },
         {
          "model": "lin_reg",
          "observed": 8.5,
          "predicted": 10.339445180289761
         },
         {
          "model": "lin_reg",
          "observed": 11.5,
          "predicted": 12.386069841299872
         },
         {
          "model": "lin_reg",
          "observed": 2.5,
          "predicted": 5.339196825372184
         },
         {
          "model": "lin_reg",
          "observed": 9.5,
          "predicted": 9.414221476966437
         },
         {
          "model": "lin_reg",
          "observed": 16.5,
          "predicted": 14.816800187768582
         },
         {
          "model": "lin_reg",
          "observed": 10.5,
          "predicted": 11.984173704824327
         },
         {
          "model": "lin_reg",
          "observed": 7.5,
          "predicted": 8.035955229741274
         },
         {
          "model": "lin_reg",
          "observed": 14.5,
          "predicted": 13.672027184858829
         },
         {
          "model": "lin_reg",
          "observed": 15.5,
          "predicted": 14.014037540129257
         },
         {
          "model": "lin_reg",
          "observed": 15.5,
          "predicted": 12.630468717968958
         },
         {
          "model": "lin_reg",
          "observed": 12.5,
          "predicted": 14.826503860006152
         },
         {
          "model": "lin_reg",
          "observed": 9.5,
          "predicted": 10.231489822033206
         },
         {
          "model": "lin_reg",
          "observed": 11.5,
          "predicted": 11.23705482201452
         },
         {
          "model": "lin_reg",
          "observed": 13.5,
          "predicted": 12.247173159187062
         },
         {
          "model": "lin_reg",
          "observed": 12.5,
          "predicted": 13.27995429787169
         },
         {
          "model": "lin_reg",
          "observed": 11.5,
          "predicted": 12.156812206141684
         },
         {
          "model": "lin_reg",
          "observed": 4.5,
          "predicted": 6.10984207118184
         },
         {
          "model": "lin_reg",
          "observed": 13.5,
          "predicted": 15.011492881212982
         },
         {
          "model": "lin_reg",
          "observed": 11.5,
          "predicted": 11.602757696428343
         },
         {
          "model": "lin_reg",
          "observed": 11.5,
          "predicted": 10.673547602961364
         },
         {
          "model": "lin_reg",
          "observed": 12.5,
          "predicted": 13.537928652406269
         },
         {
          "model": "lin_reg",
          "observed": 8.5,
          "predicted": 9.256623746074805
         },
         {
          "model": "lin_reg",
          "observed": 10.5,
          "predicted": 10.404753083711917
         },
         {
          "model": "lin_reg",
          "observed": 10.5,
          "predicted": 11.298999130852923
         },
         {
          "model": "lin_reg",
          "observed": 11.5,
          "predicted": 12.176034339790812
         },
         {
          "model": "lin_reg",
          "observed": 12.5,
          "predicted": 12.982786534223452
         },
         {
          "model": "lin_reg",
          "observed": 15.5,
          "predicted": 12.648946200905272
         },
         {
          "model": "lin_reg",
          "observed": 11.5,
          "predicted": 11.908926203353944
         },
         {
          "model": "lin_reg",
          "observed": 21.5,
          "predicted": 15.177468321117765
         },
         {
          "model": "lin_reg",
          "observed": 13.5,
          "predicted": 10.315776602060609
         },
         {
          "model": "lin_reg",
          "observed": 8.5,
          "predicted": 8.94499503910644
         },
         {
          "model": "lin_reg",
          "observed": 11.5,
          "predicted": 10.842820146303852
         },
         {
          "model": "lin_reg",
          "observed": 14.5,
          "predicted": 12.289499723790094
         },
         {
          "model": "lin_reg",
          "observed": 14.5,
          "predicted": 13.010214531190174
         },
         {
          "model": "lin_reg",
          "observed": 6.5,
          "predicted": 7.3691990773212765
         },
         {
          "model": "lin_reg",
          "observed": 12.5,
          "predicted": 11.60709588434102
         },
         {
          "model": "lin_reg",
          "observed": 10.5,
          "predicted": 11.019203135473731
         },
         {
          "model": "lin_reg",
          "observed": 12.5,
          "predicted": 6.901347343190175
         },
         {
          "model": "lin_reg",
          "observed": 7.5,
          "predicted": 8.655245838823634
         },
         {
          "model": "lin_reg",
          "observed": 12.5,
          "predicted": 10.974535701739793
         },
         {
          "model": "lin_reg",
          "observed": 10.5,
          "predicted": 9.432835535969081
         },
         {
          "model": "lin_reg",
          "observed": 22.5,
          "predicted": 16.806616312108005
         },
         {
          "model": "lin_reg",
          "observed": 8.5,
          "predicted": 8.655115275081517
         },
         {
          "model": "lin_reg",
          "observed": 9.5,
          "predicted": 9.669507421904202
         },
         {
          "model": "lin_reg",
          "observed": 9.5,
          "predicted": 9.5782479150893
         },
         {
          "model": "lin_reg",
          "observed": 12.5,
          "predicted": 11.262453890538525
         },
         {
          "model": "lin_reg",
          "observed": 13.5,
          "predicted": 12.791183587153942
         },
         {
          "model": "lin_reg",
          "observed": 11.5,
          "predicted": 14.085402851251345
         },
         {
          "model": "lin_reg",
          "observed": 15.5,
          "predicted": 13.108339567070303
         },
         {
          "model": "lin_reg",
          "observed": 14.5,
          "predicted": 13.304632918038193
         },
         {
          "model": "lin_reg",
          "observed": 9.5,
          "predicted": 11.224682690536813
         },
         {
          "model": "lin_reg",
          "observed": 9.5,
          "predicted": 11.638102901689187
         },
         {
          "model": "lin_reg",
          "observed": 6.5,
          "predicted": 9.990027581560248
         },
         {
          "model": "lin_reg",
          "observed": 15.5,
          "predicted": 13.579691726877947
         },
         {
          "model": "lin_reg",
          "observed": 21.5,
          "predicted": 17.297363069914788
         },
         {
          "model": "lin_reg",
          "observed": 12.5,
          "predicted": 10.987544801335233
         },
         {
          "model": "lin_reg",
          "observed": 9.5,
          "predicted": 9.421837002207111
         },
         {
          "model": "lin_reg",
          "observed": 11.5,
          "predicted": 11.717019581630133
         },
         {
          "model": "lin_reg",
          "observed": 7.5,
          "predicted": 7.937777830648675
         },
         {
          "model": "lin_reg",
          "observed": 9.5,
          "predicted": 10.51455038890354
         },
         {
          "model": "lin_reg",
          "observed": 10.5,
          "predicted": 9.281332483950248
         },
         {
          "model": "lin_reg",
          "observed": 16.5,
          "predicted": 13.080409838448372
         },
         {
          "model": "lin_reg",
          "observed": 8.5,
          "predicted": 11.396405568073444
         },
         {
          "model": "lin_reg",
          "observed": 13.5,
          "predicted": 18.21335960053858
         },
         {
          "model": "lin_reg",
          "observed": 8.5,
          "predicted": 9.542893097987914
         },
         {
          "model": "lin_reg",
          "observed": 11.5,
          "predicted": 10.644328678458812
         },
         {
          "model": "lin_reg",
          "observed": 12.5,
          "predicted": 11.581067301001854
         },
         {
          "model": "lin_reg",
          "observed": 14.5,
          "predicted": 12.217438590951353
         },
         {
          "model": "lin_reg",
          "observed": 16.5,
          "predicted": 14.49026239501129
         },
         {
          "model": "lin_reg",
          "observed": 7.5,
          "predicted": 9.112560366167394
         },
         {
          "model": "lin_reg",
          "observed": 8.5,
          "predicted": 10.559424661137552
         },
         {
          "model": "lin_reg",
          "observed": 14.5,
          "predicted": 13.228279834152497
         },
         {
          "model": "lin_reg",
          "observed": 10.5,
          "predicted": 12.077157862657891
         },
         {
          "model": "lin_reg",
          "observed": 11.5,
          "predicted": 12.549618798416226
         },
         {
          "model": "lin_reg",
          "observed": 9.5,
          "predicted": 10.530509598586521
         },
         {
          "model": "lin_reg",
          "observed": 9.5,
          "predicted": 8.22805848940608
         },
         {
          "model": "lin_reg",
          "observed": 9.5,
          "predicted": 8.181134309869755
         },
         {
          "model": "lin_reg",
          "observed": 10.5,
          "predicted": 10.99437216631444
         },
         {
          "model": "lin_reg",
          "observed": 10.5,
          "predicted": 11.88186944295794
         },
         {
          "model": "lin_reg",
          "observed": 14.5,
          "predicted": 12.932895338237168
         },
         {
          "model": "lin_reg",
          "observed": 13.5,
          "predicted": 11.568799445976593
         },
         {
          "model": "lin_reg",
          "observed": 7.5,
          "predicted": 9.291099087670805
         },
         {
          "model": "lin_reg",
          "observed": 10.5,
          "predicted": 11.045622809799472
         },
         {
          "model": "lin_reg",
          "observed": 12.5,
          "predicted": 11.476119114070036
         },
         {
          "model": "lin_reg",
          "observed": 9.5,
          "predicted": 10.834489638925966
         },
         {
          "model": "lin_reg",
          "observed": 12.5,
          "predicted": 12.281671493877187
         },
         {
          "model": "lin_reg",
          "observed": 8.5,
          "predicted": 7.9485170856366345
         },
         {
          "model": "lin_reg",
          "observed": 17.5,
          "predicted": 15.66029988098584
         },
         {
          "model": "lin_reg",
          "observed": 12.5,
          "predicted": 12.076383038165169
         },
         {
          "model": "lin_reg",
          "observed": 10.5,
          "predicted": 10.193341018602567
         },
         {
          "model": "lin_reg",
          "observed": 6.5,
          "predicted": 8.21815395215561
         },
         {
          "model": "lin_reg",
          "observed": 7.5,
          "predicted": 9.511111463412512
         },
         {
          "model": "lin_reg",
          "observed": 16.5,
          "predicted": 11.626455296302424
         },
         {
          "model": "lin_reg",
          "observed": 10.5,
          "predicted": 11.496868204015211
         },
         {
          "model": "lin_reg",
          "observed": 9.5,
          "predicted": 10.88949899858175
         },
         {
          "model": "lin_reg",
          "observed": 13.5,
          "predicted": 15.11618920395726
         },
         {
          "model": "lin_reg",
          "observed": 12.5,
          "predicted": 12.85490118919206
         },
         {
          "model": "lin_reg",
          "observed": 8.5,
          "predicted": 8.734472827355198
         },
         {
          "model": "lin_reg",
          "observed": 15.5,
          "predicted": 15.854308539019467
         },
         {
          "model": "lin_reg",
          "observed": 18.5,
          "predicted": 15.726158077499832
         },
         {
          "model": "lin_reg",
          "observed": 15.5,
          "predicted": 12.557922678944744
         },
         {
          "model": "lin_reg",
          "observed": 17.5,
          "predicted": 10.701950012761474
         },
         {
          "model": "lin_reg",
          "observed": 9.5,
          "predicted": 10.206895820855312
         },
         {
          "model": "lin_reg",
          "observed": 10.5,
          "predicted": 10.764817809802025
         },
         {
          "model": "lin_reg",
          "observed": 9.5,
          "predicted": 8.8503370967634
         },
         {
          "model": "lin_reg",
          "observed": 9.5,
          "predicted": 10.370367720597267
         },
         {
          "model": "lin_reg",
          "observed": 8.5,
          "predicted": 10.350728627576238
         },
         {
          "model": "lin_reg",
          "observed": 11.5,
          "predicted": 11.063783412677772
         },
         {
          "model": "lin_reg",
          "observed": 5.5,
          "predicted": 6.732266987718618
         },
         {
          "model": "lin_reg",
          "observed": 11.5,
          "predicted": 13.681655792759447
         },
         {
          "model": "lin_reg",
          "observed": 7.5,
          "predicted": 8.840749658265032
         },
         {
          "model": "lin_reg",
          "observed": 10.5,
          "predicted": 13.355709433322808
         },
         {
          "model": "lin_reg",
          "observed": 13.5,
          "predicted": 11.64206420248721
         },
         {
          "model": "lin_reg",
          "observed": 10.5,
          "predicted": 11.08967105702768
         },
         {
          "model": "lin_reg",
          "observed": 7.5,
          "predicted": 8.545000804340585
         },
         {
          "model": "lin_reg",
          "observed": 12.5,
          "predicted": 11.719944523187365
         },
         {
          "model": "lin_reg",
          "observed": 7.5,
          "predicted": 8.401679222608042
         },
         {
          "model": "lin_reg",
          "observed": 19.5,
          "predicted": 16.060747039390137
         },
         {
          "model": "lin_reg",
          "observed": 11.5,
          "predicted": 12.122345139179311
         },
         {
          "model": "lin_reg",
          "observed": 12.5,
          "predicted": 13.674364670231835
         },
         {
          "model": "lin_reg",
          "observed": 13.5,
          "predicted": 11.985438453353629
         },
         {
          "model": "lin_reg",
          "observed": 6.5,
          "predicted": 7.513961953363862
         },
         {
          "model": "lin_reg",
          "observed": 12.5,
          "predicted": 12.415819579314153
         },
         {
          "model": "lin_reg",
          "observed": 10.5,
          "predicted": 9.674266180813067
         },
         {
          "model": "lin_reg",
          "observed": 10.5,
          "predicted": 11.774221767530303
         },
         {
          "model": "lin_reg",
          "observed": 16.5,
          "predicted": 13.797590188527142
         },
         {
          "model": "lin_reg",
          "observed": 10.5,
          "predicted": 10.019755442106067
         },
         {
          "model": "lin_reg",
          "observed": 9.5,
          "predicted": 8.694586787893535
         },
         {
          "model": "lin_reg",
          "observed": 11.5,
          "predicted": 12.688224104372809
         },
         {
          "model": "lin_reg",
          "observed": 14.5,
          "predicted": 10.232399465600821
         },
         {
          "model": "lin_reg",
          "observed": 12.5,
          "predicted": 8.018130197654564
         },
         {
          "model": "lin_reg",
          "observed": 8.5,
          "predicted": 9.0026616753653
         },
         {
          "model": "lin_reg",
          "observed": 12.5,
          "predicted": 14.078008595049326
         },
         {
          "model": "lin_reg",
          "observed": 11.5,
          "predicted": 8.821735431115442
         },
         {
          "model": "lin_reg",
          "observed": 8.5,
          "predicted": 9.19730250999151
         },
         {
          "model": "lin_reg",
          "observed": 11.5,
          "predicted": 10.914882140591505
         },
         {
          "model": "lin_reg",
          "observed": 12.5,
          "predicted": 14.75024918702604
         },
         {
          "model": "lin_reg",
          "observed": 11.5,
          "predicted": 11.016084474261348
         },
         {
          "model": "lin_reg",
          "observed": 12.5,
          "predicted": 12.713097315295016
         },
         {
          "model": "lin_reg",
          "observed": 12.5,
          "predicted": 7.789450618665912
         },
         {
          "model": "lin_reg",
          "observed": 10.5,
          "predicted": 13.769507878978247
         },
         {
          "model": "lin_reg",
          "observed": 11.5,
          "predicted": 10.48392289615184
         },
         {
          "model": "lin_reg",
          "observed": 11.5,
          "predicted": 12.5352350027722
         },
         {
          "model": "lin_reg",
          "observed": 21.5,
          "predicted": 19.18487275889325
         },
         {
          "model": "lin_reg",
          "observed": 9.5,
          "predicted": 11.143772906378068
         },
         {
          "model": "lin_reg",
          "observed": 7.5,
          "predicted": 7.458519137865869
         },
         {
          "model": "lin_reg",
          "observed": 12.5,
          "predicted": 12.305527364149238
         },
         {
          "model": "lin_reg",
          "observed": 10.5,
          "predicted": 9.772549449254248
         },
         {
          "model": "lin_reg",
          "observed": 7.5,
          "predicted": 7.512365712322304
         },
         {
          "model": "lin_reg",
          "observed": 28.5,
          "predicted": 21.808613058170923
         },
         {
          "model": "lin_reg",
          "observed": 14.5,
          "predicted": 13.704513525031494
         },
         {
          "model": "lin_reg",
          "observed": 9.5,
          "predicted": 10.605313077725782
         },
         {
          "model": "lin_reg",
          "observed": 13.5,
          "predicted": 10.049545656058244
         },
         {
          "model": "lin_reg",
          "observed": 9.5,
          "predicted": 8.92399922228961
         },
         {
          "model": "lin_reg",
          "observed": 11.5,
          "predicted": 11.736040011152765
         },
         {
          "model": "lin_reg",
          "observed": 16.5,
          "predicted": 12.954287444077961
         },
         {
          "model": "lin_reg",
          "observed": 10.5,
          "predicted": 10.087791430239358
         },
         {
          "model": "lin_reg",
          "observed": 10.5,
          "predicted": 11.742073878965567
         },
         {
          "model": "lin_reg",
          "observed": 10.5,
          "predicted": 13.381390408006384
         },
         {
          "model": "lin_reg",
          "observed": 11.5,
          "predicted": 14.688259273540968
         },
         {
          "model": "lin_reg",
          "observed": 18.5,
          "predicted": 12.241776483607135
         },
         {
          "model": "lin_reg",
          "observed": 12.5,
          "predicted": 12.844112393121984
         },
         {
          "model": "lin_reg",
          "observed": 9.5,
          "predicted": 11.106689052517073
         },
         {
          "model": "lin_reg",
          "observed": 16.5,
          "predicted": 14.318453580693442
         },
         {
          "model": "lin_reg",
          "observed": 13.5,
          "predicted": 13.356111868803358
         },
         {
          "model": "lin_reg",
          "observed": 20.5,
          "predicted": 14.677474794644327
         },
         {
          "model": "lin_reg",
          "observed": 10.5,
          "predicted": 11.498385760237628
         },
         {
          "model": "lin_reg",
          "observed": 10.5,
          "predicted": 11.612775256371158
         },
         {
          "model": "lin_reg",
          "observed": 9.5,
          "predicted": 12.818036344766304
         },
         {
          "model": "lin_reg",
          "observed": 12.5,
          "predicted": 12.321949616798511
         },
         {
          "model": "lin_reg",
          "observed": 10.5,
          "predicted": 9.931384171459722
         },
         {
          "model": "lin_reg",
          "observed": 11.5,
          "predicted": 12.405938955974024
         },
         {
          "model": "lin_reg",
          "observed": 12.5,
          "predicted": 10.822829600583738
         },
         {
          "model": "lin_reg",
          "observed": 9.5,
          "predicted": 11.57935967905966
         },
         {
          "model": "lin_reg",
          "observed": 12.5,
          "predicted": 12.772030266397115
         },
         {
          "model": "lin_reg",
          "observed": 12.5,
          "predicted": 10.448674228108343
         },
         {
          "model": "lin_reg",
          "observed": 10.5,
          "predicted": 11.275273381788097
         },
         {
          "model": "lin_reg",
          "observed": 15.5,
          "predicted": 15.645948360466964
         },
         {
          "model": "lin_reg",
          "observed": 11.5,
          "predicted": 13.833573855869073
         },
         {
          "model": "lin_reg",
          "observed": 11.5,
          "predicted": 10.750014399131686
         },
         {
          "model": "lin_reg",
          "observed": 17.5,
          "predicted": 15.116524245015109
         },
         {
          "model": "lin_reg",
          "observed": 8.5,
          "predicted": 8.306330604336194
         },
         {
          "model": "lin_reg",
          "observed": 7.5,
          "predicted": 8.588477692686524
         },
         {
          "model": "lin_reg",
          "observed": 11.5,
          "predicted": 12.479872051055828
         },
         {
          "model": "lin_reg",
          "observed": 7.5,
          "predicted": 9.435695102878306
         },
         {
          "model": "lin_reg",
          "observed": 6.5,
          "predicted": 7.280811338680111
         },
         {
          "model": "lin_reg",
          "observed": 11.5,
          "predicted": 10.08514394705821
         },
         {
          "model": "lin_reg",
          "observed": 12.5,
          "predicted": 13.078712361359226
         },
         {
          "model": "lin_reg",
          "observed": 13.5,
          "predicted": 13.065168521918764
         },
         {
          "model": "lin_reg",
          "observed": 8.5,
          "predicted": 9.109172835959065
         },
         {
          "model": "lin_reg",
          "observed": 16.5,
          "predicted": 14.582034606892895
         },
         {
          "model": "lin_reg",
          "observed": 11.5,
          "predicted": 12.144191605589569
         },
         {
          "model": "lin_reg",
          "observed": 9.5,
          "predicted": 10.757048630656616
         },
         {
          "model": "lin_reg",
          "observed": 9.5,
          "predicted": 9.597863591776964
         },
         {
          "model": "lin_reg",
          "observed": 9.5,
          "predicted": 9.602741463414127
         },
         {
          "model": "lin_reg",
          "observed": 12.5,
          "predicted": 13.78199860070437
         },
         {
          "model": "lin_reg",
          "observed": 10.5,
          "predicted": 14.289699112597596
         },
         {
          "model": "lin_reg",
          "observed": 8.5,
          "predicted": 8.244010622090201
         },
         {
          "model": "lin_reg",
          "observed": 6.5,
          "predicted": 6.938373764627101
         },
         {
          "model": "lin_reg",
          "observed": 11.5,
          "predicted": 12.235795755956232
         },
         {
          "model": "lin_reg",
          "observed": 19.5,
          "predicted": 14.51376572198271
         },
         {
          "model": "lin_reg",
          "observed": 9.5,
          "predicted": 8.19505686796392
         },
         {
          "model": "lin_reg",
          "observed": 9.5,
          "predicted": 12.509274542239677
         },
         {
          "model": "lin_reg",
          "observed": 7.5,
          "predicted": 8.833365443576923
         },
         {
          "model": "lin_reg",
          "observed": 13.5,
          "predicted": 12.969236486867674
         },
         {
          "model": "lin_reg",
          "observed": 22.5,
          "predicted": 11.75251960617958
         },
         {
          "model": "lin_reg",
          "observed": 17.5,
          "predicted": 16.855893235508276
         },
         {
          "model": "lin_reg",
          "observed": 8.5,
          "predicted": 8.949922733977502
         },
         {
          "model": "lin_reg",
          "observed": 16.5,
          "predicted": 14.306836324399676
         },
         {
          "model": "lin_reg",
          "observed": 12.5,
          "predicted": 10.44380158326904
         },
         {
          "model": "lin_reg",
          "observed": 10.5,
          "predicted": 11.46619746709726
         },
         {
          "model": "lin_reg",
          "observed": 13.5,
          "predicted": 12.994738208487048
         },
         {
          "model": "lin_reg",
          "observed": 12.5,
          "predicted": 13.734781821348355
         },
         {
          "model": "lin_reg",
          "observed": 12.5,
          "predicted": 10.675243401592864
         },
         {
          "model": "lin_reg",
          "observed": 13.5,
          "predicted": 15.1909477452451
         },
         {
          "model": "lin_reg",
          "observed": 12.5,
          "predicted": 10.659714485808019
         },
         {
          "model": "lin_reg",
          "observed": 12.5,
          "predicted": 12.975522466095178
         },
         {
          "model": "lin_reg",
          "observed": 8.5,
          "predicted": 10.192503027899333
         },
         {
          "model": "lin_reg",
          "observed": 8.5,
          "predicted": 9.451419600877282
         },
         {
          "model": "lin_reg",
          "observed": 8.5,
          "predicted": 8.243620827671288
         },
         {
          "model": "lin_reg",
          "observed": 11.5,
          "predicted": 13.602515386566818
         },
         {
          "model": "lin_reg",
          "observed": 9.5,
          "predicted": 11.171493696361615
         },
         {
          "model": "knr",
          "observed": 12.5,
          "predicted": 12.8125
         },
         {
          "model": "knr",
          "observed": 11.5,
          "predicted": 12.75
         },
         {
          "model": "knr",
          "observed": 10.5,
          "predicted": 10.9375
         },
         {
          "model": "knr",
          "observed": 9.5,
          "predicted": 12.25
         },
         {
          "model": "knr",
          "observed": 14.5,
          "predicted": 12.375
         },
         {
          "model": "knr",
          "observed": 11.5,
          "predicted": 13.125
         },
         {
          "model": "knr",
          "observed": 8.5,
          "predicted": 8.4375
         },
         {
          "model": "knr",
          "observed": 10.5,
          "predicted": 10.5625
         },
         {
          "model": "knr",
          "observed": 12.5,
          "predicted": 12.0625
         },
         {
          "model": "knr",
          "observed": 13.5,
          "predicted": 12.625
         },
         {
          "model": "knr",
          "observed": 14.5,
          "predicted": 12.4375
         },
         {
          "model": "knr",
          "observed": 13.5,
          "predicted": 12.25
         },
         {
          "model": "knr",
          "observed": 10.5,
          "predicted": 8.375
         },
         {
          "model": "knr",
          "observed": 11.5,
          "predicted": 12.0625
         },
         {
          "model": "knr",
          "observed": 18.5,
          "predicted": 15
         },
         {
          "model": "knr",
          "observed": 12.5,
          "predicted": 13.625
         },
         {
          "model": "knr",
          "observed": 12.5,
          "predicted": 11.3125
         },
         {
          "model": "knr",
          "observed": 12.5,
          "predicted": 11.375
         },
         {
          "model": "knr",
          "observed": 9.5,
          "predicted": 9.1875
         },
         {
          "model": "knr",
          "observed": 7.5,
          "predicted": 8.8125
         },
         {
          "model": "knr",
          "observed": 10.5,
          "predicted": 11.125
         },
         {
          "model": "knr",
          "observed": 10.5,
          "predicted": 11.625
         },
         {
          "model": "knr",
          "observed": 19.5,
          "predicted": 13.3125
         },
         {
          "model": "knr",
          "observed": 15.5,
          "predicted": 13.4375
         },
         {
          "model": "knr",
          "observed": 8.5,
          "predicted": 9.0625
         },
         {
          "model": "knr",
          "observed": 12.5,
          "predicted": 12
         },
         {
          "model": "knr",
          "observed": 8.5,
          "predicted": 8.3125
         },
         {
          "model": "knr",
          "observed": 9.5,
          "predicted": 10.1875
         },
         {
          "model": "knr",
          "observed": 11.5,
          "predicted": 10.75
         },
         {
          "model": "knr",
          "observed": 12.5,
          "predicted": 12.625
         },
         {
          "model": "knr",
          "observed": 7.5,
          "predicted": 8.75
         },
         {
          "model": "knr",
          "observed": 10.5,
          "predicted": 11.5
         },
         {
          "model": "knr",
          "observed": 9.5,
          "predicted": 10.375
         },
         {
          "model": "knr",
          "observed": 10.5,
          "predicted": 12.375
         },
         {
          "model": "knr",
          "observed": 8.5,
          "predicted": 8.375
         },
         {
          "model": "knr",
          "observed": 12.5,
          "predicted": 12.3125
         },
         {
          "model": "knr",
          "observed": 9.5,
          "predicted": 11.625
         },
         {
          "model": "knr",
          "observed": 15.5,
          "predicted": 12.875
         },
         {
          "model": "knr",
          "observed": 11.5,
          "predicted": 12.25
         },
         {
          "model": "knr",
          "observed": 11.5,
          "predicted": 11.0625
         },
         {
          "model": "knr",
          "observed": 16.5,
          "predicted": 10.0625
         },
         {
          "model": "knr",
          "observed": 10.5,
          "predicted": 11.375
         },
         {
          "model": "knr",
          "observed": 14.5,
          "predicted": 15.4375
         },
         {
          "model": "knr",
          "observed": 16.5,
          "predicted": 14.25
         },
         {
          "model": "knr",
          "observed": 19.5,
          "predicted": 13.75
         },
         {
          "model": "knr",
          "observed": 17.5,
          "predicted": 14.8125
         },
         {
          "model": "knr",
          "observed": 11.5,
          "predicted": 9.625
         },
         {
          "model": "knr",
          "observed": 12.5,
          "predicted": 13.0625
         },
         {
          "model": "knr",
          "observed": 9.5,
          "predicted": 8.4375
         },
         {
          "model": "knr",
          "observed": 13.5,
          "predicted": 12.875
         },
         {
          "model": "knr",
          "observed": 9.5,
          "predicted": 9
         },
         {
          "model": "knr",
          "observed": 11.5,
          "predicted": 12.4375
         },
         {
          "model": "knr",
          "observed": 11.5,
          "predicted": 11.6875
         },
         {
          "model": "knr",
          "observed": 5.5,
          "predicted": 6.3125
         },
         {
          "model": "knr",
          "observed": 11.5,
          "predicted": 11.4375
         },
         {
          "model": "knr",
          "observed": 11.5,
          "predicted": 11.3125
         },
         {
          "model": "knr",
          "observed": 13.5,
          "predicted": 14.3125
         },
         {
          "model": "knr",
          "observed": 11.5,
          "predicted": 11.75
         },
         {
          "model": "knr",
          "observed": 10.5,
          "predicted": 11.5625
         },
         {
          "model": "knr",
          "observed": 10.5,
          "predicted": 11.125
         },
         {
          "model": "knr",
          "observed": 10.5,
          "predicted": 12.25
         },
         {
          "model": "knr",
          "observed": 13.5,
          "predicted": 15.4375
         },
         {
          "model": "knr",
          "observed": 9.5,
          "predicted": 11.375
         },
         {
          "model": "knr",
          "observed": 13.5,
          "predicted": 10.875
         },
         {
          "model": "knr",
          "observed": 13.5,
          "predicted": 13
         },
         {
          "model": "knr",
          "observed": 12.5,
          "predicted": 13.6875
         },
         {
          "model": "knr",
          "observed": 10.5,
          "predicted": 10.875
         },
         {
          "model": "knr",
          "observed": 8.5,
          "predicted": 8.4375
         },
         {
          "model": "knr",
          "observed": 12.5,
          "predicted": 12.9375
         },
         {
          "model": "knr",
          "observed": 9.5,
          "predicted": 11.6875
         },
         {
          "model": "knr",
          "observed": 6.5,
          "predicted": 8.0625
         },
         {
          "model": "knr",
          "observed": 10.5,
          "predicted": 11.9375
         },
         {
          "model": "knr",
          "observed": 11.5,
          "predicted": 12.75
         },
         {
          "model": "knr",
          "observed": 11.5,
          "predicted": 12.1875
         },
         {
          "model": "knr",
          "observed": 10.5,
          "predicted": 10.375
         },
         {
          "model": "knr",
          "observed": 13.5,
          "predicted": 16.1875
         },
         {
          "model": "knr",
          "observed": 11.5,
          "predicted": 10.3125
         },
         {
          "model": "knr",
          "observed": 7.5,
          "predicted": 8.3125
         },
         {
          "model": "knr",
          "observed": 11.5,
          "predicted": 12.1875
         },
         {
          "model": "knr",
          "observed": 13.5,
          "predicted": 13.5
         },
         {
          "model": "knr",
          "observed": 15.5,
          "predicted": 15.3125
         },
         {
          "model": "knr",
          "observed": 13.5,
          "predicted": 12.375
         },
         {
          "model": "knr",
          "observed": 11.5,
          "predicted": 11.75
         },
         {
          "model": "knr",
          "observed": 7.5,
          "predicted": 7.625
         },
         {
          "model": "knr",
          "observed": 14.5,
          "predicted": 14.9375
         },
         {
          "model": "knr",
          "observed": 10.5,
          "predicted": 8.875
         },
         {
          "model": "knr",
          "observed": 14.5,
          "predicted": 12.5
         },
         {
          "model": "knr",
          "observed": 15.5,
          "predicted": 14.25
         },
         {
          "model": "knr",
          "observed": 16.5,
          "predicted": 12.9375
         },
         {
          "model": "knr",
          "observed": 13.5,
          "predicted": 13.375
         },
         {
          "model": "knr",
          "observed": 18.5,
          "predicted": 13.75
         },
         {
          "model": "knr",
          "observed": 14.5,
          "predicted": 14.625
         },
         {
          "model": "knr",
          "observed": 9.5,
          "predicted": 10.8125
         },
         {
          "model": "knr",
          "observed": 11.5,
          "predicted": 11.5
         },
         {
          "model": "knr",
          "observed": 8.5,
          "predicted": 10.4375
         },
         {
          "model": "knr",
          "observed": 13.5,
          "predicted": 14.375
         },
         {
          "model": "knr",
          "observed": 11.5,
          "predicted": 14.125
         },
         {
          "model": "knr",
          "observed": 8.5,
          "predicted": 10.4375
         },
         {
          "model": "knr",
          "observed": 8.5,
          "predicted": 8.8125
         },
         {
          "model": "knr",
          "observed": 10.5,
          "predicted": 10.6875
         },
         {
          "model": "knr",
          "observed": 8.5,
          "predicted": 8.3125
         },
         {
          "model": "knr",
          "observed": 14.5,
          "predicted": 11.5
         },
         {
          "model": "knr",
          "observed": 11.5,
          "predicted": 12.1875
         },
         {
          "model": "knr",
          "observed": 7.5,
          "predicted": 8.125
         },
         {
          "model": "knr",
          "observed": 10.5,
          "predicted": 11.5
         },
         {
          "model": "knr",
          "observed": 10.5,
          "predicted": 12.375
         },
         {
          "model": "knr",
          "observed": 9.5,
          "predicted": 13.3125
         },
         {
          "model": "knr",
          "observed": 7.5,
          "predicted": 7.5625
         },
         {
          "model": "knr",
          "observed": 11.5,
          "predicted": 14.125
         },
         {
          "model": "knr",
          "observed": 15.5,
          "predicted": 12.75
         },
         {
          "model": "knr",
          "observed": 11.5,
          "predicted": 12.125
         },
         {
          "model": "knr",
          "observed": 23.5,
          "predicted": 16.375
         },
         {
          "model": "knr",
          "observed": 12.5,
          "predicted": 10.125
         },
         {
          "model": "knr",
          "observed": 11.5,
          "predicted": 11.9375
         },
         {
          "model": "knr",
          "observed": 14.5,
          "predicted": 14.875
         },
         {
          "model": "knr",
          "observed": 12.5,
          "predicted": 13.5
         },
         {
          "model": "knr",
          "observed": 10.5,
          "predicted": 12.0625
         },
         {
          "model": "knr",
          "observed": 14.5,
          "predicted": 14.875
         },
         {
          "model": "knr",
          "observed": 8.5,
          "predicted": 9.5
         },
         {
          "model": "knr",
          "observed": 7.5,
          "predicted": 8.375
         },
         {
          "model": "knr",
          "observed": 13.5,
          "predicted": 11.8125
         },
         {
          "model": "knr",
          "observed": 8.5,
          "predicted": 10.5
         },
         {
          "model": "knr",
          "observed": 12.5,
          "predicted": 12.25
         },
         {
          "model": "knr",
          "observed": 12.5,
          "predicted": 14.25
         },
         {
          "model": "knr",
          "observed": 10.5,
          "predicted": 7.6875
         },
         {
          "model": "knr",
          "observed": 11.5,
          "predicted": 12.1875
         },
         {
          "model": "knr",
          "observed": 15.5,
          "predicted": 12.1875
         },
         {
          "model": "knr",
          "observed": 12.5,
          "predicted": 9.25
         },
         {
          "model": "knr",
          "observed": 11.5,
          "predicted": 11.5
         },
         {
          "model": "knr",
          "observed": 11.5,
          "predicted": 12.875
         },
         {
          "model": "knr",
          "observed": 11.5,
          "predicted": 9.6875
         },
         {
          "model": "knr",
          "observed": 18.5,
          "predicted": 14.9375
         },
         {
          "model": "knr",
          "observed": 20.5,
          "predicted": 13.125
         },
         {
          "model": "knr",
          "observed": 13.5,
          "predicted": 10.25
         },
         {
          "model": "knr",
          "observed": 9.5,
          "predicted": 12.5625
         },
         {
          "model": "knr",
          "observed": 21.5,
          "predicted": 15.1875
         },
         {
          "model": "knr",
          "observed": 11.5,
          "predicted": 11.75
         },
         {
          "model": "knr",
          "observed": 7.5,
          "predicted": 9.0625
         },
         {
          "model": "knr",
          "observed": 14.5,
          "predicted": 12.6875
         },
         {
          "model": "knr",
          "observed": 9.5,
          "predicted": 11.4375
         },
         {
          "model": "knr",
          "observed": 6.5,
          "predicted": 8.375
         },
         {
          "model": "knr",
          "observed": 11.5,
          "predicted": 13.1875
         },
         {
          "model": "knr",
          "observed": 10.5,
          "predicted": 8.375
         },
         {
          "model": "knr",
          "observed": 10.5,
          "predicted": 11.8125
         },
         {
          "model": "knr",
          "observed": 10.5,
          "predicted": 10.3125
         },
         {
          "model": "knr",
          "observed": 8.5,
          "predicted": 7.5
         },
         {
          "model": "knr",
          "observed": 11.5,
          "predicted": 11.875
         },
         {
          "model": "knr",
          "observed": 8.5,
          "predicted": 8.125
         },
         {
          "model": "knr",
          "observed": 9.5,
          "predicted": 10.5
         },
         {
          "model": "knr",
          "observed": 9.5,
          "predicted": 13.125
         },
         {
          "model": "knr",
          "observed": 21.5,
          "predicted": 12
         },
         {
          "model": "knr",
          "observed": 9.5,
          "predicted": 11.1875
         },
         {
          "model": "knr",
          "observed": 9.5,
          "predicted": 8.5
         },
         {
          "model": "knr",
          "observed": 18.5,
          "predicted": 15.1875
         },
         {
          "model": "knr",
          "observed": 14.5,
          "predicted": 14.6875
         },
         {
          "model": "knr",
          "observed": 12.5,
          "predicted": 12.6875
         },
         {
          "model": "knr",
          "observed": 7.5,
          "predicted": 8.4375
         },
         {
          "model": "knr",
          "observed": 12.5,
          "predicted": 11.875
         },
         {
          "model": "knr",
          "observed": 16.5,
          "predicted": 16.875
         },
         {
          "model": "knr",
          "observed": 13.5,
          "predicted": 11.375
         },
         {
          "model": "knr",
          "observed": 10.5,
          "predicted": 9.25
         },
         {
          "model": "knr",
          "observed": 12.5,
          "predicted": 10.8125
         },
         {
          "model": "knr",
          "observed": 10.5,
          "predicted": 10.6875
         },
         {
          "model": "knr",
          "observed": 8.5,
          "predicted": 9.25
         },
         {
          "model": "knr",
          "observed": 16.5,
          "predicted": 10.125
         },
         {
          "model": "knr",
          "observed": 11.5,
          "predicted": 11.0625
         },
         {
          "model": "knr",
          "observed": 18.5,
          "predicted": 14.5
         },
         {
          "model": "knr",
          "observed": 9.5,
          "predicted": 8.375
         },
         {
          "model": "knr",
          "observed": 16.5,
          "predicted": 12.8125
         },
         {
          "model": "knr",
          "observed": 9.5,
          "predicted": 11.75
         },
         {
          "model": "knr",
          "observed": 17.5,
          "predicted": 14.4375
         },
         {
          "model": "knr",
          "observed": 12.5,
          "predicted": 14.4375
         },
         {
          "model": "knr",
          "observed": 7.5,
          "predicted": 9.1875
         },
         {
          "model": "knr",
          "observed": 13.5,
          "predicted": 16.25
         },
         {
          "model": "knr",
          "observed": 11.5,
          "predicted": 11.375
         },
         {
          "model": "knr",
          "observed": 12.5,
          "predicted": 11.25
         },
         {
          "model": "knr",
          "observed": 10.5,
          "predicted": 12.5625
         },
         {
          "model": "knr",
          "observed": 12.5,
          "predicted": 13.875
         },
         {
          "model": "knr",
          "observed": 11.5,
          "predicted": 10.6875
         },
         {
          "model": "knr",
          "observed": 9.5,
          "predicted": 10
         },
         {
          "model": "knr",
          "observed": 12.5,
          "predicted": 12.625
         },
         {
          "model": "knr",
          "observed": 5.5,
          "predicted": 7.625
         },
         {
          "model": "knr",
          "observed": 12.5,
          "predicted": 14.5
         },
         {
          "model": "knr",
          "observed": 11.5,
          "predicted": 12.1875
         },
         {
          "model": "knr",
          "observed": 7.5,
          "predicted": 7.5
         },
         {
          "model": "knr",
          "observed": 12.5,
          "predicted": 13.625
         },
         {
          "model": "knr",
          "observed": 9.5,
          "predicted": 10
         },
         {
          "model": "knr",
          "observed": 11.5,
          "predicted": 12.375
         },
         {
          "model": "knr",
          "observed": 10.5,
          "predicted": 11.375
         },
         {
          "model": "knr",
          "observed": 12.5,
          "predicted": 10.25
         },
         {
          "model": "knr",
          "observed": 10.5,
          "predicted": 12.75
         },
         {
          "model": "knr",
          "observed": 10.5,
          "predicted": 11.5
         },
         {
          "model": "knr",
          "observed": 13.5,
          "predicted": 10.5625
         },
         {
          "model": "knr",
          "observed": 11.5,
          "predicted": 11.75
         },
         {
          "model": "knr",
          "observed": 18.5,
          "predicted": 14.5
         },
         {
          "model": "knr",
          "observed": 8.5,
          "predicted": 8.625
         },
         {
          "model": "knr",
          "observed": 11.5,
          "predicted": 13
         },
         {
          "model": "knr",
          "observed": 9.5,
          "predicted": 9.0625
         },
         {
          "model": "knr",
          "observed": 10.5,
          "predicted": 10.8125
         },
         {
          "model": "knr",
          "observed": 19.5,
          "predicted": 15.0625
         },
         {
          "model": "knr",
          "observed": 18.5,
          "predicted": 12.6875
         },
         {
          "model": "knr",
          "observed": 10.5,
          "predicted": 11.0625
         },
         {
          "model": "knr",
          "observed": 9.5,
          "predicted": 8.375
         },
         {
          "model": "knr",
          "observed": 9.5,
          "predicted": 10.375
         },
         {
          "model": "knr",
          "observed": 8.5,
          "predicted": 10.375
         },
         {
          "model": "knr",
          "observed": 12.5,
          "predicted": 11.5625
         },
         {
          "model": "knr",
          "observed": 13.5,
          "predicted": 12.8125
         },
         {
          "model": "knr",
          "observed": 11.5,
          "predicted": 10.125
         },
         {
          "model": "knr",
          "observed": 23.5,
          "predicted": 17.5625
         },
         {
          "model": "knr",
          "observed": 12.5,
          "predicted": 12.1875
         },
         {
          "model": "knr",
          "observed": 12.5,
          "predicted": 16.125
         },
         {
          "model": "knr",
          "observed": 12.5,
          "predicted": 12.25
         },
         {
          "model": "knr",
          "observed": 22.5,
          "predicted": 12.9375
         },
         {
          "model": "knr",
          "observed": 8.5,
          "predicted": 11.9375
         },
         {
          "model": "knr",
          "observed": 10.5,
          "predicted": 9.75
         },
         {
          "model": "knr",
          "observed": 11.5,
          "predicted": 11.25
         },
         {
          "model": "knr",
          "observed": 10.5,
          "predicted": 10.3125
         },
         {
          "model": "knr",
          "observed": 10.5,
          "predicted": 10.8125
         },
         {
          "model": "knr",
          "observed": 13.5,
          "predicted": 14.375
         },
         {
          "model": "knr",
          "observed": 10.5,
          "predicted": 11.375
         },
         {
          "model": "knr",
          "observed": 15.5,
          "predicted": 13.625
         },
         {
          "model": "knr",
          "observed": 10.5,
          "predicted": 13
         },
         {
          "model": "knr",
          "observed": 13.5,
          "predicted": 13.4375
         },
         {
          "model": "knr",
          "observed": 19.5,
          "predicted": 11.4375
         },
         {
          "model": "knr",
          "observed": 9.5,
          "predicted": 8.3125
         },
         {
          "model": "knr",
          "observed": 7.5,
          "predicted": 8.25
         },
         {
          "model": "knr",
          "observed": 9.5,
          "predicted": 11
         },
         {
          "model": "knr",
          "observed": 9.5,
          "predicted": 10.4375
         },
         {
          "model": "knr",
          "observed": 9.5,
          "predicted": 13.6875
         },
         {
          "model": "knr",
          "observed": 11.5,
          "predicted": 14.4375
         },
         {
          "model": "knr",
          "observed": 11.5,
          "predicted": 8.375
         },
         {
          "model": "knr",
          "observed": 13.5,
          "predicted": 12.5
         },
         {
          "model": "knr",
          "observed": 14.5,
          "predicted": 14.875
         },
         {
          "model": "knr",
          "observed": 11.5,
          "predicted": 13
         },
         {
          "model": "knr",
          "observed": 12.5,
          "predicted": 12.5625
         },
         {
          "model": "knr",
          "observed": 14.5,
          "predicted": 14.625
         },
         {
          "model": "knr",
          "observed": 12.5,
          "predicted": 15.3125
         },
         {
          "model": "knr",
          "observed": 8.5,
          "predicted": 10.125
         },
         {
          "model": "knr",
          "observed": 8.5,
          "predicted": 9.9375
         },
         {
          "model": "knr",
          "observed": 6.5,
          "predicted": 9.25
         },
         {
          "model": "knr",
          "observed": 7.5,
          "predicted": 8.5
         },
         {
          "model": "knr",
          "observed": 11.5,
          "predicted": 11.6875
         },
         {
          "model": "knr",
          "observed": 9.5,
          "predicted": 10.0625
         },
         {
          "model": "knr",
          "observed": 8.5,
          "predicted": 10.3125
         },
         {
          "model": "knr",
          "observed": 10.5,
          "predicted": 11.9375
         },
         {
          "model": "knr",
          "observed": 9.5,
          "predicted": 11.5625
         },
         {
          "model": "knr",
          "observed": 11.5,
          "predicted": 11.6875
         },
         {
          "model": "knr",
          "observed": 7.5,
          "predicted": 6.625
         },
         {
          "model": "knr",
          "observed": 8.5,
          "predicted": 8.0625
         },
         {
          "model": "knr",
          "observed": 8.5,
          "predicted": 9.0625
         },
         {
          "model": "knr",
          "observed": 16.5,
          "predicted": 11.5625
         },
         {
          "model": "knr",
          "observed": 10.5,
          "predicted": 11.6875
         },
         {
          "model": "knr",
          "observed": 12.5,
          "predicted": 11.375
         },
         {
          "model": "knr",
          "observed": 9.5,
          "predicted": 9.25
         },
         {
          "model": "knr",
          "observed": 11.5,
          "predicted": 9.875
         },
         {
          "model": "knr",
          "observed": 11.5,
          "predicted": 11.3125
         },
         {
          "model": "knr",
          "observed": 8.5,
          "predicted": 10.125
         },
         {
          "model": "knr",
          "observed": 13.5,
          "predicted": 10
         },
         {
          "model": "knr",
          "observed": 9.5,
          "predicted": 10.25
         },
         {
          "model": "knr",
          "observed": 10.5,
          "predicted": 14.1875
         },
         {
          "model": "knr",
          "observed": 16.5,
          "predicted": 13.0625
         },
         {
          "model": "knr",
          "observed": 9.5,
          "predicted": 9.1875
         },
         {
          "model": "knr",
          "observed": 11.5,
          "predicted": 11.5
         },
         {
          "model": "knr",
          "observed": 7.5,
          "predicted": 8.625
         },
         {
          "model": "knr",
          "observed": 10.5,
          "predicted": 9.5625
         },
         {
          "model": "knr",
          "observed": 12.5,
          "predicted": 12.6875
         },
         {
          "model": "knr",
          "observed": 8.5,
          "predicted": 8.1875
         },
         {
          "model": "knr",
          "observed": 9.5,
          "predicted": 9.5625
         },
         {
          "model": "knr",
          "observed": 9.5,
          "predicted": 10.3125
         },
         {
          "model": "knr",
          "observed": 9.5,
          "predicted": 10.25
         },
         {
          "model": "knr",
          "observed": 11.5,
          "predicted": 12.8125
         },
         {
          "model": "knr",
          "observed": 9.5,
          "predicted": 11.75
         },
         {
          "model": "knr",
          "observed": 24.5,
          "predicted": 16.4375
         },
         {
          "model": "knr",
          "observed": 7.5,
          "predicted": 10.875
         },
         {
          "model": "knr",
          "observed": 13.5,
          "predicted": 17.4375
         },
         {
          "model": "knr",
          "observed": 14.5,
          "predicted": 11.5
         },
         {
          "model": "knr",
          "observed": 7.5,
          "predicted": 8
         },
         {
          "model": "knr",
          "observed": 12.5,
          "predicted": 12.0625
         },
         {
          "model": "knr",
          "observed": 10.5,
          "predicted": 10.3125
         },
         {
          "model": "knr",
          "observed": 20.5,
          "predicted": 14
         },
         {
          "model": "knr",
          "observed": 7.5,
          "predicted": 8.6875
         },
         {
          "model": "knr",
          "observed": 9.5,
          "predicted": 10.5625
         },
         {
          "model": "knr",
          "observed": 13.5,
          "predicted": 10.8125
         },
         {
          "model": "knr",
          "observed": 8.5,
          "predicted": 9.875
         },
         {
          "model": "knr",
          "observed": 9.5,
          "predicted": 9.5
         },
         {
          "model": "knr",
          "observed": 10.5,
          "predicted": 11.25
         },
         {
          "model": "knr",
          "observed": 10.5,
          "predicted": 9.4375
         },
         {
          "model": "knr",
          "observed": 6.5,
          "predicted": 7.75
         },
         {
          "model": "knr",
          "observed": 11.5,
          "predicted": 13.5
         },
         {
          "model": "knr",
          "observed": 12.5,
          "predicted": 12.1875
         },
         {
          "model": "knr",
          "observed": 10.5,
          "predicted": 10.25
         },
         {
          "model": "knr",
          "observed": 11.5,
          "predicted": 12.3125
         },
         {
          "model": "knr",
          "observed": 7.5,
          "predicted": 10.4375
         },
         {
          "model": "knr",
          "observed": 7.5,
          "predicted": 9.375
         },
         {
          "model": "knr",
          "observed": 7.5,
          "predicted": 9.0625
         },
         {
          "model": "knr",
          "observed": 12.5,
          "predicted": 13.5625
         },
         {
          "model": "knr",
          "observed": 9.5,
          "predicted": 10.125
         },
         {
          "model": "knr",
          "observed": 11.5,
          "predicted": 12.6875
         },
         {
          "model": "knr",
          "observed": 10.5,
          "predicted": 11.5625
         },
         {
          "model": "knr",
          "observed": 9.5,
          "predicted": 11
         },
         {
          "model": "knr",
          "observed": 8.5,
          "predicted": 8.875
         },
         {
          "model": "knr",
          "observed": 10.5,
          "predicted": 9.8125
         },
         {
          "model": "knr",
          "observed": 12.5,
          "predicted": 13
         },
         {
          "model": "knr",
          "observed": 13.5,
          "predicted": 9.625
         },
         {
          "model": "knr",
          "observed": 16.5,
          "predicted": 11.5
         },
         {
          "model": "knr",
          "observed": 14.5,
          "predicted": 13.6875
         },
         {
          "model": "knr",
          "observed": 10.5,
          "predicted": 10.875
         },
         {
          "model": "knr",
          "observed": 9.5,
          "predicted": 11.9375
         },
         {
          "model": "knr",
          "observed": 9.5,
          "predicted": 11.9375
         },
         {
          "model": "knr",
          "observed": 8.5,
          "predicted": 9.8125
         },
         {
          "model": "knr",
          "observed": 9.5,
          "predicted": 9.875
         },
         {
          "model": "knr",
          "observed": 8.5,
          "predicted": 8.1875
         },
         {
          "model": "knr",
          "observed": 12.5,
          "predicted": 10.5625
         },
         {
          "model": "knr",
          "observed": 12.5,
          "predicted": 11.4375
         },
         {
          "model": "knr",
          "observed": 11.5,
          "predicted": 13.4375
         },
         {
          "model": "knr",
          "observed": 10.5,
          "predicted": 12.875
         },
         {
          "model": "knr",
          "observed": 13.5,
          "predicted": 12.75
         },
         {
          "model": "knr",
          "observed": 15.5,
          "predicted": 13.3125
         },
         {
          "model": "knr",
          "observed": 10.5,
          "predicted": 12.125
         },
         {
          "model": "knr",
          "observed": 10.5,
          "predicted": 11.875
         },
         {
          "model": "knr",
          "observed": 6.5,
          "predicted": 7.1875
         },
         {
          "model": "knr",
          "observed": 10.5,
          "predicted": 13.25
         },
         {
          "model": "knr",
          "observed": 5.5,
          "predicted": 7.375
         },
         {
          "model": "knr",
          "observed": 8.5,
          "predicted": 8
         },
         {
          "model": "knr",
          "observed": 12.5,
          "predicted": 13.125
         },
         {
          "model": "knr",
          "observed": 10.5,
          "predicted": 10.4375
         },
         {
          "model": "knr",
          "observed": 8.5,
          "predicted": 7.625
         },
         {
          "model": "knr",
          "observed": 7.5,
          "predicted": 8.8125
         },
         {
          "model": "knr",
          "observed": 13.5,
          "predicted": 12.625
         },
         {
          "model": "knr",
          "observed": 10.5,
          "predicted": 11.625
         },
         {
          "model": "knr",
          "observed": 9.5,
          "predicted": 7.8125
         },
         {
          "model": "knr",
          "observed": 10.5,
          "predicted": 11.8125
         },
         {
          "model": "knr",
          "observed": 14.5,
          "predicted": 12.25
         },
         {
          "model": "knr",
          "observed": 9.5,
          "predicted": 9.25
         },
         {
          "model": "knr",
          "observed": 7.5,
          "predicted": 10.5
         },
         {
          "model": "knr",
          "observed": 4.5,
          "predicted": 6.625
         },
         {
          "model": "knr",
          "observed": 8.5,
          "predicted": 11.8125
         },
         {
          "model": "knr",
          "observed": 7.5,
          "predicted": 9.0625
         },
         {
          "model": "knr",
          "observed": 19.5,
          "predicted": 11.375
         },
         {
          "model": "knr",
          "observed": 9.5,
          "predicted": 8.3125
         },
         {
          "model": "knr",
          "observed": 7.5,
          "predicted": 7.625
         },
         {
          "model": "knr",
          "observed": 12.5,
          "predicted": 11.6875
         },
         {
          "model": "knr",
          "observed": 11.5,
          "predicted": 14.4375
         },
         {
          "model": "knr",
          "observed": 12.5,
          "predicted": 11.6875
         },
         {
          "model": "knr",
          "observed": 10.5,
          "predicted": 14.375
         },
         {
          "model": "knr",
          "observed": 10.5,
          "predicted": 10.1875
         },
         {
          "model": "knr",
          "observed": 15.5,
          "predicted": 14.0625
         },
         {
          "model": "knr",
          "observed": 9.5,
          "predicted": 9.5625
         },
         {
          "model": "knr",
          "observed": 12.5,
          "predicted": 14.75
         },
         {
          "model": "knr",
          "observed": 12.5,
          "predicted": 13.0625
         },
         {
          "model": "knr",
          "observed": 14.5,
          "predicted": 12.125
         },
         {
          "model": "knr",
          "observed": 11.5,
          "predicted": 12.0625
         },
         {
          "model": "knr",
          "observed": 10.5,
          "predicted": 12.625
         },
         {
          "model": "knr",
          "observed": 11.5,
          "predicted": 15.125
         },
         {
          "model": "knr",
          "observed": 8.5,
          "predicted": 9.9375
         },
         {
          "model": "knr",
          "observed": 12.5,
          "predicted": 13.375
         },
         {
          "model": "knr",
          "observed": 21.5,
          "predicted": 14.125
         },
         {
          "model": "knr",
          "observed": 7.5,
          "predicted": 8.5
         },
         {
          "model": "knr",
          "observed": 9.5,
          "predicted": 11.4375
         },
         {
          "model": "knr",
          "observed": 6.5,
          "predicted": 7.3125
         },
         {
          "model": "knr",
          "observed": 11.5,
          "predicted": 8.5
         },
         {
          "model": "knr",
          "observed": 14.5,
          "predicted": 13.125
         },
         {
          "model": "knr",
          "observed": 11.5,
          "predicted": 11.9375
         },
         {
          "model": "knr",
          "observed": 10.5,
          "predicted": 12.9375
         },
         {
          "model": "knr",
          "observed": 11.5,
          "predicted": 12.125
         },
         {
          "model": "knr",
          "observed": 11.5,
          "predicted": 14.3125
         },
         {
          "model": "knr",
          "observed": 13.5,
          "predicted": 11.125
         },
         {
          "model": "knr",
          "observed": 9.5,
          "predicted": 9.375
         },
         {
          "model": "knr",
          "observed": 11.5,
          "predicted": 12.6875
         },
         {
          "model": "knr",
          "observed": 12.5,
          "predicted": 9.0625
         },
         {
          "model": "knr",
          "observed": 7.5,
          "predicted": 8.8125
         },
         {
          "model": "knr",
          "observed": 13.5,
          "predicted": 12.6875
         },
         {
          "model": "knr",
          "observed": 9.5,
          "predicted": 10.75
         },
         {
          "model": "knr",
          "observed": 8.5,
          "predicted": 9.3125
         },
         {
          "model": "knr",
          "observed": 14.5,
          "predicted": 13.25
         },
         {
          "model": "knr",
          "observed": 12.5,
          "predicted": 12.1875
         },
         {
          "model": "knr",
          "observed": 13.5,
          "predicted": 11.75
         },
         {
          "model": "knr",
          "observed": 12.5,
          "predicted": 11.6875
         },
         {
          "model": "knr",
          "observed": 10.5,
          "predicted": 12.25
         },
         {
          "model": "knr",
          "observed": 12.5,
          "predicted": 13.375
         },
         {
          "model": "knr",
          "observed": 12.5,
          "predicted": 11.6875
         },
         {
          "model": "knr",
          "observed": 7.5,
          "predicted": 7.4375
         },
         {
          "model": "knr",
          "observed": 9.5,
          "predicted": 8.6875
         },
         {
          "model": "knr",
          "observed": 7.5,
          "predicted": 8.1875
         },
         {
          "model": "knr",
          "observed": 8.5,
          "predicted": 7
         },
         {
          "model": "knr",
          "observed": 9.5,
          "predicted": 10.5625
         },
         {
          "model": "knr",
          "observed": 9.5,
          "predicted": 11.375
         },
         {
          "model": "knr",
          "observed": 12.5,
          "predicted": 11.3125
         },
         {
          "model": "knr",
          "observed": 5.5,
          "predicted": 6.125
         },
         {
          "model": "knr",
          "observed": 11.5,
          "predicted": 12.5625
         },
         {
          "model": "knr",
          "observed": 7.5,
          "predicted": 8.75
         },
         {
          "model": "knr",
          "observed": 13.5,
          "predicted": 11
         },
         {
          "model": "knr",
          "observed": 11.5,
          "predicted": 13
         },
         {
          "model": "knr",
          "observed": 13.5,
          "predicted": 12.375
         },
         {
          "model": "knr",
          "observed": 10.5,
          "predicted": 11
         },
         {
          "model": "knr",
          "observed": 18.5,
          "predicted": 13.9375
         },
         {
          "model": "knr",
          "observed": 12.5,
          "predicted": 12.75
         },
         {
          "model": "knr",
          "observed": 9.5,
          "predicted": 11.625
         },
         {
          "model": "knr",
          "observed": 10.5,
          "predicted": 11.5625
         },
         {
          "model": "knr",
          "observed": 8.5,
          "predicted": 7.9375
         },
         {
          "model": "knr",
          "observed": 11.5,
          "predicted": 10.0625
         },
         {
          "model": "knr",
          "observed": 11.5,
          "predicted": 13.125
         },
         {
          "model": "knr",
          "observed": 13.5,
          "predicted": 13.5
         },
         {
          "model": "knr",
          "observed": 12.5,
          "predicted": 13.25
         },
         {
          "model": "knr",
          "observed": 11.5,
          "predicted": 11.875
         },
         {
          "model": "knr",
          "observed": 14.5,
          "predicted": 15.3125
         },
         {
          "model": "knr",
          "observed": 10.5,
          "predicted": 13.625
         },
         {
          "model": "knr",
          "observed": 9.5,
          "predicted": 12.9375
         },
         {
          "model": "knr",
          "observed": 16.5,
          "predicted": 15.5625
         },
         {
          "model": "knr",
          "observed": 9.5,
          "predicted": 9.5
         },
         {
          "model": "knr",
          "observed": 6.5,
          "predicted": 8.5
         },
         {
          "model": "knr",
          "observed": 10.5,
          "predicted": 12.25
         },
         {
          "model": "knr",
          "observed": 11.5,
          "predicted": 12.625
         },
         {
          "model": "knr",
          "observed": 12.5,
          "predicted": 13.0625
         },
         {
          "model": "knr",
          "observed": 8.5,
          "predicted": 8
         },
         {
          "model": "knr",
          "observed": 27.5,
          "predicted": 15.375
         },
         {
          "model": "knr",
          "observed": 10.5,
          "predicted": 11.8125
         },
         {
          "model": "knr",
          "observed": 10.5,
          "predicted": 12.25
         },
         {
          "model": "knr",
          "observed": 9.5,
          "predicted": 10.3125
         },
         {
          "model": "knr",
          "observed": 22.5,
          "predicted": 16.9375
         },
         {
          "model": "knr",
          "observed": 9.5,
          "predicted": 9.5
         },
         {
          "model": "knr",
          "observed": 7.5,
          "predicted": 5.4375
         },
         {
          "model": "knr",
          "observed": 13.5,
          "predicted": 13.5
         },
         {
          "model": "knr",
          "observed": 12.5,
          "predicted": 11.1875
         },
         {
          "model": "knr",
          "observed": 12.5,
          "predicted": 12.25
         },
         {
          "model": "knr",
          "observed": 18.5,
          "predicted": 14
         },
         {
          "model": "knr",
          "observed": 12.5,
          "predicted": 12.75
         },
         {
          "model": "knr",
          "observed": 12.5,
          "predicted": 13.9375
         },
         {
          "model": "knr",
          "observed": 6.5,
          "predicted": 5.625
         },
         {
          "model": "knr",
          "observed": 11.5,
          "predicted": 12.1875
         },
         {
          "model": "knr",
          "observed": 6.5,
          "predicted": 7.625
         },
         {
          "model": "knr",
          "observed": 9.5,
          "predicted": 8.625
         },
         {
          "model": "knr",
          "observed": 13.5,
          "predicted": 11.5625
         },
         {
          "model": "knr",
          "observed": 13.5,
          "predicted": 11.6875
         },
         {
          "model": "knr",
          "observed": 10.5,
          "predicted": 12.75
         },
         {
          "model": "knr",
          "observed": 7.5,
          "predicted": 8.125
         },
         {
          "model": "knr",
          "observed": 8.5,
          "predicted": 10.0625
         },
         {
          "model": "knr",
          "observed": 15.5,
          "predicted": 11.25
         },
         {
          "model": "knr",
          "observed": 11.5,
          "predicted": 13.375
         },
         {
          "model": "knr",
          "observed": 9.5,
          "predicted": 10.5625
         },
         {
          "model": "knr",
          "observed": 22.5,
          "predicted": 17.125
         },
         {
          "model": "knr",
          "observed": 11.5,
          "predicted": 14.9375
         },
         {
          "model": "knr",
          "observed": 9.5,
          "predicted": 11.0625
         },
         {
          "model": "knr",
          "observed": 7.5,
          "predicted": 9.25
         },
         {
          "model": "knr",
          "observed": 12.5,
          "predicted": 11.875
         },
         {
          "model": "knr",
          "observed": 10.5,
          "predicted": 11.4375
         },
         {
          "model": "knr",
          "observed": 15.5,
          "predicted": 12.5625
         },
         {
          "model": "knr",
          "observed": 11.5,
          "predicted": 11.875
         },
         {
          "model": "knr",
          "observed": 10.5,
          "predicted": 11.6875
         },
         {
          "model": "knr",
          "observed": 9.5,
          "predicted": 12.4375
         },
         {
          "model": "knr",
          "observed": 11.5,
          "predicted": 11.8125
         },
         {
          "model": "knr",
          "observed": 10.5,
          "predicted": 9.625
         },
         {
          "model": "knr",
          "observed": 12.5,
          "predicted": 11.125
         },
         {
          "model": "knr",
          "observed": 12.5,
          "predicted": 12.125
         },
         {
          "model": "knr",
          "observed": 9.5,
          "predicted": 11.6875
         },
         {
          "model": "knr",
          "observed": 10.5,
          "predicted": 10.75
         },
         {
          "model": "knr",
          "observed": 6.5,
          "predicted": 5.8125
         },
         {
          "model": "knr",
          "observed": 14.5,
          "predicted": 10.6875
         },
         {
          "model": "knr",
          "observed": 13.5,
          "predicted": 10.375
         },
         {
          "model": "knr",
          "observed": 10.5,
          "predicted": 10.625
         },
         {
          "model": "knr",
          "observed": 6.5,
          "predicted": 5.625
         },
         {
          "model": "knr",
          "observed": 10.5,
          "predicted": 12
         },
         {
          "model": "knr",
          "observed": 8.5,
          "predicted": 10.0625
         },
         {
          "model": "knr",
          "observed": 14.5,
          "predicted": 11.625
         },
         {
          "model": "knr",
          "observed": 11.5,
          "predicted": 12.875
         },
         {
          "model": "knr",
          "observed": 9.5,
          "predicted": 10
         },
         {
          "model": "knr",
          "observed": 9.5,
          "predicted": 10.0625
         },
         {
          "model": "knr",
          "observed": 9.5,
          "predicted": 12.5625
         },
         {
          "model": "knr",
          "observed": 11.5,
          "predicted": 12.125
         },
         {
          "model": "knr",
          "observed": 14.5,
          "predicted": 13.3125
         },
         {
          "model": "knr",
          "observed": 8.5,
          "predicted": 8.6875
         },
         {
          "model": "knr",
          "observed": 23.5,
          "predicted": 14.125
         },
         {
          "model": "knr",
          "observed": 9.5,
          "predicted": 10.4375
         },
         {
          "model": "knr",
          "observed": 8.5,
          "predicted": 10.3125
         },
         {
          "model": "knr",
          "observed": 9.5,
          "predicted": 10.5625
         },
         {
          "model": "knr",
          "observed": 9.5,
          "predicted": 8.8125
         },
         {
          "model": "knr",
          "observed": 11.5,
          "predicted": 10.125
         },
         {
          "model": "knr",
          "observed": 13.5,
          "predicted": 13.8125
         },
         {
          "model": "knr",
          "observed": 11.5,
          "predicted": 11.625
         },
         {
          "model": "knr",
          "observed": 12.5,
          "predicted": 11.875
         },
         {
          "model": "knr",
          "observed": 7.5,
          "predicted": 8.5625
         },
         {
          "model": "knr",
          "observed": 10.5,
          "predicted": 10.625
         },
         {
          "model": "knr",
          "observed": 7.5,
          "predicted": 7.8125
         },
         {
          "model": "knr",
          "observed": 12.5,
          "predicted": 11.75
         },
         {
          "model": "knr",
          "observed": 12.5,
          "predicted": 11.25
         },
         {
          "model": "knr",
          "observed": 11.5,
          "predicted": 12.125
         },
         {
          "model": "knr",
          "observed": 11.5,
          "predicted": 12.3125
         },
         {
          "model": "knr",
          "observed": 10.5,
          "predicted": 11.4375
         },
         {
          "model": "knr",
          "observed": 12.5,
          "predicted": 12.75
         },
         {
          "model": "knr",
          "observed": 10.5,
          "predicted": 11.625
         },
         {
          "model": "knr",
          "observed": 13.5,
          "predicted": 13.0625
         },
         {
          "model": "knr",
          "observed": 11.5,
          "predicted": 11.9375
         },
         {
          "model": "knr",
          "observed": 10.5,
          "predicted": 11.6875
         },
         {
          "model": "knr",
          "observed": 14.5,
          "predicted": 10.9375
         },
         {
          "model": "knr",
          "observed": 8.5,
          "predicted": 9.625
         },
         {
          "model": "knr",
          "observed": 12.5,
          "predicted": 12.0625
         },
         {
          "model": "knr",
          "observed": 5.5,
          "predicted": 5.25
         },
         {
          "model": "knr",
          "observed": 9.5,
          "predicted": 10.75
         },
         {
          "model": "knr",
          "observed": 11.5,
          "predicted": 14.6875
         },
         {
          "model": "knr",
          "observed": 11.5,
          "predicted": 11.9375
         },
         {
          "model": "knr",
          "observed": 10.5,
          "predicted": 11.625
         },
         {
          "model": "knr",
          "observed": 15.5,
          "predicted": 12.5625
         },
         {
          "model": "knr",
          "observed": 8.5,
          "predicted": 9.0625
         },
         {
          "model": "knr",
          "observed": 10.5,
          "predicted": 11.3125
         },
         {
          "model": "knr",
          "observed": 10.5,
          "predicted": 11.4375
         },
         {
          "model": "knr",
          "observed": 9.5,
          "predicted": 11.6875
         },
         {
          "model": "knr",
          "observed": 12.5,
          "predicted": 13.125
         },
         {
          "model": "knr",
          "observed": 17.5,
          "predicted": 14.6875
         },
         {
          "model": "knr",
          "observed": 12.5,
          "predicted": 13.0625
         },
         {
          "model": "knr",
          "observed": 13.5,
          "predicted": 12.5
         },
         {
          "model": "knr",
          "observed": 10.5,
          "predicted": 9.8125
         },
         {
          "model": "knr",
          "observed": 11.5,
          "predicted": 10.5625
         },
         {
          "model": "knr",
          "observed": 16.5,
          "predicted": 14.1875
         },
         {
          "model": "knr",
          "observed": 13.5,
          "predicted": 10.875
         },
         {
          "model": "knr",
          "observed": 11.5,
          "predicted": 11.125
         },
         {
          "model": "knr",
          "observed": 10.5,
          "predicted": 10.0625
         },
         {
          "model": "knr",
          "observed": 5.5,
          "predicted": 6.75
         },
         {
          "model": "knr",
          "observed": 17.5,
          "predicted": 18.1875
         },
         {
          "model": "knr",
          "observed": 18.5,
          "predicted": 13.8125
         },
         {
          "model": "knr",
          "observed": 10.5,
          "predicted": 9.9375
         },
         {
          "model": "knr",
          "observed": 11.5,
          "predicted": 12.5
         },
         {
          "model": "knr",
          "observed": 9.5,
          "predicted": 10.8125
         },
         {
          "model": "knr",
          "observed": 10.5,
          "predicted": 9.8125
         },
         {
          "model": "knr",
          "observed": 6.5,
          "predicted": 8.0625
         },
         {
          "model": "knr",
          "observed": 12.5,
          "predicted": 12.5625
         },
         {
          "model": "knr",
          "observed": 16.5,
          "predicted": 11.0625
         },
         {
          "model": "knr",
          "observed": 10.5,
          "predicted": 12
         },
         {
          "model": "knr",
          "observed": 10.5,
          "predicted": 11.8125
         },
         {
          "model": "knr",
          "observed": 11.5,
          "predicted": 10.25
         },
         {
          "model": "knr",
          "observed": 7.5,
          "predicted": 5.625
         },
         {
          "model": "knr",
          "observed": 14.5,
          "predicted": 15.5
         },
         {
          "model": "knr",
          "observed": 11.5,
          "predicted": 12.1875
         },
         {
          "model": "knr",
          "observed": 13.5,
          "predicted": 10.3125
         },
         {
          "model": "knr",
          "observed": 12.5,
          "predicted": 14.4375
         },
         {
          "model": "knr",
          "observed": 11.5,
          "predicted": 9.25
         },
         {
          "model": "knr",
          "observed": 8.5,
          "predicted": 11.25
         },
         {
          "model": "knr",
          "observed": 13.5,
          "predicted": 14
         },
         {
          "model": "knr",
          "observed": 14.5,
          "predicted": 11.4375
         },
         {
          "model": "knr",
          "observed": 15.5,
          "predicted": 14.5625
         },
         {
          "model": "knr",
          "observed": 6.5,
          "predicted": 8.625
         },
         {
          "model": "knr",
          "observed": 10.5,
          "predicted": 10.75
         },
         {
          "model": "knr",
          "observed": 12.5,
          "predicted": 12.6875
         },
         {
          "model": "knr",
          "observed": 10.5,
          "predicted": 10.875
         },
         {
          "model": "knr",
          "observed": 10.5,
          "predicted": 11.875
         },
         {
          "model": "knr",
          "observed": 11.5,
          "predicted": 11.1875
         },
         {
          "model": "knr",
          "observed": 8.5,
          "predicted": 10.125
         },
         {
          "model": "knr",
          "observed": 11.5,
          "predicted": 11.375
         },
         {
          "model": "knr",
          "observed": 10.5,
          "predicted": 13.125
         },
         {
          "model": "knr",
          "observed": 10.5,
          "predicted": 10
         },
         {
          "model": "knr",
          "observed": 7.5,
          "predicted": 8.875
         },
         {
          "model": "knr",
          "observed": 19.5,
          "predicted": 11.625
         },
         {
          "model": "knr",
          "observed": 14.5,
          "predicted": 13.3125
         },
         {
          "model": "knr",
          "observed": 8.5,
          "predicted": 10.25
         },
         {
          "model": "knr",
          "observed": 8.5,
          "predicted": 11.125
         },
         {
          "model": "knr",
          "observed": 11.5,
          "predicted": 12.5625
         },
         {
          "model": "knr",
          "observed": 7.5,
          "predicted": 8.25
         },
         {
          "model": "knr",
          "observed": 12.5,
          "predicted": 11.875
         },
         {
          "model": "knr",
          "observed": 8.5,
          "predicted": 9.75
         },
         {
          "model": "knr",
          "observed": 13.5,
          "predicted": 11.5625
         },
         {
          "model": "knr",
          "observed": 11.5,
          "predicted": 11.6875
         },
         {
          "model": "knr",
          "observed": 12.5,
          "predicted": 11.4375
         },
         {
          "model": "knr",
          "observed": 11.5,
          "predicted": 11.8125
         },
         {
          "model": "knr",
          "observed": 12.5,
          "predicted": 11.5625
         },
         {
          "model": "knr",
          "observed": 10.5,
          "predicted": 11.75
         },
         {
          "model": "knr",
          "observed": 11.5,
          "predicted": 11
         },
         {
          "model": "knr",
          "observed": 6.5,
          "predicted": 6.375
         },
         {
          "model": "knr",
          "observed": 11.5,
          "predicted": 12.5
         },
         {
          "model": "knr",
          "observed": 10.5,
          "predicted": 10.625
         },
         {
          "model": "knr",
          "observed": 17.5,
          "predicted": 14.9375
         },
         {
          "model": "knr",
          "observed": 6.5,
          "predicted": 7.5625
         },
         {
          "model": "knr",
          "observed": 9.5,
          "predicted": 9.625
         },
         {
          "model": "knr",
          "observed": 8.5,
          "predicted": 8.1875
         },
         {
          "model": "knr",
          "observed": 7.5,
          "predicted": 8.25
         },
         {
          "model": "knr",
          "observed": 14.5,
          "predicted": 13.5625
         },
         {
          "model": "knr",
          "observed": 12.5,
          "predicted": 14.1875
         },
         {
          "model": "knr",
          "observed": 11.5,
          "predicted": 10.8125
         },
         {
          "model": "knr",
          "observed": 16.5,
          "predicted": 14.125
         },
         {
          "model": "knr",
          "observed": 10.5,
          "predicted": 11.375
         },
         {
          "model": "knr",
          "observed": 14.5,
          "predicted": 15.75
         },
         {
          "model": "knr",
          "observed": 12.5,
          "predicted": 12
         },
         {
          "model": "knr",
          "observed": 9.5,
          "predicted": 11.3125
         },
         {
          "model": "knr",
          "observed": 9.5,
          "predicted": 11.0625
         },
         {
          "model": "knr",
          "observed": 9.5,
          "predicted": 10.125
         },
         {
          "model": "knr",
          "observed": 10.5,
          "predicted": 11.5625
         },
         {
          "model": "knr",
          "observed": 8.5,
          "predicted": 8.1875
         },
         {
          "model": "knr",
          "observed": 13.5,
          "predicted": 12.5
         },
         {
          "model": "knr",
          "observed": 8.5,
          "predicted": 8.6875
         },
         {
          "model": "knr",
          "observed": 10.5,
          "predicted": 11
         },
         {
          "model": "knr",
          "observed": 11.5,
          "predicted": 9.0625
         },
         {
          "model": "knr",
          "observed": 10.5,
          "predicted": 13.1875
         },
         {
          "model": "knr",
          "observed": 9.5,
          "predicted": 11.5
         },
         {
          "model": "knr",
          "observed": 9.5,
          "predicted": 9.9375
         },
         {
          "model": "knr",
          "observed": 6.5,
          "predicted": 7.25
         },
         {
          "model": "knr",
          "observed": 11.5,
          "predicted": 11.75
         },
         {
          "model": "knr",
          "observed": 7.5,
          "predicted": 8.8125
         },
         {
          "model": "knr",
          "observed": 14.5,
          "predicted": 12.9375
         },
         {
          "model": "knr",
          "observed": 11.5,
          "predicted": 10.8125
         },
         {
          "model": "knr",
          "observed": 10.5,
          "predicted": 9.6875
         },
         {
          "model": "knr",
          "observed": 7.5,
          "predicted": 7.6875
         },
         {
          "model": "knr",
          "observed": 11.5,
          "predicted": 12.25
         },
         {
          "model": "knr",
          "observed": 9.5,
          "predicted": 11.125
         },
         {
          "model": "knr",
          "observed": 11.5,
          "predicted": 15.5625
         },
         {
          "model": "knr",
          "observed": 13.5,
          "predicted": 12.5
         },
         {
          "model": "knr",
          "observed": 15.5,
          "predicted": 12.75
         },
         {
          "model": "knr",
          "observed": 14.5,
          "predicted": 11.375
         },
         {
          "model": "knr",
          "observed": 12.5,
          "predicted": 11.875
         },
         {
          "model": "knr",
          "observed": 8.5,
          "predicted": 9.3125
         },
         {
          "model": "knr",
          "observed": 10.5,
          "predicted": 11.8125
         },
         {
          "model": "knr",
          "observed": 7.5,
          "predicted": 5.4375
         },
         {
          "model": "knr",
          "observed": 11.5,
          "predicted": 12.5625
         },
         {
          "model": "knr",
          "observed": 11.5,
          "predicted": 12.5
         },
         {
          "model": "knr",
          "observed": 15.5,
          "predicted": 15.6875
         },
         {
          "model": "knr",
          "observed": 8.5,
          "predicted": 8.9375
         },
         {
          "model": "knr",
          "observed": 7.5,
          "predicted": 7.8125
         },
         {
          "model": "knr",
          "observed": 8.5,
          "predicted": 10
         },
         {
          "model": "knr",
          "observed": 11.5,
          "predicted": 12.0625
         },
         {
          "model": "knr",
          "observed": 2.5,
          "predicted": 5.1875
         },
         {
          "model": "knr",
          "observed": 9.5,
          "predicted": 9.3125
         },
         {
          "model": "knr",
          "observed": 16.5,
          "predicted": 12.875
         },
         {
          "model": "knr",
          "observed": 10.5,
          "predicted": 11.1875
         },
         {
          "model": "knr",
          "observed": 7.5,
          "predicted": 7.625
         },
         {
          "model": "knr",
          "observed": 14.5,
          "predicted": 11.75
         },
         {
          "model": "knr",
          "observed": 15.5,
          "predicted": 12.5625
         },
         {
          "model": "knr",
          "observed": 15.5,
          "predicted": 14.4375
         },
         {
          "model": "knr",
          "observed": 12.5,
          "predicted": 13.8125
         },
         {
          "model": "knr",
          "observed": 9.5,
          "predicted": 9.5625
         },
         {
          "model": "knr",
          "observed": 11.5,
          "predicted": 10.875
         },
         {
          "model": "knr",
          "observed": 13.5,
          "predicted": 12.5625
         },
         {
          "model": "knr",
          "observed": 12.5,
          "predicted": 12.375
         },
         {
          "model": "knr",
          "observed": 11.5,
          "predicted": 11.1875
         },
         {
          "model": "knr",
          "observed": 4.5,
          "predicted": 5.125
         },
         {
          "model": "knr",
          "observed": 13.5,
          "predicted": 13.3125
         },
         {
          "model": "knr",
          "observed": 11.5,
          "predicted": 11.25
         },
         {
          "model": "knr",
          "observed": 11.5,
          "predicted": 9.875
         },
         {
          "model": "knr",
          "observed": 12.5,
          "predicted": 12.5625
         },
         {
          "model": "knr",
          "observed": 8.5,
          "predicted": 9
         },
         {
          "model": "knr",
          "observed": 10.5,
          "predicted": 10.75
         },
         {
          "model": "knr",
          "observed": 10.5,
          "predicted": 12.6875
         },
         {
          "model": "knr",
          "observed": 11.5,
          "predicted": 11.3125
         },
         {
          "model": "knr",
          "observed": 12.5,
          "predicted": 13.25
         },
         {
          "model": "knr",
          "observed": 15.5,
          "predicted": 14.375
         },
         {
          "model": "knr",
          "observed": 11.5,
          "predicted": 11.8125
         },
         {
          "model": "knr",
          "observed": 21.5,
          "predicted": 15.375
         },
         {
          "model": "knr",
          "observed": 13.5,
          "predicted": 10.5
         },
         {
          "model": "knr",
          "observed": 8.5,
          "predicted": 9.125
         },
         {
          "model": "knr",
          "observed": 11.5,
          "predicted": 12.5625
         },
         {
          "model": "knr",
          "observed": 14.5,
          "predicted": 12.375
         },
         {
          "model": "knr",
          "observed": 14.5,
          "predicted": 12.0625
         },
         {
          "model": "knr",
          "observed": 6.5,
          "predicted": 7.0625
         },
         {
          "model": "knr",
          "observed": 12.5,
          "predicted": 11.6875
         },
         {
          "model": "knr",
          "observed": 10.5,
          "predicted": 9.9375
         },
         {
          "model": "knr",
          "observed": 12.5,
          "predicted": 12.125
         },
         {
          "model": "knr",
          "observed": 7.5,
          "predicted": 9.25
         },
         {
          "model": "knr",
          "observed": 12.5,
          "predicted": 10.375
         },
         {
          "model": "knr",
          "observed": 10.5,
          "predicted": 10.8125
         },
         {
          "model": "knr",
          "observed": 22.5,
          "predicted": 15.8125
         },
         {
          "model": "knr",
          "observed": 8.5,
          "predicted": 7.9375
         },
         {
          "model": "knr",
          "observed": 9.5,
          "predicted": 9.75
         },
         {
          "model": "knr",
          "observed": 9.5,
          "predicted": 9.0625
         },
         {
          "model": "knr",
          "observed": 12.5,
          "predicted": 11.1875
         },
         {
          "model": "knr",
          "observed": 13.5,
          "predicted": 12.6875
         },
         {
          "model": "knr",
          "observed": 11.5,
          "predicted": 12.75
         },
         {
          "model": "knr",
          "observed": 15.5,
          "predicted": 13.875
         },
         {
          "model": "knr",
          "observed": 14.5,
          "predicted": 13.6875
         },
         {
          "model": "knr",
          "observed": 9.5,
          "predicted": 11.9375
         },
         {
          "model": "knr",
          "observed": 9.5,
          "predicted": 11.125
         },
         {
          "model": "knr",
          "observed": 6.5,
          "predicted": 10.4375
         },
         {
          "model": "knr",
          "observed": 15.5,
          "predicted": 13.125
         },
         {
          "model": "knr",
          "observed": 21.5,
          "predicted": 16.875
         },
         {
          "model": "knr",
          "observed": 12.5,
          "predicted": 10.875
         },
         {
          "model": "knr",
          "observed": 9.5,
          "predicted": 9.375
         },
         {
          "model": "knr",
          "observed": 11.5,
          "predicted": 13
         },
         {
          "model": "knr",
          "observed": 7.5,
          "predicted": 8.4375
         },
         {
          "model": "knr",
          "observed": 9.5,
          "predicted": 11.375
         },
         {
          "model": "knr",
          "observed": 10.5,
          "predicted": 10.375
         },
         {
          "model": "knr",
          "observed": 16.5,
          "predicted": 13.125
         },
         {
          "model": "knr",
          "observed": 8.5,
          "predicted": 11.4375
         },
         {
          "model": "knr",
          "observed": 13.5,
          "predicted": 17.1875
         },
         {
          "model": "knr",
          "observed": 8.5,
          "predicted": 9
         },
         {
          "model": "knr",
          "observed": 11.5,
          "predicted": 12.6875
         },
         {
          "model": "knr",
          "observed": 12.5,
          "predicted": 11.125
         },
         {
          "model": "knr",
          "observed": 14.5,
          "predicted": 13.0625
         },
         {
          "model": "knr",
          "observed": 16.5,
          "predicted": 14.5625
         },
         {
          "model": "knr",
          "observed": 7.5,
          "predicted": 8.625
         },
         {
          "model": "knr",
          "observed": 8.5,
          "predicted": 9.8125
         },
         {
          "model": "knr",
          "observed": 14.5,
          "predicted": 12.8125
         },
         {
          "model": "knr",
          "observed": 10.5,
          "predicted": 11.8125
         },
         {
          "model": "knr",
          "observed": 11.5,
          "predicted": 11.625
         },
         {
          "model": "knr",
          "observed": 9.5,
          "predicted": 10.8125
         },
         {
          "model": "knr",
          "observed": 9.5,
          "predicted": 8.375
         },
         {
          "model": "knr",
          "observed": 9.5,
          "predicted": 7.5
         },
         {
          "model": "knr",
          "observed": 10.5,
          "predicted": 11.125
         },
         {
          "model": "knr",
          "observed": 10.5,
          "predicted": 11.125
         },
         {
          "model": "knr",
          "observed": 14.5,
          "predicted": 13.875
         },
         {
          "model": "knr",
          "observed": 13.5,
          "predicted": 10.5
         },
         {
          "model": "knr",
          "observed": 7.5,
          "predicted": 8.875
         },
         {
          "model": "knr",
          "observed": 10.5,
          "predicted": 11.875
         },
         {
          "model": "knr",
          "observed": 12.5,
          "predicted": 11.6875
         },
         {
          "model": "knr",
          "observed": 9.5,
          "predicted": 10.5
         },
         {
          "model": "knr",
          "observed": 12.5,
          "predicted": 11.4375
         },
         {
          "model": "knr",
          "observed": 8.5,
          "predicted": 7.625
         },
         {
          "model": "knr",
          "observed": 17.5,
          "predicted": 14.25
         },
         {
          "model": "knr",
          "observed": 12.5,
          "predicted": 11.4375
         },
         {
          "model": "knr",
          "observed": 10.5,
          "predicted": 10.6875
         },
         {
          "model": "knr",
          "observed": 6.5,
          "predicted": 7.875
         },
         {
          "model": "knr",
          "observed": 7.5,
          "predicted": 8.5
         },
         {
          "model": "knr",
          "observed": 16.5,
          "predicted": 12.0625
         },
         {
          "model": "knr",
          "observed": 10.5,
          "predicted": 10.875
         },
         {
          "model": "knr",
          "observed": 9.5,
          "predicted": 12.25
         },
         {
          "model": "knr",
          "observed": 13.5,
          "predicted": 13.6875
         },
         {
          "model": "knr",
          "observed": 12.5,
          "predicted": 12.6875
         },
         {
          "model": "knr",
          "observed": 8.5,
          "predicted": 8.6875
         },
         {
          "model": "knr",
          "observed": 15.5,
          "predicted": 14
         },
         {
          "model": "knr",
          "observed": 18.5,
          "predicted": 15.5625
         },
         {
          "model": "knr",
          "observed": 15.5,
          "predicted": 12.5625
         },
         {
          "model": "knr",
          "observed": 17.5,
          "predicted": 11.5625
         },
         {
          "model": "knr",
          "observed": 9.5,
          "predicted": 10.4375
         },
         {
          "model": "knr",
          "observed": 10.5,
          "predicted": 11
         },
         {
          "model": "knr",
          "observed": 9.5,
          "predicted": 9.1875
         },
         {
          "model": "knr",
          "observed": 9.5,
          "predicted": 10.625
         },
         {
          "model": "knr",
          "observed": 8.5,
          "predicted": 9.625
         },
         {
          "model": "knr",
          "observed": 11.5,
          "predicted": 12
         },
         {
          "model": "knr",
          "observed": 5.5,
          "predicted": 5.4375
         },
         {
          "model": "knr",
          "observed": 11.5,
          "predicted": 13.1875
         },
         {
          "model": "knr",
          "observed": 7.5,
          "predicted": 8.3125
         },
         {
          "model": "knr",
          "observed": 10.5,
          "predicted": 12.125
         },
         {
          "model": "knr",
          "observed": 13.5,
          "predicted": 12.625
         },
         {
          "model": "knr",
          "observed": 10.5,
          "predicted": 11.5
         },
         {
          "model": "knr",
          "observed": 7.5,
          "predicted": 8.6875
         },
         {
          "model": "knr",
          "observed": 12.5,
          "predicted": 9.9375
         },
         {
          "model": "knr",
          "observed": 7.5,
          "predicted": 8.1875
         },
         {
          "model": "knr",
          "observed": 19.5,
          "predicted": 13.5625
         },
         {
          "model": "knr",
          "observed": 11.5,
          "predicted": 12.0625
         },
         {
          "model": "knr",
          "observed": 12.5,
          "predicted": 13.625
         },
         {
          "model": "knr",
          "observed": 13.5,
          "predicted": 11.625
         },
         {
          "model": "knr",
          "observed": 6.5,
          "predicted": 6.625
         },
         {
          "model": "knr",
          "observed": 12.5,
          "predicted": 11.1875
         },
         {
          "model": "knr",
          "observed": 10.5,
          "predicted": 9.1875
         },
         {
          "model": "knr",
          "observed": 10.5,
          "predicted": 11.9375
         },
         {
          "model": "knr",
          "observed": 16.5,
          "predicted": 13.125
         },
         {
          "model": "knr",
          "observed": 10.5,
          "predicted": 9.625
         },
         {
          "model": "knr",
          "observed": 9.5,
          "predicted": 8.9375
         },
         {
          "model": "knr",
          "observed": 11.5,
          "predicted": 15.0625
         },
         {
          "model": "knr",
          "observed": 14.5,
          "predicted": 10
         },
         {
          "model": "knr",
          "observed": 12.5,
          "predicted": 11.875
         },
         {
          "model": "knr",
          "observed": 8.5,
          "predicted": 8.625
         },
         {
          "model": "knr",
          "observed": 12.5,
          "predicted": 13.125
         },
         {
          "model": "knr",
          "observed": 11.5,
          "predicted": 12
         },
         {
          "model": "knr",
          "observed": 8.5,
          "predicted": 10.9375
         },
         {
          "model": "knr",
          "observed": 11.5,
          "predicted": 10.1875
         },
         {
          "model": "knr",
          "observed": 12.5,
          "predicted": 13.5625
         },
         {
          "model": "knr",
          "observed": 11.5,
          "predicted": 10.5625
         },
         {
          "model": "knr",
          "observed": 12.5,
          "predicted": 12.5
         },
         {
          "model": "knr",
          "observed": 12.5,
          "predicted": 12.6875
         },
         {
          "model": "knr",
          "observed": 10.5,
          "predicted": 12.875
         },
         {
          "model": "knr",
          "observed": 11.5,
          "predicted": 11.625
         },
         {
          "model": "knr",
          "observed": 11.5,
          "predicted": 13.125
         },
         {
          "model": "knr",
          "observed": 21.5,
          "predicted": 17.0625
         },
         {
          "model": "knr",
          "observed": 9.5,
          "predicted": 11.25
         },
         {
          "model": "knr",
          "observed": 7.5,
          "predicted": 7.5625
         },
         {
          "model": "knr",
          "observed": 12.5,
          "predicted": 12.5
         },
         {
          "model": "knr",
          "observed": 10.5,
          "predicted": 10
         },
         {
          "model": "knr",
          "observed": 7.5,
          "predicted": 6.6875
         },
         {
          "model": "knr",
          "observed": 28.5,
          "predicted": 17.8125
         },
         {
          "model": "knr",
          "observed": 14.5,
          "predicted": 14.125
         },
         {
          "model": "knr",
          "observed": 9.5,
          "predicted": 10.8125
         },
         {
          "model": "knr",
          "observed": 13.5,
          "predicted": 9.75
         },
         {
          "model": "knr",
          "observed": 9.5,
          "predicted": 10.25
         },
         {
          "model": "knr",
          "observed": 11.5,
          "predicted": 12.5
         },
         {
          "model": "knr",
          "observed": 16.5,
          "predicted": 14.25
         },
         {
          "model": "knr",
          "observed": 10.5,
          "predicted": 10.6875
         },
         {
          "model": "knr",
          "observed": 10.5,
          "predicted": 11.375
         },
         {
          "model": "knr",
          "observed": 10.5,
          "predicted": 15.375
         },
         {
          "model": "knr",
          "observed": 11.5,
          "predicted": 13.125
         },
         {
          "model": "knr",
          "observed": 18.5,
          "predicted": 11.75
         },
         {
          "model": "knr",
          "observed": 12.5,
          "predicted": 12.3125
         },
         {
          "model": "knr",
          "observed": 9.5,
          "predicted": 9.9375
         },
         {
          "model": "knr",
          "observed": 16.5,
          "predicted": 13.375
         },
         {
          "model": "knr",
          "observed": 13.5,
          "predicted": 13
         },
         {
          "model": "knr",
          "observed": 20.5,
          "predicted": 14.3125
         },
         {
          "model": "knr",
          "observed": 10.5,
          "predicted": 10.4375
         },
         {
          "model": "knr",
          "observed": 10.5,
          "predicted": 12.6875
         },
         {
          "model": "knr",
          "observed": 9.5,
          "predicted": 12.75
         },
         {
          "model": "knr",
          "observed": 12.5,
          "predicted": 12.625
         },
         {
          "model": "knr",
          "observed": 10.5,
          "predicted": 10.3125
         },
         {
          "model": "knr",
          "observed": 11.5,
          "predicted": 11.625
         },
         {
          "model": "knr",
          "observed": 12.5,
          "predicted": 12.125
         },
         {
          "model": "knr",
          "observed": 9.5,
          "predicted": 12.75
         },
         {
          "model": "knr",
          "observed": 12.5,
          "predicted": 11.4375
         },
         {
          "model": "knr",
          "observed": 12.5,
          "predicted": 10.625
         },
         {
          "model": "knr",
          "observed": 10.5,
          "predicted": 11.125
         },
         {
          "model": "knr",
          "observed": 15.5,
          "predicted": 16.5625
         },
         {
          "model": "knr",
          "observed": 11.5,
          "predicted": 13.625
         },
         {
          "model": "knr",
          "observed": 11.5,
          "predicted": 11.375
         },
         {
          "model": "knr",
          "observed": 17.5,
          "predicted": 14.8125
         },
         {
          "model": "knr",
          "observed": 8.5,
          "predicted": 8.125
         },
         {
          "model": "knr",
          "observed": 7.5,
          "predicted": 9.1875
         },
         {
          "model": "knr",
          "observed": 11.5,
          "predicted": 12.75
         },
         {
          "model": "knr",
          "observed": 7.5,
          "predicted": 9.0625
         },
         {
          "model": "knr",
          "observed": 6.5,
          "predicted": 7.3125
         },
         {
          "model": "knr",
          "observed": 11.5,
          "predicted": 10.5625
         },
         {
          "model": "knr",
          "observed": 12.5,
          "predicted": 12.25
         },
         {
          "model": "knr",
          "observed": 13.5,
          "predicted": 13.375
         },
         {
          "model": "knr",
          "observed": 8.5,
          "predicted": 9
         },
         {
          "model": "knr",
          "observed": 16.5,
          "predicted": 15.9375
         },
         {
          "model": "knr",
          "observed": 11.5,
          "predicted": 12.5625
         },
         {
          "model": "knr",
          "observed": 9.5,
          "predicted": 10.0625
         },
         {
          "model": "knr",
          "observed": 9.5,
          "predicted": 9.4375
         },
         {
          "model": "knr",
          "observed": 9.5,
          "predicted": 9.75
         },
         {
          "model": "knr",
          "observed": 12.5,
          "predicted": 12.8125
         },
         {
          "model": "knr",
          "observed": 10.5,
          "predicted": 12.125
         },
         {
          "model": "knr",
          "observed": 8.5,
          "predicted": 8
         },
         {
          "model": "knr",
          "observed": 6.5,
          "predicted": 6.125
         },
         {
          "model": "knr",
          "observed": 11.5,
          "predicted": 12.25
         },
         {
          "model": "knr",
          "observed": 19.5,
          "predicted": 14.5
         },
         {
          "model": "knr",
          "observed": 9.5,
          "predicted": 8.875
         },
         {
          "model": "knr",
          "observed": 9.5,
          "predicted": 11.4375
         },
         {
          "model": "knr",
          "observed": 7.5,
          "predicted": 8.8125
         },
         {
          "model": "knr",
          "observed": 13.5,
          "predicted": 12.9375
         },
         {
          "model": "knr",
          "observed": 22.5,
          "predicted": 12.3125
         },
         {
          "model": "knr",
          "observed": 17.5,
          "predicted": 15.9375
         },
         {
          "model": "knr",
          "observed": 8.5,
          "predicted": 8.75
         },
         {
          "model": "knr",
          "observed": 16.5,
          "predicted": 13.25
         },
         {
          "model": "knr",
          "observed": 12.5,
          "predicted": 11
         },
         {
          "model": "knr",
          "observed": 10.5,
          "predicted": 12
         },
         {
          "model": "knr",
          "observed": 13.5,
          "predicted": 11.5625
         },
         {
          "model": "knr",
          "observed": 12.5,
          "predicted": 13.75
         },
         {
          "model": "knr",
          "observed": 12.5,
          "predicted": 11.9375
         },
         {
          "model": "knr",
          "observed": 13.5,
          "predicted": 15.625
         },
         {
          "model": "knr",
          "observed": 12.5,
          "predicted": 11.0625
         },
         {
          "model": "knr",
          "observed": 12.5,
          "predicted": 11.8125
         },
         {
          "model": "knr",
          "observed": 8.5,
          "predicted": 9.875
         },
         {
          "model": "knr",
          "observed": 8.5,
          "predicted": 9
         },
         {
          "model": "knr",
          "observed": 8.5,
          "predicted": 8.125
         },
         {
          "model": "knr",
          "observed": 11.5,
          "predicted": 16.1875
         },
         {
          "model": "knr",
          "observed": 9.5,
          "predicted": 9.9375
         },
         {
          "model": "svr",
          "observed": 12.5,
          "predicted": 12.366439389411925
         },
         {
          "model": "svr",
          "observed": 11.5,
          "predicted": 13.03965266138707
         },
         {
          "model": "svr",
          "observed": 10.5,
          "predicted": 11.134228824147533
         },
         {
          "model": "svr",
          "observed": 9.5,
          "predicted": 12.528858857742925
         },
         {
          "model": "svr",
          "observed": 14.5,
          "predicted": 12.728617002161272
         },
         {
          "model": "svr",
          "observed": 11.5,
          "predicted": 12.619763344873554
         },
         {
          "model": "svr",
          "observed": 8.5,
          "predicted": 8.313047219996992
         },
         {
          "model": "svr",
          "observed": 10.5,
          "predicted": 9.887052886938232
         },
         {
          "model": "svr",
          "observed": 12.5,
          "predicted": 12.631400297162338
         },
         {
          "model": "svr",
          "observed": 13.5,
          "predicted": 11.627754642939717
         },
         {
          "model": "svr",
          "observed": 14.5,
          "predicted": 11.534658696811578
         },
         {
          "model": "svr",
          "observed": 13.5,
          "predicted": 12.18472618854986
         },
         {
          "model": "svr",
          "observed": 10.5,
          "predicted": 8.672029531241055
         },
         {
          "model": "svr",
          "observed": 11.5,
          "predicted": 11.619369840673672
         },
         {
          "model": "svr",
          "observed": 18.5,
          "predicted": 15.51521449373471
         },
         {
          "model": "svr",
          "observed": 12.5,
          "predicted": 13.066873909765706
         },
         {
          "model": "svr",
          "observed": 12.5,
          "predicted": 12.495583521539121
         },
         {
          "model": "svr",
          "observed": 12.5,
          "predicted": 11.68916192116204
         },
         {
          "model": "svr",
          "observed": 9.5,
          "predicted": 9.008048325263308
         },
         {
          "model": "svr",
          "observed": 7.5,
          "predicted": 8.114204846566585
         },
         {
          "model": "svr",
          "observed": 10.5,
          "predicted": 10.76809191123314
         },
         {
          "model": "svr",
          "observed": 10.5,
          "predicted": 11.394845884243818
         },
         {
          "model": "svr",
          "observed": 19.5,
          "predicted": 14.926025119282183
         },
         {
          "model": "svr",
          "observed": 15.5,
          "predicted": 14.938088483538694
         },
         {
          "model": "svr",
          "observed": 8.5,
          "predicted": 8.938220379422383
         },
         {
          "model": "svr",
          "observed": 12.5,
          "predicted": 12.942210823873609
         },
         {
          "model": "svr",
          "observed": 8.5,
          "predicted": 8.191396937587072
         },
         {
          "model": "svr",
          "observed": 9.5,
          "predicted": 9.863364885234338
         },
         {
          "model": "svr",
          "observed": 11.5,
          "predicted": 10.117016288892454
         },
         {
          "model": "svr",
          "observed": 12.5,
          "predicted": 11.920712137239661
         },
         {
          "model": "svr",
          "observed": 7.5,
          "predicted": 8.3346486106601
         },
         {
          "model": "svr",
          "observed": 10.5,
          "predicted": 11.402997279669234
         },
         {
          "model": "svr",
          "observed": 9.5,
          "predicted": 9.836047301374954
         },
         {
          "model": "svr",
          "observed": 10.5,
          "predicted": 12.846830927436494
         },
         {
          "model": "svr",
          "observed": 8.5,
          "predicted": 8.226174604735165
         },
         {
          "model": "svr",
          "observed": 12.5,
          "predicted": 11.535032902694493
         },
         {
          "model": "svr",
          "observed": 9.5,
          "predicted": 11.844092761787637
         },
         {
          "model": "svr",
          "observed": 15.5,
          "predicted": 12.559562223916183
         },
         {
          "model": "svr",
          "observed": 11.5,
          "predicted": 11.838166303129837
         },
         {
          "model": "svr",
          "observed": 11.5,
          "predicted": 11.136238110296457
         },
         {
          "model": "svr",
          "observed": 16.5,
          "predicted": 10.507609730505955
         },
         {
          "model": "svr",
          "observed": 10.5,
          "predicted": 10.831486558147798
         },
         {
          "model": "svr",
          "observed": 14.5,
          "predicted": 15.308858691664032
         },
         {
          "model": "svr",
          "observed": 16.5,
          "predicted": 14.8739430540438
         },
         {
          "model": "svr",
          "observed": 19.5,
          "predicted": 13.631121209889544
         },
         {
          "model": "svr",
          "observed": 17.5,
          "predicted": 12.982710673808155
         },
         {
          "model": "svr",
          "observed": 11.5,
          "predicted": 9.669277582140081
         },
         {
          "model": "svr",
          "observed": 12.5,
          "predicted": 12.06064022369379
         },
         {
          "model": "svr",
          "observed": 9.5,
          "predicted": 8.86485170015657
         },
         {
          "model": "svr",
          "observed": 13.5,
          "predicted": 14.048226689663817
         },
         {
          "model": "svr",
          "observed": 9.5,
          "predicted": 8.781831367035272
         },
         {
          "model": "svr",
          "observed": 11.5,
          "predicted": 12.748578709577915
         },
         {
          "model": "svr",
          "observed": 11.5,
          "predicted": 11.408456959279059
         },
         {
          "model": "svr",
          "observed": 5.5,
          "predicted": 6.415805608738994
         },
         {
          "model": "svr",
          "observed": 11.5,
          "predicted": 11.420528021212577
         },
         {
          "model": "svr",
          "observed": 11.5,
          "predicted": 11.201215764211693
         },
         {
          "model": "svr",
          "observed": 13.5,
          "predicted": 13.025181559058572
         },
         {
          "model": "svr",
          "observed": 11.5,
          "predicted": 10.759300364432058
         },
         {
          "model": "svr",
          "observed": 10.5,
          "predicted": 10.72074289362893
         },
         {
          "model": "svr",
          "observed": 10.5,
          "predicted": 9.870335665676397
         },
         {
          "model": "svr",
          "observed": 10.5,
          "predicted": 12.719633053516382
         },
         {
          "model": "svr",
          "observed": 13.5,
          "predicted": 13.292362504292013
         },
         {
          "model": "svr",
          "observed": 9.5,
          "predicted": 11.214799289651989
         },
         {
          "model": "svr",
          "observed": 13.5,
          "predicted": 10.837371080599212
         },
         {
          "model": "svr",
          "observed": 13.5,
          "predicted": 12.98592339515982
         },
         {
          "model": "svr",
          "observed": 12.5,
          "predicted": 13.638404217907382
         },
         {
          "model": "svr",
          "observed": 10.5,
          "predicted": 10.887277983684182
         },
         {
          "model": "svr",
          "observed": 8.5,
          "predicted": 8.268117866040702
         },
         {
          "model": "svr",
          "observed": 12.5,
          "predicted": 11.962551311849468
         },
         {
          "model": "svr",
          "observed": 9.5,
          "predicted": 11.504413126448789
         },
         {
          "model": "svr",
          "observed": 6.5,
          "predicted": 7.237334261457184
         },
         {
          "model": "svr",
          "observed": 10.5,
          "predicted": 10.662585470267956
         },
         {
          "model": "svr",
          "observed": 11.5,
          "predicted": 14.101121766224104
         },
         {
          "model": "svr",
          "observed": 11.5,
          "predicted": 11.902918786082616
         },
         {
          "model": "svr",
          "observed": 10.5,
          "predicted": 10.399177839959162
         },
         {
          "model": "svr",
          "observed": 13.5,
          "predicted": 15.117002312596963
         },
         {
          "model": "svr",
          "observed": 11.5,
          "predicted": 10.78071740201143
         },
         {
          "model": "svr",
          "observed": 7.5,
          "predicted": 8.077473132846299
         },
         {
          "model": "svr",
          "observed": 11.5,
          "predicted": 12.553175474380325
         },
         {
          "model": "svr",
          "observed": 13.5,
          "predicted": 15.033945116064672
         },
         {
          "model": "svr",
          "observed": 15.5,
          "predicted": 15.703066147426487
         },
         {
          "model": "svr",
          "observed": 13.5,
          "predicted": 14.386157158811768
         },
         {
          "model": "svr",
          "observed": 11.5,
          "predicted": 11.04694717180525
         },
         {
          "model": "svr",
          "observed": 7.5,
          "predicted": 7.071666770477564
         },
         {
          "model": "svr",
          "observed": 14.5,
          "predicted": 13.68047619675701
         },
         {
          "model": "svr",
          "observed": 10.5,
          "predicted": 8.695542839967619
         },
         {
          "model": "svr",
          "observed": 14.5,
          "predicted": 13.024074092087389
         },
         {
          "model": "svr",
          "observed": 15.5,
          "predicted": 13.758512014679681
         },
         {
          "model": "svr",
          "observed": 16.5,
          "predicted": 12.758535522123289
         },
         {
          "model": "svr",
          "observed": 13.5,
          "predicted": 12.816905153181807
         },
         {
          "model": "svr",
          "observed": 18.5,
          "predicted": 12.3842015844
         },
         {
          "model": "svr",
          "observed": 14.5,
          "predicted": 13.666489504870562
         },
         {
          "model": "svr",
          "observed": 9.5,
          "predicted": 10.34957460515531
         },
         {
          "model": "svr",
          "observed": 11.5,
          "predicted": 10.990563259228782
         },
         {
          "model": "svr",
          "observed": 8.5,
          "predicted": 10.451448673916943
         },
         {
          "model": "svr",
          "observed": 13.5,
          "predicted": 12.961682476482473
         },
         {
          "model": "svr",
          "observed": 11.5,
          "predicted": 14.608796042144718
         },
         {
          "model": "svr",
          "observed": 8.5,
          "predicted": 10.088294307209157
         },
         {
          "model": "svr",
          "observed": 8.5,
          "predicted": 9.054108705234924
         },
         {
          "model": "svr",
          "observed": 10.5,
          "predicted": 10.562507566103655
         },
         {
          "model": "svr",
          "observed": 8.5,
          "predicted": 8.188084741376588
         },
         {
          "model": "svr",
          "observed": 14.5,
          "predicted": 11.05572198939729
         },
         {
          "model": "svr",
          "observed": 11.5,
          "predicted": 11.451726089202173
         },
         {
          "model": "svr",
          "observed": 7.5,
          "predicted": 8.144091243094572
         },
         {
          "model": "svr",
          "observed": 10.5,
          "predicted": 10.638745356298621
         },
         {
          "model": "svr",
          "observed": 10.5,
          "predicted": 11.843695719596115
         },
         {
          "model": "svr",
          "observed": 9.5,
          "predicted": 13.712062027524695
         },
         {
          "model": "svr",
          "observed": 7.5,
          "predicted": 7.206013322471168
         },
         {
          "model": "svr",
          "observed": 11.5,
          "predicted": 12.954004793689885
         },
         {
          "model": "svr",
          "observed": 15.5,
          "predicted": 12.51236863105169
         },
         {
          "model": "svr",
          "observed": 11.5,
          "predicted": 12.160000151722645
         },
         {
          "model": "svr",
          "observed": 23.5,
          "predicted": 16.302503974766626
         },
         {
          "model": "svr",
          "observed": 12.5,
          "predicted": 10.218982464085721
         },
         {
          "model": "svr",
          "observed": 11.5,
          "predicted": 11.372407195839788
         },
         {
          "model": "svr",
          "observed": 14.5,
          "predicted": 14.808590783254559
         },
         {
          "model": "svr",
          "observed": 12.5,
          "predicted": 12.545373016823323
         },
         {
          "model": "svr",
          "observed": 10.5,
          "predicted": 12.142089084554746
         },
         {
          "model": "svr",
          "observed": 14.5,
          "predicted": 13.116371332074802
         },
         {
          "model": "svr",
          "observed": 8.5,
          "predicted": 8.776452760380074
         },
         {
          "model": "svr",
          "observed": 7.5,
          "predicted": 8.110714782431717
         },
         {
          "model": "svr",
          "observed": 13.5,
          "predicted": 12.523608876433208
         },
         {
          "model": "svr",
          "observed": 8.5,
          "predicted": 9.801214828918038
         },
         {
          "model": "svr",
          "observed": 12.5,
          "predicted": 12.078379248171991
         },
         {
          "model": "svr",
          "observed": 12.5,
          "predicted": 12.588201249869405
         },
         {
          "model": "svr",
          "observed": 10.5,
          "predicted": 7.348075276266446
         },
         {
          "model": "svr",
          "observed": 11.5,
          "predicted": 11.409508530792635
         },
         {
          "model": "svr",
          "observed": 15.5,
          "predicted": 12.039955746553078
         },
         {
          "model": "svr",
          "observed": 12.5,
          "predicted": 9.184552184950036
         },
         {
          "model": "svr",
          "observed": 11.5,
          "predicted": 11.268990637020625
         },
         {
          "model": "svr",
          "observed": 11.5,
          "predicted": 12.137460228680014
         },
         {
          "model": "svr",
          "observed": 11.5,
          "predicted": 9.584412132441871
         },
         {
          "model": "svr",
          "observed": 18.5,
          "predicted": 13.128303669678282
         },
         {
          "model": "svr",
          "observed": 20.5,
          "predicted": 12.616389289010652
         },
         {
          "model": "svr",
          "observed": 13.5,
          "predicted": 10.520265098424378
         },
         {
          "model": "svr",
          "observed": 9.5,
          "predicted": 12.098223377796783
         },
         {
          "model": "svr",
          "observed": 21.5,
          "predicted": 15.08820951481324
         },
         {
          "model": "svr",
          "observed": 11.5,
          "predicted": 11.279677334705772
         },
         {
          "model": "svr",
          "observed": 7.5,
          "predicted": 8.291406899248205
         },
         {
          "model": "svr",
          "observed": 14.5,
          "predicted": 12.804272344563076
         },
         {
          "model": "svr",
          "observed": 9.5,
          "predicted": 10.352649134330184
         },
         {
          "model": "svr",
          "observed": 6.5,
          "predicted": 8.264583365264398
         },
         {
          "model": "svr",
          "observed": 11.5,
          "predicted": 12.722143954758169
         },
         {
          "model": "svr",
          "observed": 10.5,
          "predicted": 8.35883019383785
         },
         {
          "model": "svr",
          "observed": 10.5,
          "predicted": 11.416268447468758
         },
         {
          "model": "svr",
          "observed": 10.5,
          "predicted": 10.017845396825308
         },
         {
          "model": "svr",
          "observed": 8.5,
          "predicted": 7.544222013549522
         },
         {
          "model": "svr",
          "observed": 11.5,
          "predicted": 10.718849992579692
         },
         {
          "model": "svr",
          "observed": 8.5,
          "predicted": 8.107895875589884
         },
         {
          "model": "svr",
          "observed": 9.5,
          "predicted": 10.892507903642663
         },
         {
          "model": "svr",
          "observed": 9.5,
          "predicted": 10.880052979506322
         },
         {
          "model": "svr",
          "observed": 21.5,
          "predicted": 12.1576937972124
         },
         {
          "model": "svr",
          "observed": 9.5,
          "predicted": 10.21581224662162
         },
         {
          "model": "svr",
          "observed": 9.5,
          "predicted": 8.184559241612611
         },
         {
          "model": "svr",
          "observed": 18.5,
          "predicted": 16.599526550671243
         },
         {
          "model": "svr",
          "observed": 14.5,
          "predicted": 15.336837834321855
         },
         {
          "model": "svr",
          "observed": 12.5,
          "predicted": 12.484484396092409
         },
         {
          "model": "svr",
          "observed": 7.5,
          "predicted": 8.38696429099695
         },
         {
          "model": "svr",
          "observed": 12.5,
          "predicted": 12.075436379289242
         },
         {
          "model": "svr",
          "observed": 16.5,
          "predicted": 15.219478598896893
         },
         {
          "model": "svr",
          "observed": 13.5,
          "predicted": 11.47117953492133
         },
         {
          "model": "svr",
          "observed": 10.5,
          "predicted": 8.952622198091793
         },
         {
          "model": "svr",
          "observed": 12.5,
          "predicted": 10.436918350327382
         },
         {
          "model": "svr",
          "observed": 10.5,
          "predicted": 10.14128114594728
         },
         {
          "model": "svr",
          "observed": 8.5,
          "predicted": 9.157562088719724
         },
         {
          "model": "svr",
          "observed": 16.5,
          "predicted": 10.263914401573526
         },
         {
          "model": "svr",
          "observed": 11.5,
          "predicted": 10.461880285708922
         },
         {
          "model": "svr",
          "observed": 18.5,
          "predicted": 15.396784251021977
         },
         {
          "model": "svr",
          "observed": 9.5,
          "predicted": 8.406884447162257
         },
         {
          "model": "svr",
          "observed": 16.5,
          "predicted": 12.911992294454233
         },
         {
          "model": "svr",
          "observed": 9.5,
          "predicted": 11.727596469449066
         },
         {
          "model": "svr",
          "observed": 17.5,
          "predicted": 14.160895302477076
         },
         {
          "model": "svr",
          "observed": 12.5,
          "predicted": 15.423556781058624
         },
         {
          "model": "svr",
          "observed": 7.5,
          "predicted": 8.93023568711072
         },
         {
          "model": "svr",
          "observed": 13.5,
          "predicted": 15.127387974334583
         },
         {
          "model": "svr",
          "observed": 11.5,
          "predicted": 11.289011748054566
         },
         {
          "model": "svr",
          "observed": 12.5,
          "predicted": 12.1359813927565
         },
         {
          "model": "svr",
          "observed": 10.5,
          "predicted": 11.347625551937412
         },
         {
          "model": "svr",
          "observed": 12.5,
          "predicted": 13.691935596631241
         },
         {
          "model": "svr",
          "observed": 11.5,
          "predicted": 10.172283731579599
         },
         {
          "model": "svr",
          "observed": 9.5,
          "predicted": 9.935074513329313
         },
         {
          "model": "svr",
          "observed": 12.5,
          "predicted": 12.062755897783664
         },
         {
          "model": "svr",
          "observed": 5.5,
          "predicted": 7.62653694581063
         },
         {
          "model": "svr",
          "observed": 12.5,
          "predicted": 14.233125603402893
         },
         {
          "model": "svr",
          "observed": 11.5,
          "predicted": 11.430513736705395
         },
         {
          "model": "svr",
          "observed": 7.5,
          "predicted": 7.872528279864618
         },
         {
          "model": "svr",
          "observed": 12.5,
          "predicted": 16.068005763748335
         },
         {
          "model": "svr",
          "observed": 9.5,
          "predicted": 9.667962165666705
         },
         {
          "model": "svr",
          "observed": 11.5,
          "predicted": 11.191882399575796
         },
         {
          "model": "svr",
          "observed": 10.5,
          "predicted": 11.388772514708851
         },
         {
          "model": "svr",
          "observed": 12.5,
          "predicted": 11.6419209533031
         },
         {
          "model": "svr",
          "observed": 10.5,
          "predicted": 11.88251632036652
         },
         {
          "model": "svr",
          "observed": 10.5,
          "predicted": 10.874259046849534
         },
         {
          "model": "svr",
          "observed": 13.5,
          "predicted": 11.190555032315643
         },
         {
          "model": "svr",
          "observed": 11.5,
          "predicted": 11.029074758432163
         },
         {
          "model": "svr",
          "observed": 18.5,
          "predicted": 15.459226982766733
         },
         {
          "model": "svr",
          "observed": 8.5,
          "predicted": 8.272998283111932
         },
         {
          "model": "svr",
          "observed": 11.5,
          "predicted": 12.88716810821646
         },
         {
          "model": "svr",
          "observed": 9.5,
          "predicted": 8.436420563166191
         },
         {
          "model": "svr",
          "observed": 10.5,
          "predicted": 11.410276351161958
         },
         {
          "model": "svr",
          "observed": 19.5,
          "predicted": 17.69329691472052
         },
         {
          "model": "svr",
          "observed": 18.5,
          "predicted": 13.13649146287853
         },
         {
          "model": "svr",
          "observed": 10.5,
          "predicted": 10.35825039840733
         },
         {
          "model": "svr",
          "observed": 9.5,
          "predicted": 8.27828295093166
         },
         {
          "model": "svr",
          "observed": 9.5,
          "predicted": 10.540474896680152
         },
         {
          "model": "svr",
          "observed": 8.5,
          "predicted": 10.385688082258673
         },
         {
          "model": "svr",
          "observed": 12.5,
          "predicted": 12.378793797628928
         },
         {
          "model": "svr",
          "observed": 13.5,
          "predicted": 12.688780830039205
         },
         {
          "model": "svr",
          "observed": 11.5,
          "predicted": 10.685790617147319
         },
         {
          "model": "svr",
          "observed": 23.5,
          "predicted": 19.328265629665204
         },
         {
          "model": "svr",
          "observed": 12.5,
          "predicted": 11.697317168150713
         },
         {
          "model": "svr",
          "observed": 12.5,
          "predicted": 15.023469915069823
         },
         {
          "model": "svr",
          "observed": 12.5,
          "predicted": 12.11614688641577
         },
         {
          "model": "svr",
          "observed": 22.5,
          "predicted": 13.971885489613824
         },
         {
          "model": "svr",
          "observed": 8.5,
          "predicted": 11.471656255621347
         },
         {
          "model": "svr",
          "observed": 10.5,
          "predicted": 8.623949041119769
         },
         {
          "model": "svr",
          "observed": 11.5,
          "predicted": 11.217526939458748
         },
         {
          "model": "svr",
          "observed": 10.5,
          "predicted": 10.194204789865477
         },
         {
          "model": "svr",
          "observed": 10.5,
          "predicted": 10.694402568945522
         },
         {
          "model": "svr",
          "observed": 13.5,
          "predicted": 14.047279342950967
         },
         {
          "model": "svr",
          "observed": 10.5,
          "predicted": 10.162904098283583
         },
         {
          "model": "svr",
          "observed": 15.5,
          "predicted": 14.759226990113145
         },
         {
          "model": "svr",
          "observed": 10.5,
          "predicted": 13.458879521466587
         },
         {
          "model": "svr",
          "observed": 13.5,
          "predicted": 12.768506286532784
         },
         {
          "model": "svr",
          "observed": 19.5,
          "predicted": 11.742067330232315
         },
         {
          "model": "svr",
          "observed": 9.5,
          "predicted": 8.710662371577024
         },
         {
          "model": "svr",
          "observed": 7.5,
          "predicted": 8.156161580006165
         },
         {
          "model": "svr",
          "observed": 9.5,
          "predicted": 10.575377393771092
         },
         {
          "model": "svr",
          "observed": 9.5,
          "predicted": 10.018918686420188
         },
         {
          "model": "svr",
          "observed": 9.5,
          "predicted": 13.27107913528383
         },
         {
          "model": "svr",
          "observed": 11.5,
          "predicted": 13.221084612690715
         },
         {
          "model": "svr",
          "observed": 11.5,
          "predicted": 8.468554611731733
         },
         {
          "model": "svr",
          "observed": 13.5,
          "predicted": 11.776324899997071
         },
         {
          "model": "svr",
          "observed": 14.5,
          "predicted": 15.537083633145205
         },
         {
          "model": "svr",
          "observed": 11.5,
          "predicted": 12.447684514502567
         },
         {
          "model": "svr",
          "observed": 12.5,
          "predicted": 12.270980484563172
         },
         {
          "model": "svr",
          "observed": 14.5,
          "predicted": 14.890856357720807
         },
         {
          "model": "svr",
          "observed": 12.5,
          "predicted": 15.324283995940146
         },
         {
          "model": "svr",
          "observed": 8.5,
          "predicted": 9.735715289713958
         },
         {
          "model": "svr",
          "observed": 8.5,
          "predicted": 9.352264208382017
         },
         {
          "model": "svr",
          "observed": 6.5,
          "predicted": 8.835104178041856
         },
         {
          "model": "svr",
          "observed": 7.5,
          "predicted": 8.348339035561462
         },
         {
          "model": "svr",
          "observed": 11.5,
          "predicted": 10.870886852701314
         },
         {
          "model": "svr",
          "observed": 9.5,
          "predicted": 10.200357623311731
         },
         {
          "model": "svr",
          "observed": 8.5,
          "predicted": 10.316574175726835
         },
         {
          "model": "svr",
          "observed": 10.5,
          "predicted": 13.154067607283285
         },
         {
          "model": "svr",
          "observed": 9.5,
          "predicted": 11.315402669106277
         },
         {
          "model": "svr",
          "observed": 11.5,
          "predicted": 12.798934600548902
         },
         {
          "model": "svr",
          "observed": 7.5,
          "predicted": 6.616491427109545
         },
         {
          "model": "svr",
          "observed": 8.5,
          "predicted": 8.015961210292442
         },
         {
          "model": "svr",
          "observed": 8.5,
          "predicted": 9.142692607337993
         },
         {
          "model": "svr",
          "observed": 16.5,
          "predicted": 11.381093363078568
         },
         {
          "model": "svr",
          "observed": 10.5,
          "predicted": 11.886938517664944
         },
         {
          "model": "svr",
          "observed": 12.5,
          "predicted": 12.269782376681182
         },
         {
          "model": "svr",
          "observed": 9.5,
          "predicted": 9.267311686964188
         },
         {
          "model": "svr",
          "observed": 11.5,
          "predicted": 9.387664388737601
         },
         {
          "model": "svr",
          "observed": 11.5,
          "predicted": 10.28755236217539
         },
         {
          "model": "svr",
          "observed": 8.5,
          "predicted": 10.033044203553764
         },
         {
          "model": "svr",
          "observed": 13.5,
          "predicted": 9.895655818059574
         },
         {
          "model": "svr",
          "observed": 9.5,
          "predicted": 10.238556238375445
         },
         {
          "model": "svr",
          "observed": 10.5,
          "predicted": 15.22134052270967
         },
         {
          "model": "svr",
          "observed": 16.5,
          "predicted": 12.876868324474298
         },
         {
          "model": "svr",
          "observed": 9.5,
          "predicted": 8.910687562825391
         },
         {
          "model": "svr",
          "observed": 11.5,
          "predicted": 11.352086902460835
         },
         {
          "model": "svr",
          "observed": 7.5,
          "predicted": 8.422979972302807
         },
         {
          "model": "svr",
          "observed": 10.5,
          "predicted": 9.541528452267091
         },
         {
          "model": "svr",
          "observed": 12.5,
          "predicted": 12.180731059007957
         },
         {
          "model": "svr",
          "observed": 8.5,
          "predicted": 7.602747414918365
         },
         {
          "model": "svr",
          "observed": 9.5,
          "predicted": 8.784094914014197
         },
         {
          "model": "svr",
          "observed": 9.5,
          "predicted": 10.874298342854607
         },
         {
          "model": "svr",
          "observed": 9.5,
          "predicted": 10.189699962002852
         },
         {
          "model": "svr",
          "observed": 11.5,
          "predicted": 13.029430747442142
         },
         {
          "model": "svr",
          "observed": 9.5,
          "predicted": 11.278801828703987
         },
         {
          "model": "svr",
          "observed": 24.5,
          "predicted": 16.658966895302708
         },
         {
          "model": "svr",
          "observed": 7.5,
          "predicted": 10.10200311089331
         },
         {
          "model": "svr",
          "observed": 13.5,
          "predicted": 19.988109483990236
         },
         {
          "model": "svr",
          "observed": 14.5,
          "predicted": 11.88100447714319
         },
         {
          "model": "svr",
          "observed": 7.5,
          "predicted": 8.255011742210357
         },
         {
          "model": "svr",
          "observed": 12.5,
          "predicted": 12.076118993377246
         },
         {
          "model": "svr",
          "observed": 10.5,
          "predicted": 10.594290735526936
         },
         {
          "model": "svr",
          "observed": 20.5,
          "predicted": 14.850715596737814
         },
         {
          "model": "svr",
          "observed": 7.5,
          "predicted": 8.269832399107852
         },
         {
          "model": "svr",
          "observed": 9.5,
          "predicted": 10.62757166476767
         },
         {
          "model": "svr",
          "observed": 13.5,
          "predicted": 10.831496558057092
         },
         {
          "model": "svr",
          "observed": 8.5,
          "predicted": 9.43694772721348
         },
         {
          "model": "svr",
          "observed": 9.5,
          "predicted": 9.422022301004525
         },
         {
          "model": "svr",
          "observed": 10.5,
          "predicted": 11.193030086700007
         },
         {
          "model": "svr",
          "observed": 10.5,
          "predicted": 8.4774249270024
         },
         {
          "model": "svr",
          "observed": 6.5,
          "predicted": 7.2532261002552865
         },
         {
          "model": "svr",
          "observed": 11.5,
          "predicted": 13.605949933938062
         },
         {
          "model": "svr",
          "observed": 12.5,
          "predicted": 11.125201851276586
         },
         {
          "model": "svr",
          "observed": 10.5,
          "predicted": 10.244743395180082
         },
         {
          "model": "svr",
          "observed": 11.5,
          "predicted": 11.915099294072103
         },
         {
          "model": "svr",
          "observed": 7.5,
          "predicted": 10.552608780894614
         },
         {
          "model": "svr",
          "observed": 7.5,
          "predicted": 8.7862432749015
         },
         {
          "model": "svr",
          "observed": 7.5,
          "predicted": 8.642257726953716
         },
         {
          "model": "svr",
          "observed": 12.5,
          "predicted": 13.87010618992791
         },
         {
          "model": "svr",
          "observed": 9.5,
          "predicted": 9.840115059353597
         },
         {
          "model": "svr",
          "observed": 11.5,
          "predicted": 12.8694541653615
         },
         {
          "model": "svr",
          "observed": 10.5,
          "predicted": 10.958290432265517
         },
         {
          "model": "svr",
          "observed": 9.5,
          "predicted": 9.859764893008105
         },
         {
          "model": "svr",
          "observed": 8.5,
          "predicted": 9.38022143284469
         },
         {
          "model": "svr",
          "observed": 10.5,
          "predicted": 9.415342431023255
         },
         {
          "model": "svr",
          "observed": 12.5,
          "predicted": 14.744566545390688
         },
         {
          "model": "svr",
          "observed": 13.5,
          "predicted": 9.719047563215579
         },
         {
          "model": "svr",
          "observed": 16.5,
          "predicted": 11.371475824335796
         },
         {
          "model": "svr",
          "observed": 14.5,
          "predicted": 13.912032844583411
         },
         {
          "model": "svr",
          "observed": 10.5,
          "predicted": 10.936397936313641
         },
         {
          "model": "svr",
          "observed": 9.5,
          "predicted": 12.595456955329222
         },
         {
          "model": "svr",
          "observed": 9.5,
          "predicted": 11.947204080074384
         },
         {
          "model": "svr",
          "observed": 8.5,
          "predicted": 10.031968531299338
         },
         {
          "model": "svr",
          "observed": 9.5,
          "predicted": 10.351716500526202
         },
         {
          "model": "svr",
          "observed": 8.5,
          "predicted": 7.987091171495949
         },
         {
          "model": "svr",
          "observed": 12.5,
          "predicted": 11.355313714525787
         },
         {
          "model": "svr",
          "observed": 12.5,
          "predicted": 10.879987233949256
         },
         {
          "model": "svr",
          "observed": 11.5,
          "predicted": 12.6539343578159
         },
         {
          "model": "svr",
          "observed": 10.5,
          "predicted": 12.731964736942533
         },
         {
          "model": "svr",
          "observed": 13.5,
          "predicted": 12.012919473789434
         },
         {
          "model": "svr",
          "observed": 15.5,
          "predicted": 13.411564847314803
         },
         {
          "model": "svr",
          "observed": 10.5,
          "predicted": 13.569533516707416
         },
         {
          "model": "svr",
          "observed": 10.5,
          "predicted": 11.320852571444064
         },
         {
          "model": "svr",
          "observed": 6.5,
          "predicted": 7.049880025306736
         },
         {
          "model": "svr",
          "observed": 10.5,
          "predicted": 12.387275978114198
         },
         {
          "model": "svr",
          "observed": 5.5,
          "predicted": 6.878697267994485
         },
         {
          "model": "svr",
          "observed": 8.5,
          "predicted": 7.905412572791008
         },
         {
          "model": "svr",
          "observed": 12.5,
          "predicted": 11.585872342994973
         },
         {
          "model": "svr",
          "observed": 10.5,
          "predicted": 10.423127151849458
         },
         {
          "model": "svr",
          "observed": 8.5,
          "predicted": 7.183270513422093
         },
         {
          "model": "svr",
          "observed": 7.5,
          "predicted": 8.83541790606341
         },
         {
          "model": "svr",
          "observed": 13.5,
          "predicted": 11.154668181159403
         },
         {
          "model": "svr",
          "observed": 10.5,
          "predicted": 11.992300499770684
         },
         {
          "model": "svr",
          "observed": 9.5,
          "predicted": 7.816457313967551
         },
         {
          "model": "svr",
          "observed": 10.5,
          "predicted": 11.448981916016596
         },
         {
          "model": "svr",
          "observed": 14.5,
          "predicted": 14.275891544644207
         },
         {
          "model": "svr",
          "observed": 9.5,
          "predicted": 8.843409499219632
         },
         {
          "model": "svr",
          "observed": 7.5,
          "predicted": 10.366667409913592
         },
         {
          "model": "svr",
          "observed": 4.5,
          "predicted": 5.538830055805333
         },
         {
          "model": "svr",
          "observed": 8.5,
          "predicted": 11.672102689577901
         },
         {
          "model": "svr",
          "observed": 7.5,
          "predicted": 8.508287019948874
         },
         {
          "model": "svr",
          "observed": 19.5,
          "predicted": 11.994631401814367
         },
         {
          "model": "svr",
          "observed": 9.5,
          "predicted": 8.194692552120689
         },
         {
          "model": "svr",
          "observed": 7.5,
          "predicted": 7.641336945583548
         },
         {
          "model": "svr",
          "observed": 12.5,
          "predicted": 11.803024793615597
         },
         {
          "model": "svr",
          "observed": 11.5,
          "predicted": 14.208515913004465
         },
         {
          "model": "svr",
          "observed": 12.5,
          "predicted": 11.694666794552326
         },
         {
          "model": "svr",
          "observed": 10.5,
          "predicted": 13.540851678836862
         },
         {
          "model": "svr",
          "observed": 10.5,
          "predicted": 10.545994611997845
         },
         {
          "model": "svr",
          "observed": 15.5,
          "predicted": 14.09970265734038
         },
         {
          "model": "svr",
          "observed": 9.5,
          "predicted": 9.975480757131844
         },
         {
          "model": "svr",
          "observed": 12.5,
          "predicted": 15.094513687387469
         },
         {
          "model": "svr",
          "observed": 12.5,
          "predicted": 12.734230446091045
         },
         {
          "model": "svr",
          "observed": 14.5,
          "predicted": 12.248257596390452
         },
         {
          "model": "svr",
          "observed": 11.5,
          "predicted": 11.710427657338874
         },
         {
          "model": "svr",
          "observed": 10.5,
          "predicted": 11.594537155375006
         },
         {
          "model": "svr",
          "observed": 11.5,
          "predicted": 14.94470356975776
         },
         {
          "model": "svr",
          "observed": 8.5,
          "predicted": 10.098545254819037
         },
         {
          "model": "svr",
          "observed": 12.5,
          "predicted": 11.021916359283255
         },
         {
          "model": "svr",
          "observed": 21.5,
          "predicted": 15.179297044895348
         },
         {
          "model": "svr",
          "observed": 7.5,
          "predicted": 8.292816139549638
         },
         {
          "model": "svr",
          "observed": 9.5,
          "predicted": 11.446312688326026
         },
         {
          "model": "svr",
          "observed": 6.5,
          "predicted": 7.241874248356291
         },
         {
          "model": "svr",
          "observed": 11.5,
          "predicted": 8.59738905873713
         },
         {
          "model": "svr",
          "observed": 14.5,
          "predicted": 12.971924088227592
         },
         {
          "model": "svr",
          "observed": 11.5,
          "predicted": 11.03499557192274
         },
         {
          "model": "svr",
          "observed": 10.5,
          "predicted": 11.938578682747632
         },
         {
          "model": "svr",
          "observed": 11.5,
          "predicted": 11.594155518434864
         },
         {
          "model": "svr",
          "observed": 11.5,
          "predicted": 15.1574240972665
         },
         {
          "model": "svr",
          "observed": 13.5,
          "predicted": 11.072491453113962
         },
         {
          "model": "svr",
          "observed": 9.5,
          "predicted": 9.009550032350983
         },
         {
          "model": "svr",
          "observed": 11.5,
          "predicted": 12.699281019892606
         },
         {
          "model": "svr",
          "observed": 12.5,
          "predicted": 8.710880992140597
         },
         {
          "model": "svr",
          "observed": 7.5,
          "predicted": 8.153184971145215
         },
         {
          "model": "svr",
          "observed": 13.5,
          "predicted": 12.345779069190995
         },
         {
          "model": "svr",
          "observed": 9.5,
          "predicted": 10.79189481688547
         },
         {
          "model": "svr",
          "observed": 8.5,
          "predicted": 9.116238827285393
         },
         {
          "model": "svr",
          "observed": 14.5,
          "predicted": 13.052618378642029
         },
         {
          "model": "svr",
          "observed": 12.5,
          "predicted": 12.736471271210394
         },
         {
          "model": "svr",
          "observed": 13.5,
          "predicted": 11.350933556867306
         },
         {
          "model": "svr",
          "observed": 12.5,
          "predicted": 11.434536027577025
         },
         {
          "model": "svr",
          "observed": 10.5,
          "predicted": 11.858240312165584
         },
         {
          "model": "svr",
          "observed": 12.5,
          "predicted": 13.670732233360567
         },
         {
          "model": "svr",
          "observed": 12.5,
          "predicted": 11.246606743849538
         },
         {
          "model": "svr",
          "observed": 7.5,
          "predicted": 6.6697773062287435
         },
         {
          "model": "svr",
          "observed": 9.5,
          "predicted": 9.260953886986382
         },
         {
          "model": "svr",
          "observed": 7.5,
          "predicted": 7.861882314938484
         },
         {
          "model": "svr",
          "observed": 8.5,
          "predicted": 6.904286297889239
         },
         {
          "model": "svr",
          "observed": 9.5,
          "predicted": 10.200758445657858
         },
         {
          "model": "svr",
          "observed": 9.5,
          "predicted": 10.667002210280248
         },
         {
          "model": "svr",
          "observed": 12.5,
          "predicted": 11.614495662402774
         },
         {
          "model": "svr",
          "observed": 5.5,
          "predicted": 5.813430132368983
         },
         {
          "model": "svr",
          "observed": 11.5,
          "predicted": 12.310932756551075
         },
         {
          "model": "svr",
          "observed": 7.5,
          "predicted": 8.325398565044003
         },
         {
          "model": "svr",
          "observed": 13.5,
          "predicted": 10.625153387106067
         },
         {
          "model": "svr",
          "observed": 11.5,
          "predicted": 11.755529972135689
         },
         {
          "model": "svr",
          "observed": 13.5,
          "predicted": 12.052471311292768
         },
         {
          "model": "svr",
          "observed": 10.5,
          "predicted": 10.425966775485303
         },
         {
          "model": "svr",
          "observed": 18.5,
          "predicted": 12.966651070542227
         },
         {
          "model": "svr",
          "observed": 12.5,
          "predicted": 12.164142966793305
         },
         {
          "model": "svr",
          "observed": 9.5,
          "predicted": 10.798209965869866
         },
         {
          "model": "svr",
          "observed": 10.5,
          "predicted": 9.973202500561957
         },
         {
          "model": "svr",
          "observed": 8.5,
          "predicted": 7.950890075744251
         },
         {
          "model": "svr",
          "observed": 11.5,
          "predicted": 10.30380887605589
         },
         {
          "model": "svr",
          "observed": 11.5,
          "predicted": 12.359678081639407
         },
         {
          "model": "svr",
          "observed": 13.5,
          "predicted": 13.307374915712392
         },
         {
          "model": "svr",
          "observed": 12.5,
          "predicted": 12.90285854134167
         },
         {
          "model": "svr",
          "observed": 11.5,
          "predicted": 12.062099426827187
         },
         {
          "model": "svr",
          "observed": 14.5,
          "predicted": 13.561546744938637
         },
         {
          "model": "svr",
          "observed": 10.5,
          "predicted": 12.640402652942747
         },
         {
          "model": "svr",
          "observed": 9.5,
          "predicted": 11.09426476855422
         },
         {
          "model": "svr",
          "observed": 16.5,
          "predicted": 15.331458260112562
         },
         {
          "model": "svr",
          "observed": 9.5,
          "predicted": 9.02121071223376
         },
         {
          "model": "svr",
          "observed": 6.5,
          "predicted": 8.202895177428802
         },
         {
          "model": "svr",
          "observed": 10.5,
          "predicted": 11.039148346418923
         },
         {
          "model": "svr",
          "observed": 11.5,
          "predicted": 12.89759927751869
         },
         {
          "model": "svr",
          "observed": 12.5,
          "predicted": 12.689130604784228
         },
         {
          "model": "svr",
          "observed": 8.5,
          "predicted": 8.037677680063121
         },
         {
          "model": "svr",
          "observed": 27.5,
          "predicted": 15.618219336329545
         },
         {
          "model": "svr",
          "observed": 10.5,
          "predicted": 11.828887510725428
         },
         {
          "model": "svr",
          "observed": 10.5,
          "predicted": 11.310548641305449
         },
         {
          "model": "svr",
          "observed": 9.5,
          "predicted": 9.999596264791307
         },
         {
          "model": "svr",
          "observed": 22.5,
          "predicted": 17.25699985857608
         },
         {
          "model": "svr",
          "observed": 9.5,
          "predicted": 9.284814923012116
         },
         {
          "model": "svr",
          "observed": 7.5,
          "predicted": 5.635616535017895
         },
         {
          "model": "svr",
          "observed": 13.5,
          "predicted": 13.342072785273206
         },
         {
          "model": "svr",
          "observed": 12.5,
          "predicted": 10.488301014983884
         },
         {
          "model": "svr",
          "observed": 12.5,
          "predicted": 11.423360054112415
         },
         {
          "model": "svr",
          "observed": 18.5,
          "predicted": 14.764114084734414
         },
         {
          "model": "svr",
          "observed": 12.5,
          "predicted": 13.255915860854662
         },
         {
          "model": "svr",
          "observed": 12.5,
          "predicted": 12.951439174069867
         },
         {
          "model": "svr",
          "observed": 6.5,
          "predicted": 5.387442276467182
         },
         {
          "model": "svr",
          "observed": 11.5,
          "predicted": 12.137899558361124
         },
         {
          "model": "svr",
          "observed": 6.5,
          "predicted": 7.949549021083824
         },
         {
          "model": "svr",
          "observed": 9.5,
          "predicted": 8.515412441965715
         },
         {
          "model": "svr",
          "observed": 13.5,
          "predicted": 12.651573088101111
         },
         {
          "model": "svr",
          "observed": 13.5,
          "predicted": 11.914952733865793
         },
         {
          "model": "svr",
          "observed": 10.5,
          "predicted": 13.541869748980321
         },
         {
          "model": "svr",
          "observed": 7.5,
          "predicted": 7.545384544928061
         },
         {
          "model": "svr",
          "observed": 8.5,
          "predicted": 8.479079749183523
         },
         {
          "model": "svr",
          "observed": 15.5,
          "predicted": 11.099760643092058
         },
         {
          "model": "svr",
          "observed": 11.5,
          "predicted": 15.102346246488409
         },
         {
          "model": "svr",
          "observed": 9.5,
          "predicted": 9.908234578011932
         },
         {
          "model": "svr",
          "observed": 22.5,
          "predicted": 19.740873376360852
         },
         {
          "model": "svr",
          "observed": 11.5,
          "predicted": 14.149907300500272
         },
         {
          "model": "svr",
          "observed": 9.5,
          "predicted": 10.132135988884603
         },
         {
          "model": "svr",
          "observed": 7.5,
          "predicted": 9.069902982109813
         },
         {
          "model": "svr",
          "observed": 12.5,
          "predicted": 12.301031730683635
         },
         {
          "model": "svr",
          "observed": 10.5,
          "predicted": 10.991786768341953
         },
         {
          "model": "svr",
          "observed": 15.5,
          "predicted": 12.983762242550133
         },
         {
          "model": "svr",
          "observed": 11.5,
          "predicted": 11.898780812088237
         },
         {
          "model": "svr",
          "observed": 10.5,
          "predicted": 11.257541560024583
         },
         {
          "model": "svr",
          "observed": 9.5,
          "predicted": 12.442447839752129
         },
         {
          "model": "svr",
          "observed": 11.5,
          "predicted": 11.342909427101825
         },
         {
          "model": "svr",
          "observed": 10.5,
          "predicted": 9.661763177844923
         },
         {
          "model": "svr",
          "observed": 12.5,
          "predicted": 11.003028200997353
         },
         {
          "model": "svr",
          "observed": 12.5,
          "predicted": 14.126478708001915
         },
         {
          "model": "svr",
          "observed": 9.5,
          "predicted": 10.835861564556101
         },
         {
          "model": "svr",
          "observed": 10.5,
          "predicted": 10.174283475464351
         },
         {
          "model": "svr",
          "observed": 6.5,
          "predicted": 6.030288491459378
         },
         {
          "model": "svr",
          "observed": 14.5,
          "predicted": 10.545630087958592
         },
         {
          "model": "svr",
          "observed": 13.5,
          "predicted": 10.858322607901467
         },
         {
          "model": "svr",
          "observed": 10.5,
          "predicted": 10.57399301753213
         },
         {
          "model": "svr",
          "observed": 6.5,
          "predicted": 5.8402885891675815
         },
         {
          "model": "svr",
          "observed": 10.5,
          "predicted": 13.46045544835064
         },
         {
          "model": "svr",
          "observed": 8.5,
          "predicted": 10.518622941425477
         },
         {
          "model": "svr",
          "observed": 14.5,
          "predicted": 11.332648099420371
         },
         {
          "model": "svr",
          "observed": 11.5,
          "predicted": 11.829561038222185
         },
         {
          "model": "svr",
          "observed": 9.5,
          "predicted": 10.502229695047259
         },
         {
          "model": "svr",
          "observed": 9.5,
          "predicted": 10.303534687404746
         },
         {
          "model": "svr",
          "observed": 9.5,
          "predicted": 11.380951302004018
         },
         {
          "model": "svr",
          "observed": 11.5,
          "predicted": 11.627745244806356
         },
         {
          "model": "svr",
          "observed": 14.5,
          "predicted": 12.304020594384923
         },
         {
          "model": "svr",
          "observed": 8.5,
          "predicted": 8.691098566992846
         },
         {
          "model": "svr",
          "observed": 23.5,
          "predicted": 16.11071933187388
         },
         {
          "model": "svr",
          "observed": 9.5,
          "predicted": 10.108005016329658
         },
         {
          "model": "svr",
          "observed": 8.5,
          "predicted": 9.835111797188256
         },
         {
          "model": "svr",
          "observed": 9.5,
          "predicted": 9.548767043892532
         },
         {
          "model": "svr",
          "observed": 9.5,
          "predicted": 8.456983409269288
         },
         {
          "model": "svr",
          "observed": 11.5,
          "predicted": 10.24616377802415
         },
         {
          "model": "svr",
          "observed": 13.5,
          "predicted": 12.474090630258567
         },
         {
          "model": "svr",
          "observed": 11.5,
          "predicted": 11.427807519234879
         },
         {
          "model": "svr",
          "observed": 12.5,
          "predicted": 11.453066657169073
         },
         {
          "model": "svr",
          "observed": 7.5,
          "predicted": 7.9142304423818715
         },
         {
          "model": "svr",
          "observed": 10.5,
          "predicted": 10.856951038833524
         },
         {
          "model": "svr",
          "observed": 7.5,
          "predicted": 7.51015511379928
         },
         {
          "model": "svr",
          "observed": 12.5,
          "predicted": 11.915871333931083
         },
         {
          "model": "svr",
          "observed": 12.5,
          "predicted": 12.306612735585965
         },
         {
          "model": "svr",
          "observed": 11.5,
          "predicted": 11.983493924372402
         },
         {
          "model": "svr",
          "observed": 11.5,
          "predicted": 12.48484453488341
         },
         {
          "model": "svr",
          "observed": 10.5,
          "predicted": 11.04380648421134
         },
         {
          "model": "svr",
          "observed": 12.5,
          "predicted": 12.161126346466627
         },
         {
          "model": "svr",
          "observed": 10.5,
          "predicted": 11.607324066511715
         },
         {
          "model": "svr",
          "observed": 13.5,
          "predicted": 12.55687375850801
         },
         {
          "model": "svr",
          "observed": 11.5,
          "predicted": 11.540338596838236
         },
         {
          "model": "svr",
          "observed": 10.5,
          "predicted": 10.839419664682888
         },
         {
          "model": "svr",
          "observed": 14.5,
          "predicted": 11.807931840996657
         },
         {
          "model": "svr",
          "observed": 8.5,
          "predicted": 9.65234978796147
         },
         {
          "model": "svr",
          "observed": 12.5,
          "predicted": 11.497457365516727
         },
         {
          "model": "svr",
          "observed": 5.5,
          "predicted": 5.502976773856281
         },
         {
          "model": "svr",
          "observed": 9.5,
          "predicted": 11.093829388533457
         },
         {
          "model": "svr",
          "observed": 11.5,
          "predicted": 13.792934332137564
         },
         {
          "model": "svr",
          "observed": 11.5,
          "predicted": 11.460586209131371
         },
         {
          "model": "svr",
          "observed": 10.5,
          "predicted": 11.656221531960721
         },
         {
          "model": "svr",
          "observed": 15.5,
          "predicted": 13.220720863652037
         },
         {
          "model": "svr",
          "observed": 8.5,
          "predicted": 9.195200151620968
         },
         {
          "model": "svr",
          "observed": 10.5,
          "predicted": 10.86084768287882
         },
         {
          "model": "svr",
          "observed": 10.5,
          "predicted": 10.099848286934918
         },
         {
          "model": "svr",
          "observed": 9.5,
          "predicted": 10.575874786351863
         },
         {
          "model": "svr",
          "observed": 12.5,
          "predicted": 12.966356516182806
         },
         {
          "model": "svr",
          "observed": 17.5,
          "predicted": 14.278737976789579
         },
         {
          "model": "svr",
          "observed": 12.5,
          "predicted": 12.00185193862893
         },
         {
          "model": "svr",
          "observed": 13.5,
          "predicted": 11.906960728254214
         },
         {
          "model": "svr",
          "observed": 10.5,
          "predicted": 9.38557138808275
         },
         {
          "model": "svr",
          "observed": 11.5,
          "predicted": 10.169003412849833
         },
         {
          "model": "svr",
          "observed": 16.5,
          "predicted": 15.644704364942047
         },
         {
          "model": "svr",
          "observed": 13.5,
          "predicted": 11.551320823010165
         },
         {
          "model": "svr",
          "observed": 11.5,
          "predicted": 11.855060561793097
         },
         {
          "model": "svr",
          "observed": 10.5,
          "predicted": 10.168524379735903
         },
         {
          "model": "svr",
          "observed": 5.5,
          "predicted": 6.399683300855232
         },
         {
          "model": "svr",
          "observed": 17.5,
          "predicted": 19.43487176927287
         },
         {
          "model": "svr",
          "observed": 18.5,
          "predicted": 13.324126149407045
         },
         {
          "model": "svr",
          "observed": 10.5,
          "predicted": 10.445020349947338
         },
         {
          "model": "svr",
          "observed": 11.5,
          "predicted": 13.333609298085078
         },
         {
          "model": "svr",
          "observed": 9.5,
          "predicted": 10.646617858205701
         },
         {
          "model": "svr",
          "observed": 10.5,
          "predicted": 10.357089508112546
         },
         {
          "model": "svr",
          "observed": 6.5,
          "predicted": 7.504171209816025
         },
         {
          "model": "svr",
          "observed": 12.5,
          "predicted": 11.803869519153992
         },
         {
          "model": "svr",
          "observed": 16.5,
          "predicted": 10.243837711228295
         },
         {
          "model": "svr",
          "observed": 10.5,
          "predicted": 10.669788721091084
         },
         {
          "model": "svr",
          "observed": 10.5,
          "predicted": 11.774206510221315
         },
         {
          "model": "svr",
          "observed": 11.5,
          "predicted": 9.664255033505675
         },
         {
          "model": "svr",
          "observed": 7.5,
          "predicted": 5.394714290502024
         },
         {
          "model": "svr",
          "observed": 14.5,
          "predicted": 15.437063944794883
         },
         {
          "model": "svr",
          "observed": 11.5,
          "predicted": 11.62494243495516
         },
         {
          "model": "svr",
          "observed": 13.5,
          "predicted": 9.864568258592065
         },
         {
          "model": "svr",
          "observed": 12.5,
          "predicted": 14.070828060282302
         },
         {
          "model": "svr",
          "observed": 11.5,
          "predicted": 8.814240764595278
         },
         {
          "model": "svr",
          "observed": 8.5,
          "predicted": 10.39898195011425
         },
         {
          "model": "svr",
          "observed": 13.5,
          "predicted": 14.934354011261982
         },
         {
          "model": "svr",
          "observed": 14.5,
          "predicted": 10.528384013696522
         },
         {
          "model": "svr",
          "observed": 15.5,
          "predicted": 14.879325655468646
         },
         {
          "model": "svr",
          "observed": 6.5,
          "predicted": 8.806540256830118
         },
         {
          "model": "svr",
          "observed": 10.5,
          "predicted": 10.935221525189263
         },
         {
          "model": "svr",
          "observed": 12.5,
          "predicted": 11.995262202597209
         },
         {
          "model": "svr",
          "observed": 10.5,
          "predicted": 10.737373484357562
         },
         {
          "model": "svr",
          "observed": 10.5,
          "predicted": 11.513093685380035
         },
         {
          "model": "svr",
          "observed": 11.5,
          "predicted": 10.330318120891908
         },
         {
          "model": "svr",
          "observed": 8.5,
          "predicted": 10.633149720589604
         },
         {
          "model": "svr",
          "observed": 11.5,
          "predicted": 11.48793405496221
         },
         {
          "model": "svr",
          "observed": 10.5,
          "predicted": 11.873361606244062
         },
         {
          "model": "svr",
          "observed": 10.5,
          "predicted": 10.102370613442158
         },
         {
          "model": "svr",
          "observed": 7.5,
          "predicted": 8.80979301943268
         },
         {
          "model": "svr",
          "observed": 19.5,
          "predicted": 12.770954300901712
         },
         {
          "model": "svr",
          "observed": 14.5,
          "predicted": 12.625378093982587
         },
         {
          "model": "svr",
          "observed": 8.5,
          "predicted": 9.606597845543375
         },
         {
          "model": "svr",
          "observed": 8.5,
          "predicted": 9.899081694879502
         },
         {
          "model": "svr",
          "observed": 11.5,
          "predicted": 11.522289725057318
         },
         {
          "model": "svr",
          "observed": 7.5,
          "predicted": 7.474056338951604
         },
         {
          "model": "svr",
          "observed": 12.5,
          "predicted": 11.923022574813908
         },
         {
          "model": "svr",
          "observed": 8.5,
          "predicted": 8.703703078201798
         },
         {
          "model": "svr",
          "observed": 13.5,
          "predicted": 11.961181958763385
         },
         {
          "model": "svr",
          "observed": 11.5,
          "predicted": 10.623624397752184
         },
         {
          "model": "svr",
          "observed": 12.5,
          "predicted": 10.67149049172281
         },
         {
          "model": "svr",
          "observed": 11.5,
          "predicted": 11.26751563810936
         },
         {
          "model": "svr",
          "observed": 12.5,
          "predicted": 11.384855329235862
         },
         {
          "model": "svr",
          "observed": 10.5,
          "predicted": 10.470939328302535
         },
         {
          "model": "svr",
          "observed": 11.5,
          "predicted": 10.143356035601574
         },
         {
          "model": "svr",
          "observed": 6.5,
          "predicted": 6.187666654025048
         },
         {
          "model": "svr",
          "observed": 11.5,
          "predicted": 12.769781488265343
         },
         {
          "model": "svr",
          "observed": 10.5,
          "predicted": 11.02092192176284
         },
         {
          "model": "svr",
          "observed": 17.5,
          "predicted": 15.305701297799365
         },
         {
          "model": "svr",
          "observed": 6.5,
          "predicted": 7.095894863293205
         },
         {
          "model": "svr",
          "observed": 9.5,
          "predicted": 9.727929231084715
         },
         {
          "model": "svr",
          "observed": 8.5,
          "predicted": 8.221525322181112
         },
         {
          "model": "svr",
          "observed": 7.5,
          "predicted": 8.117498830137428
         },
         {
          "model": "svr",
          "observed": 14.5,
          "predicted": 12.631499846275192
         },
         {
          "model": "svr",
          "observed": 12.5,
          "predicted": 14.232907140827683
         },
         {
          "model": "svr",
          "observed": 11.5,
          "predicted": 10.545045552364002
         },
         {
          "model": "svr",
          "observed": 16.5,
          "predicted": 14.60799387240456
         },
         {
          "model": "svr",
          "observed": 10.5,
          "predicted": 11.941402019282272
         },
         {
          "model": "svr",
          "observed": 14.5,
          "predicted": 16.0343872608535
         },
         {
          "model": "svr",
          "observed": 12.5,
          "predicted": 11.83377721409966
         },
         {
          "model": "svr",
          "observed": 9.5,
          "predicted": 10.274153133189436
         },
         {
          "model": "svr",
          "observed": 9.5,
          "predicted": 10.723166351263298
         },
         {
          "model": "svr",
          "observed": 9.5,
          "predicted": 10.361146377508232
         },
         {
          "model": "svr",
          "observed": 10.5,
          "predicted": 11.428614184684552
         },
         {
          "model": "svr",
          "observed": 8.5,
          "predicted": 7.623581926063072
         },
         {
          "model": "svr",
          "observed": 13.5,
          "predicted": 12.070935428591325
         },
         {
          "model": "svr",
          "observed": 8.5,
          "predicted": 8.328107125583298
         },
         {
          "model": "svr",
          "observed": 10.5,
          "predicted": 10.38109458080919
         },
         {
          "model": "svr",
          "observed": 11.5,
          "predicted": 9.006591172133673
         },
         {
          "model": "svr",
          "observed": 10.5,
          "predicted": 12.989743329532635
         },
         {
          "model": "svr",
          "observed": 9.5,
          "predicted": 11.230700093141845
         },
         {
          "model": "svr",
          "observed": 9.5,
          "predicted": 9.964766170553341
         },
         {
          "model": "svr",
          "observed": 6.5,
          "predicted": 7.222868552546714
         },
         {
          "model": "svr",
          "observed": 11.5,
          "predicted": 11.174381300027346
         },
         {
          "model": "svr",
          "observed": 7.5,
          "predicted": 8.88098644005023
         },
         {
          "model": "svr",
          "observed": 14.5,
          "predicted": 12.444293822661644
         },
         {
          "model": "svr",
          "observed": 11.5,
          "predicted": 10.292384286180365
         },
         {
          "model": "svr",
          "observed": 10.5,
          "predicted": 8.6264136911205
         },
         {
          "model": "svr",
          "observed": 7.5,
          "predicted": 7.382497551260601
         },
         {
          "model": "svr",
          "observed": 11.5,
          "predicted": 11.805200382361086
         },
         {
          "model": "svr",
          "observed": 9.5,
          "predicted": 10.620046053292587
         },
         {
          "model": "svr",
          "observed": 11.5,
          "predicted": 14.728481764777703
         },
         {
          "model": "svr",
          "observed": 13.5,
          "predicted": 12.964893954248035
         },
         {
          "model": "svr",
          "observed": 15.5,
          "predicted": 13.322332283090095
         },
         {
          "model": "svr",
          "observed": 14.5,
          "predicted": 10.70970653519697
         },
         {
          "model": "svr",
          "observed": 12.5,
          "predicted": 12.092382696714514
         },
         {
          "model": "svr",
          "observed": 8.5,
          "predicted": 9.044560478951423
         },
         {
          "model": "svr",
          "observed": 10.5,
          "predicted": 13.438141816785397
         },
         {
          "model": "svr",
          "observed": 7.5,
          "predicted": 5.5459926188368724
         },
         {
          "model": "svr",
          "observed": 11.5,
          "predicted": 12.18821972221645
         },
         {
          "model": "svr",
          "observed": 11.5,
          "predicted": 12.852054119530882
         },
         {
          "model": "svr",
          "observed": 15.5,
          "predicted": 16.94591717173248
         },
         {
          "model": "svr",
          "observed": 8.5,
          "predicted": 8.640708245400267
         },
         {
          "model": "svr",
          "observed": 7.5,
          "predicted": 8.047771870979947
         },
         {
          "model": "svr",
          "observed": 8.5,
          "predicted": 10.04909204699561
         },
         {
          "model": "svr",
          "observed": 11.5,
          "predicted": 11.836690236775803
         },
         {
          "model": "svr",
          "observed": 2.5,
          "predicted": 5.898164589117368
         },
         {
          "model": "svr",
          "observed": 9.5,
          "predicted": 9.259855289803799
         },
         {
          "model": "svr",
          "observed": 16.5,
          "predicted": 15.02868208264162
         },
         {
          "model": "svr",
          "observed": 10.5,
          "predicted": 11.603650066115364
         },
         {
          "model": "svr",
          "observed": 7.5,
          "predicted": 7.72412941459285
         },
         {
          "model": "svr",
          "observed": 14.5,
          "predicted": 12.67774515988922
         },
         {
          "model": "svr",
          "observed": 15.5,
          "predicted": 13.374577410769007
         },
         {
          "model": "svr",
          "observed": 15.5,
          "predicted": 13.46786647344404
         },
         {
          "model": "svr",
          "observed": 12.5,
          "predicted": 13.337129130005435
         },
         {
          "model": "svr",
          "observed": 9.5,
          "predicted": 9.521770339235111
         },
         {
          "model": "svr",
          "observed": 11.5,
          "predicted": 10.862053411011326
         },
         {
          "model": "svr",
          "observed": 13.5,
          "predicted": 12.383592403325384
         },
         {
          "model": "svr",
          "observed": 12.5,
          "predicted": 12.148736876228826
         },
         {
          "model": "svr",
          "observed": 11.5,
          "predicted": 11.695060858151937
         },
         {
          "model": "svr",
          "observed": 4.5,
          "predicted": 5.252617033504482
         },
         {
          "model": "svr",
          "observed": 13.5,
          "predicted": 13.791312658736512
         },
         {
          "model": "svr",
          "observed": 11.5,
          "predicted": 10.968875737831596
         },
         {
          "model": "svr",
          "observed": 11.5,
          "predicted": 9.996216452005314
         },
         {
          "model": "svr",
          "observed": 12.5,
          "predicted": 12.492192568786445
         },
         {
          "model": "svr",
          "observed": 8.5,
          "predicted": 8.706736184279857
         },
         {
          "model": "svr",
          "observed": 10.5,
          "predicted": 10.344475438113143
         },
         {
          "model": "svr",
          "observed": 10.5,
          "predicted": 11.952715566991722
         },
         {
          "model": "svr",
          "observed": 11.5,
          "predicted": 11.406020720012426
         },
         {
          "model": "svr",
          "observed": 12.5,
          "predicted": 12.56417592623149
         },
         {
          "model": "svr",
          "observed": 15.5,
          "predicted": 13.643316849163137
         },
         {
          "model": "svr",
          "observed": 11.5,
          "predicted": 11.97875664994921
         },
         {
          "model": "svr",
          "observed": 21.5,
          "predicted": 15.116089217690188
         },
         {
          "model": "svr",
          "observed": 13.5,
          "predicted": 10.493680398117169
         },
         {
          "model": "svr",
          "observed": 8.5,
          "predicted": 8.600074065826073
         },
         {
          "model": "svr",
          "observed": 11.5,
          "predicted": 11.76686391558789
         },
         {
          "model": "svr",
          "observed": 14.5,
          "predicted": 12.168241854073791
         },
         {
          "model": "svr",
          "observed": 14.5,
          "predicted": 12.971036751115628
         },
         {
          "model": "svr",
          "observed": 6.5,
          "predicted": 6.806401252489145
         },
         {
          "model": "svr",
          "observed": 12.5,
          "predicted": 11.766502416444542
         },
         {
          "model": "svr",
          "observed": 10.5,
          "predicted": 10.380997530674028
         },
         {
          "model": "svr",
          "observed": 12.5,
          "predicted": 10.29625231238634
         },
         {
          "model": "svr",
          "observed": 7.5,
          "predicted": 8.35618671501502
         },
         {
          "model": "svr",
          "observed": 12.5,
          "predicted": 10.958230542034343
         },
         {
          "model": "svr",
          "observed": 10.5,
          "predicted": 9.87480077954606
         },
         {
          "model": "svr",
          "observed": 22.5,
          "predicted": 15.471944964010437
         },
         {
          "model": "svr",
          "observed": 8.5,
          "predicted": 8.310620851376923
         },
         {
          "model": "svr",
          "observed": 9.5,
          "predicted": 9.2625617741768
         },
         {
          "model": "svr",
          "observed": 9.5,
          "predicted": 9.12442405340823
         },
         {
          "model": "svr",
          "observed": 12.5,
          "predicted": 10.839389143326258
         },
         {
          "model": "svr",
          "observed": 13.5,
          "predicted": 13.236186926285292
         },
         {
          "model": "svr",
          "observed": 11.5,
          "predicted": 12.940894786035745
         },
         {
          "model": "svr",
          "observed": 15.5,
          "predicted": 13.10305722399046
         },
         {
          "model": "svr",
          "observed": 14.5,
          "predicted": 13.627720309821012
         },
         {
          "model": "svr",
          "observed": 9.5,
          "predicted": 11.33729611804907
         },
         {
          "model": "svr",
          "observed": 9.5,
          "predicted": 12.058865615021368
         },
         {
          "model": "svr",
          "observed": 6.5,
          "predicted": 9.889989551310347
         },
         {
          "model": "svr",
          "observed": 15.5,
          "predicted": 12.379104628048712
         },
         {
          "model": "svr",
          "observed": 21.5,
          "predicted": 19.77824866478357
         },
         {
          "model": "svr",
          "observed": 12.5,
          "predicted": 10.921122965513263
         },
         {
          "model": "svr",
          "observed": 9.5,
          "predicted": 8.927031304186716
         },
         {
          "model": "svr",
          "observed": 11.5,
          "predicted": 12.931044870860067
         },
         {
          "model": "svr",
          "observed": 7.5,
          "predicted": 8.009911251439206
         },
         {
          "model": "svr",
          "observed": 9.5,
          "predicted": 10.384578892444665
         },
         {
          "model": "svr",
          "observed": 10.5,
          "predicted": 9.567700198169408
         },
         {
          "model": "svr",
          "observed": 16.5,
          "predicted": 12.797090604167842
         },
         {
          "model": "svr",
          "observed": 8.5,
          "predicted": 11.814918560463374
         },
         {
          "model": "svr",
          "observed": 13.5,
          "predicted": 17.634710799905257
         },
         {
          "model": "svr",
          "observed": 8.5,
          "predicted": 9.184958358636173
         },
         {
          "model": "svr",
          "observed": 11.5,
          "predicted": 11.12896293060501
         },
         {
          "model": "svr",
          "observed": 12.5,
          "predicted": 10.711079353740754
         },
         {
          "model": "svr",
          "observed": 14.5,
          "predicted": 13.108296975305056
         },
         {
          "model": "svr",
          "observed": 16.5,
          "predicted": 14.408684715825672
         },
         {
          "model": "svr",
          "observed": 7.5,
          "predicted": 8.78214948840614
         },
         {
          "model": "svr",
          "observed": 8.5,
          "predicted": 10.621590531477056
         },
         {
          "model": "svr",
          "observed": 14.5,
          "predicted": 12.99688622370656
         },
         {
          "model": "svr",
          "observed": 10.5,
          "predicted": 11.268255425056088
         },
         {
          "model": "svr",
          "observed": 11.5,
          "predicted": 11.769860274884682
         },
         {
          "model": "svr",
          "observed": 9.5,
          "predicted": 10.677330513857965
         },
         {
          "model": "svr",
          "observed": 9.5,
          "predicted": 8.921621160553869
         },
         {
          "model": "svr",
          "observed": 9.5,
          "predicted": 7.62703642583903
         },
         {
          "model": "svr",
          "observed": 10.5,
          "predicted": 10.640668355277667
         },
         {
          "model": "svr",
          "observed": 10.5,
          "predicted": 11.386358946880003
         },
         {
          "model": "svr",
          "observed": 14.5,
          "predicted": 12.284613204656768
         },
         {
          "model": "svr",
          "observed": 13.5,
          "predicted": 11.902296803101173
         },
         {
          "model": "svr",
          "observed": 7.5,
          "predicted": 8.843329903387163
         },
         {
          "model": "svr",
          "observed": 10.5,
          "predicted": 10.820069702188341
         },
         {
          "model": "svr",
          "observed": 12.5,
          "predicted": 11.11472619811253
         },
         {
          "model": "svr",
          "observed": 9.5,
          "predicted": 10.900579550845736
         },
         {
          "model": "svr",
          "observed": 12.5,
          "predicted": 11.596056191209176
         },
         {
          "model": "svr",
          "observed": 8.5,
          "predicted": 7.56520998321085
         },
         {
          "model": "svr",
          "observed": 17.5,
          "predicted": 15.356099130988099
         },
         {
          "model": "svr",
          "observed": 12.5,
          "predicted": 11.534138941643661
         },
         {
          "model": "svr",
          "observed": 10.5,
          "predicted": 10.059250273880341
         },
         {
          "model": "svr",
          "observed": 6.5,
          "predicted": 7.941470929892562
         },
         {
          "model": "svr",
          "observed": 7.5,
          "predicted": 9.079222653253188
         },
         {
          "model": "svr",
          "observed": 16.5,
          "predicted": 12.072811852584087
         },
         {
          "model": "svr",
          "observed": 10.5,
          "predicted": 10.685948477563649
         },
         {
          "model": "svr",
          "observed": 9.5,
          "predicted": 11.0865684840069
         },
         {
          "model": "svr",
          "observed": 13.5,
          "predicted": 13.91549986079362
         },
         {
          "model": "svr",
          "observed": 12.5,
          "predicted": 12.492599245037125
         },
         {
          "model": "svr",
          "observed": 8.5,
          "predicted": 8.181729806716827
         },
         {
          "model": "svr",
          "observed": 15.5,
          "predicted": 14.12419519348997
         },
         {
          "model": "svr",
          "observed": 18.5,
          "predicted": 16.3700737423123
         },
         {
          "model": "svr",
          "observed": 15.5,
          "predicted": 11.484906419116601
         },
         {
          "model": "svr",
          "observed": 17.5,
          "predicted": 11.250997832440959
         },
         {
          "model": "svr",
          "observed": 9.5,
          "predicted": 10.116617835425831
         },
         {
          "model": "svr",
          "observed": 10.5,
          "predicted": 10.43346606571888
         },
         {
          "model": "svr",
          "observed": 9.5,
          "predicted": 8.516067732337959
         },
         {
          "model": "svr",
          "observed": 9.5,
          "predicted": 10.35493237269191
         },
         {
          "model": "svr",
          "observed": 8.5,
          "predicted": 9.825893739743435
         },
         {
          "model": "svr",
          "observed": 11.5,
          "predicted": 11.555130593664172
         },
         {
          "model": "svr",
          "observed": 5.5,
          "predicted": 5.674644922575446
         },
         {
          "model": "svr",
          "observed": 11.5,
          "predicted": 14.033230529436633
         },
         {
          "model": "svr",
          "observed": 7.5,
          "predicted": 8.370973960414368
         },
         {
          "model": "svr",
          "observed": 10.5,
          "predicted": 12.383266132119111
         },
         {
          "model": "svr",
          "observed": 13.5,
          "predicted": 12.132006186180982
         },
         {
          "model": "svr",
          "observed": 10.5,
          "predicted": 11.008747142412712
         },
         {
          "model": "svr",
          "observed": 7.5,
          "predicted": 8.06941628466166
         },
         {
          "model": "svr",
          "observed": 12.5,
          "predicted": 11.576413031994813
         },
         {
          "model": "svr",
          "observed": 7.5,
          "predicted": 8.35816457376443
         },
         {
          "model": "svr",
          "observed": 19.5,
          "predicted": 14.419170753786174
         },
         {
          "model": "svr",
          "observed": 11.5,
          "predicted": 12.229446719350602
         },
         {
          "model": "svr",
          "observed": 12.5,
          "predicted": 12.946213277579346
         },
         {
          "model": "svr",
          "observed": 13.5,
          "predicted": 12.298248332982272
         },
         {
          "model": "svr",
          "observed": 6.5,
          "predicted": 5.825502371704793
         },
         {
          "model": "svr",
          "observed": 12.5,
          "predicted": 12.477754767528362
         },
         {
          "model": "svr",
          "observed": 10.5,
          "predicted": 9.168744778311327
         },
         {
          "model": "svr",
          "observed": 10.5,
          "predicted": 11.795742487119439
         },
         {
          "model": "svr",
          "observed": 16.5,
          "predicted": 14.742139844085877
         },
         {
          "model": "svr",
          "observed": 10.5,
          "predicted": 9.646283244782875
         },
         {
          "model": "svr",
          "observed": 9.5,
          "predicted": 8.41715131737139
         },
         {
          "model": "svr",
          "observed": 11.5,
          "predicted": 14.093559213012089
         },
         {
          "model": "svr",
          "observed": 14.5,
          "predicted": 10.201405289194962
         },
         {
          "model": "svr",
          "observed": 12.5,
          "predicted": 10.113580139342973
         },
         {
          "model": "svr",
          "observed": 8.5,
          "predicted": 8.539719300089915
         },
         {
          "model": "svr",
          "observed": 12.5,
          "predicted": 12.746762989701953
         },
         {
          "model": "svr",
          "observed": 11.5,
          "predicted": 10.14592438958244
         },
         {
          "model": "svr",
          "observed": 8.5,
          "predicted": 9.210887155503158
         },
         {
          "model": "svr",
          "observed": 11.5,
          "predicted": 10.89229609351363
         },
         {
          "model": "svr",
          "observed": 12.5,
          "predicted": 13.457516463549341
         },
         {
          "model": "svr",
          "observed": 11.5,
          "predicted": 10.902934164537948
         },
         {
          "model": "svr",
          "observed": 12.5,
          "predicted": 11.916544853828492
         },
         {
          "model": "svr",
          "observed": 12.5,
          "predicted": 12.345196070789878
         },
         {
          "model": "svr",
          "observed": 10.5,
          "predicted": 12.627471715307928
         },
         {
          "model": "svr",
          "observed": 11.5,
          "predicted": 10.682287938408479
         },
         {
          "model": "svr",
          "observed": 11.5,
          "predicted": 11.404425374395025
         },
         {
          "model": "svr",
          "observed": 21.5,
          "predicted": 17.570931381551326
         },
         {
          "model": "svr",
          "observed": 9.5,
          "predicted": 11.08034272427803
         },
         {
          "model": "svr",
          "observed": 7.5,
          "predicted": 6.970554456163589
         },
         {
          "model": "svr",
          "observed": 12.5,
          "predicted": 12.224688887520792
         },
         {
          "model": "svr",
          "observed": 10.5,
          "predicted": 9.763865733102564
         },
         {
          "model": "svr",
          "observed": 7.5,
          "predicted": 6.896343618273382
         },
         {
          "model": "svr",
          "observed": 28.5,
          "predicted": 18.790386591529654
         },
         {
          "model": "svr",
          "observed": 14.5,
          "predicted": 14.040472531734736
         },
         {
          "model": "svr",
          "observed": 9.5,
          "predicted": 10.289921701180603
         },
         {
          "model": "svr",
          "observed": 13.5,
          "predicted": 9.711999463592274
         },
         {
          "model": "svr",
          "observed": 9.5,
          "predicted": 9.40301304069019
         },
         {
          "model": "svr",
          "observed": 11.5,
          "predicted": 11.983601056735724
         },
         {
          "model": "svr",
          "observed": 16.5,
          "predicted": 12.57414400132721
         },
         {
          "model": "svr",
          "observed": 10.5,
          "predicted": 10.349082027023057
         },
         {
          "model": "svr",
          "observed": 10.5,
          "predicted": 11.502104138331015
         },
         {
          "model": "svr",
          "observed": 10.5,
          "predicted": 13.136706104213578
         },
         {
          "model": "svr",
          "observed": 11.5,
          "predicted": 13.924645812200005
         },
         {
          "model": "svr",
          "observed": 18.5,
          "predicted": 12.766282061952637
         },
         {
          "model": "svr",
          "observed": 12.5,
          "predicted": 11.967574955967637
         },
         {
          "model": "svr",
          "observed": 9.5,
          "predicted": 10.820896463302951
         },
         {
          "model": "svr",
          "observed": 16.5,
          "predicted": 13.456938725426
         },
         {
          "model": "svr",
          "observed": 13.5,
          "predicted": 13.589315890180588
         },
         {
          "model": "svr",
          "observed": 20.5,
          "predicted": 13.819153044071824
         },
         {
          "model": "svr",
          "observed": 10.5,
          "predicted": 11.609049111570789
         },
         {
          "model": "svr",
          "observed": 10.5,
          "predicted": 11.58135625879912
         },
         {
          "model": "svr",
          "observed": 9.5,
          "predicted": 12.424638253881943
         },
         {
          "model": "svr",
          "observed": 12.5,
          "predicted": 12.371642434789168
         },
         {
          "model": "svr",
          "observed": 10.5,
          "predicted": 9.875715268485077
         },
         {
          "model": "svr",
          "observed": 11.5,
          "predicted": 11.511901948417503
         },
         {
          "model": "svr",
          "observed": 12.5,
          "predicted": 11.106164510327709
         },
         {
          "model": "svr",
          "observed": 9.5,
          "predicted": 11.91886972018371
         },
         {
          "model": "svr",
          "observed": 12.5,
          "predicted": 12.44774693545609
         },
         {
          "model": "svr",
          "observed": 12.5,
          "predicted": 10.439002099299707
         },
         {
          "model": "svr",
          "observed": 10.5,
          "predicted": 10.7711174951729
         },
         {
          "model": "svr",
          "observed": 15.5,
          "predicted": 16.672690291766656
         },
         {
          "model": "svr",
          "observed": 11.5,
          "predicted": 12.78514270088011
         },
         {
          "model": "svr",
          "observed": 11.5,
          "predicted": 11.446860482657335
         },
         {
          "model": "svr",
          "observed": 17.5,
          "predicted": 15.630804214149935
         },
         {
          "model": "svr",
          "observed": 8.5,
          "predicted": 7.989363100902756
         },
         {
          "model": "svr",
          "observed": 7.5,
          "predicted": 8.292936720458236
         },
         {
          "model": "svr",
          "observed": 11.5,
          "predicted": 12.750203247741483
         },
         {
          "model": "svr",
          "observed": 7.5,
          "predicted": 9.059589538824477
         },
         {
          "model": "svr",
          "observed": 6.5,
          "predicted": 7.051542522529496
         },
         {
          "model": "svr",
          "observed": 11.5,
          "predicted": 10.339709630116989
         },
         {
          "model": "svr",
          "observed": 12.5,
          "predicted": 12.01252418016841
         },
         {
          "model": "svr",
          "observed": 13.5,
          "predicted": 13.204771276915862
         },
         {
          "model": "svr",
          "observed": 8.5,
          "predicted": 8.725620367679127
         },
         {
          "model": "svr",
          "observed": 16.5,
          "predicted": 15.081415817966615
         },
         {
          "model": "svr",
          "observed": 11.5,
          "predicted": 11.667210868928375
         },
         {
          "model": "svr",
          "observed": 9.5,
          "predicted": 10.221537312546133
         },
         {
          "model": "svr",
          "observed": 9.5,
          "predicted": 8.928482077130308
         },
         {
          "model": "svr",
          "observed": 9.5,
          "predicted": 9.113035130678238
         },
         {
          "model": "svr",
          "observed": 12.5,
          "predicted": 12.326386832606051
         },
         {
          "model": "svr",
          "observed": 10.5,
          "predicted": 13.524243604570206
         },
         {
          "model": "svr",
          "observed": 8.5,
          "predicted": 7.886655786199853
         },
         {
          "model": "svr",
          "observed": 6.5,
          "predicted": 5.989442114822328
         },
         {
          "model": "svr",
          "observed": 11.5,
          "predicted": 11.87331348969906
         },
         {
          "model": "svr",
          "observed": 19.5,
          "predicted": 14.7075682847833
         },
         {
          "model": "svr",
          "observed": 9.5,
          "predicted": 7.972585699217032
         },
         {
          "model": "svr",
          "observed": 9.5,
          "predicted": 12.01477708126631
         },
         {
          "model": "svr",
          "observed": 7.5,
          "predicted": 8.429986336767818
         },
         {
          "model": "svr",
          "observed": 13.5,
          "predicted": 12.378417546060364
         },
         {
          "model": "svr",
          "observed": 22.5,
          "predicted": 12.335398776583915
         },
         {
          "model": "svr",
          "observed": 17.5,
          "predicted": 16.903633480713253
         },
         {
          "model": "svr",
          "observed": 8.5,
          "predicted": 8.658312059328377
         },
         {
          "model": "svr",
          "observed": 16.5,
          "predicted": 13.522999019700531
         },
         {
          "model": "svr",
          "observed": 12.5,
          "predicted": 11.534781111816331
         },
         {
          "model": "svr",
          "observed": 10.5,
          "predicted": 11.03833030739016
         },
         {
          "model": "svr",
          "observed": 13.5,
          "predicted": 12.46156881931163
         },
         {
          "model": "svr",
          "observed": 12.5,
          "predicted": 13.487260324026296
         },
         {
          "model": "svr",
          "observed": 12.5,
          "predicted": 11.513054745614838
         },
         {
          "model": "svr",
          "observed": 13.5,
          "predicted": 14.59547974626253
         },
         {
          "model": "svr",
          "observed": 12.5,
          "predicted": 10.624510782278978
         },
         {
          "model": "svr",
          "observed": 12.5,
          "predicted": 12.21847065604616
         },
         {
          "model": "svr",
          "observed": 8.5,
          "predicted": 9.99130832957491
         },
         {
          "model": "svr",
          "observed": 8.5,
          "predicted": 9.144582263120181
         },
         {
          "model": "svr",
          "observed": 8.5,
          "predicted": 7.818144934293086
         },
         {
          "model": "svr",
          "observed": 11.5,
          "predicted": 15.577334888374926
         },
         {
          "model": "svr",
          "observed": 9.5,
          "predicted": 10.918083008829438
         },
         {
          "model": "rfr",
          "observed": 12.5,
          "predicted": 12.21111111111111
         },
         {
          "model": "rfr",
          "observed": 11.5,
          "predicted": 14.277777777777779
         },
         {
          "model": "rfr",
          "observed": 10.5,
          "predicted": 11.9
         },
         {
          "model": "rfr",
          "observed": 9.5,
          "predicted": 12.7
         },
         {
          "model": "rfr",
          "observed": 14.5,
          "predicted": 13.1
         },
         {
          "model": "rfr",
          "observed": 11.5,
          "predicted": 13.155555555555555
         },
         {
          "model": "rfr",
          "observed": 8.5,
          "predicted": 9.177777777777777
         },
         {
          "model": "rfr",
          "observed": 10.5,
          "predicted": 10.833333333333334
         },
         {
          "model": "rfr",
          "observed": 12.5,
          "predicted": 13.066666666666666
         },
         {
          "model": "rfr",
          "observed": 13.5,
          "predicted": 12.422222222222222
         },
         {
          "model": "rfr",
          "observed": 14.5,
          "predicted": 11.744444444444444
         },
         {
          "model": "rfr",
          "observed": 13.5,
          "predicted": 12.266666666666667
         },
         {
          "model": "rfr",
          "observed": 10.5,
          "predicted": 8.433333333333334
         },
         {
          "model": "rfr",
          "observed": 11.5,
          "predicted": 10.855555555555556
         },
         {
          "model": "rfr",
          "observed": 18.5,
          "predicted": 15.8
         },
         {
          "model": "rfr",
          "observed": 12.5,
          "predicted": 13.377777777777778
         },
         {
          "model": "rfr",
          "observed": 12.5,
          "predicted": 13.233333333333333
         },
         {
          "model": "rfr",
          "observed": 12.5,
          "predicted": 11.733333333333333
         },
         {
          "model": "rfr",
          "observed": 9.5,
          "predicted": 9.277777777777779
         },
         {
          "model": "rfr",
          "observed": 7.5,
          "predicted": 9.71111111111111
         },
         {
          "model": "rfr",
          "observed": 10.5,
          "predicted": 11.677777777777777
         },
         {
          "model": "rfr",
          "observed": 10.5,
          "predicted": 11.933333333333334
         },
         {
          "model": "rfr",
          "observed": 19.5,
          "predicted": 14.744444444444444
         },
         {
          "model": "rfr",
          "observed": 15.5,
          "predicted": 14.311111111111112
         },
         {
          "model": "rfr",
          "observed": 8.5,
          "predicted": 9.066666666666666
         },
         {
          "model": "rfr",
          "observed": 12.5,
          "predicted": 13.8
         },
         {
          "model": "rfr",
          "observed": 8.5,
          "predicted": 8.666666666666666
         },
         {
          "model": "rfr",
          "observed": 9.5,
          "predicted": 10.88888888888889
         },
         {
          "model": "rfr",
          "observed": 11.5,
          "predicted": 10.7
         },
         {
          "model": "rfr",
          "observed": 12.5,
          "predicted": 12.766666666666667
         },
         {
          "model": "rfr",
          "observed": 7.5,
          "predicted": 8.177777777777777
         },
         {
          "model": "rfr",
          "observed": 10.5,
          "predicted": 10.988888888888889
         },
         {
          "model": "rfr",
          "observed": 9.5,
          "predicted": 10.455555555555556
         },
         {
          "model": "rfr",
          "observed": 10.5,
          "predicted": 14.2
         },
         {
          "model": "rfr",
          "observed": 8.5,
          "predicted": 8.588888888888889
         },
         {
          "model": "rfr",
          "observed": 12.5,
          "predicted": 12.144444444444444
         },
         {
          "model": "rfr",
          "observed": 9.5,
          "predicted": 13.188888888888888
         },
         {
          "model": "rfr",
          "observed": 15.5,
          "predicted": 12.344444444444445
         },
         {
          "model": "rfr",
          "observed": 11.5,
          "predicted": 12.777777777777779
         },
         {
          "model": "rfr",
          "observed": 11.5,
          "predicted": 11.777777777777779
         },
         {
          "model": "rfr",
          "observed": 16.5,
          "predicted": 10.28888888888889
         },
         {
          "model": "rfr",
          "observed": 10.5,
          "predicted": 10.866666666666667
         },
         {
          "model": "rfr",
          "observed": 14.5,
          "predicted": 13.977777777777778
         },
         {
          "model": "rfr",
          "observed": 16.5,
          "predicted": 14.833333333333334
         },
         {
          "model": "rfr",
          "observed": 19.5,
          "predicted": 14.844444444444445
         },
         {
          "model": "rfr",
          "observed": 17.5,
          "predicted": 15.988888888888889
         },
         {
          "model": "rfr",
          "observed": 11.5,
          "predicted": 10.088888888888889
         },
         {
          "model": "rfr",
          "observed": 12.5,
          "predicted": 12.377777777777778
         },
         {
          "model": "rfr",
          "observed": 9.5,
          "predicted": 8.28888888888889
         },
         {
          "model": "rfr",
          "observed": 13.5,
          "predicted": 14.666666666666666
         },
         {
          "model": "rfr",
          "observed": 9.5,
          "predicted": 9.61111111111111
         },
         {
          "model": "rfr",
          "observed": 11.5,
          "predicted": 12.911111111111111
         },
         {
          "model": "rfr",
          "observed": 11.5,
          "predicted": 11.466666666666667
         },
         {
          "model": "rfr",
          "observed": 5.5,
          "predicted": 5.977777777777778
         },
         {
          "model": "rfr",
          "observed": 11.5,
          "predicted": 11.511111111111111
         },
         {
          "model": "rfr",
          "observed": 11.5,
          "predicted": 11.9
         },
         {
          "model": "rfr",
          "observed": 13.5,
          "predicted": 13.033333333333333
         },
         {
          "model": "rfr",
          "observed": 11.5,
          "predicted": 11.066666666666666
         },
         {
          "model": "rfr",
          "observed": 10.5,
          "predicted": 11.411111111111111
         },
         {
          "model": "rfr",
          "observed": 10.5,
          "predicted": 10.877777777777778
         },
         {
          "model": "rfr",
          "observed": 10.5,
          "predicted": 13.555555555555555
         },
         {
          "model": "rfr",
          "observed": 13.5,
          "predicted": 14.533333333333333
         },
         {
          "model": "rfr",
          "observed": 9.5,
          "predicted": 11.144444444444444
         },
         {
          "model": "rfr",
          "observed": 13.5,
          "predicted": 11.411111111111111
         },
         {
          "model": "rfr",
          "observed": 13.5,
          "predicted": 13.044444444444444
         },
         {
          "model": "rfr",
          "observed": 12.5,
          "predicted": 13.866666666666667
         },
         {
          "model": "rfr",
          "observed": 10.5,
          "predicted": 10.188888888888888
         },
         {
          "model": "rfr",
          "observed": 8.5,
          "predicted": 8.033333333333333
         },
         {
          "model": "rfr",
          "observed": 12.5,
          "predicted": 12.21111111111111
         },
         {
          "model": "rfr",
          "observed": 9.5,
          "predicted": 12.511111111111111
         },
         {
          "model": "rfr",
          "observed": 6.5,
          "predicted": 7.9
         },
         {
          "model": "rfr",
          "observed": 10.5,
          "predicted": 11.122222222222222
         },
         {
          "model": "rfr",
          "observed": 11.5,
          "predicted": 14.233333333333333
         },
         {
          "model": "rfr",
          "observed": 11.5,
          "predicted": 12.311111111111112
         },
         {
          "model": "rfr",
          "observed": 10.5,
          "predicted": 10.577777777777778
         },
         {
          "model": "rfr",
          "observed": 13.5,
          "predicted": 15.644444444444444
         },
         {
          "model": "rfr",
          "observed": 11.5,
          "predicted": 10.133333333333333
         },
         {
          "model": "rfr",
          "observed": 7.5,
          "predicted": 7.811111111111111
         },
         {
          "model": "rfr",
          "observed": 11.5,
          "predicted": 12.9
         },
         {
          "model": "rfr",
          "observed": 13.5,
          "predicted": 15.188888888888888
         },
         {
          "model": "rfr",
          "observed": 15.5,
          "predicted": 16.27777777777778
         },
         {
          "model": "rfr",
          "observed": 13.5,
          "predicted": 15
         },
         {
          "model": "rfr",
          "observed": 11.5,
          "predicted": 12.511111111111111
         },
         {
          "model": "rfr",
          "observed": 7.5,
          "predicted": 6.855555555555555
         },
         {
          "model": "rfr",
          "observed": 14.5,
          "predicted": 15
         },
         {
          "model": "rfr",
          "observed": 10.5,
          "predicted": 9.233333333333333
         },
         {
          "model": "rfr",
          "observed": 14.5,
          "predicted": 12.911111111111111
         },
         {
          "model": "rfr",
          "observed": 15.5,
          "predicted": 13.8
         },
         {
          "model": "rfr",
          "observed": 16.5,
          "predicted": 12.933333333333334
         },
         {
          "model": "rfr",
          "observed": 13.5,
          "predicted": 15.666666666666666
         },
         {
          "model": "rfr",
          "observed": 18.5,
          "predicted": 12.811111111111112
         },
         {
          "model": "rfr",
          "observed": 14.5,
          "predicted": 14.688888888888888
         },
         {
          "model": "rfr",
          "observed": 9.5,
          "predicted": 11.311111111111112
         },
         {
          "model": "rfr",
          "observed": 11.5,
          "predicted": 11.477777777777778
         },
         {
          "model": "rfr",
          "observed": 8.5,
          "predicted": 10.88888888888889
         },
         {
          "model": "rfr",
          "observed": 13.5,
          "predicted": 13.022222222222222
         },
         {
          "model": "rfr",
          "observed": 11.5,
          "predicted": 15.055555555555555
         },
         {
          "model": "rfr",
          "observed": 8.5,
          "predicted": 10.377777777777778
         },
         {
          "model": "rfr",
          "observed": 8.5,
          "predicted": 9.4
         },
         {
          "model": "rfr",
          "observed": 10.5,
          "predicted": 10.855555555555556
         },
         {
          "model": "rfr",
          "observed": 8.5,
          "predicted": 8.455555555555556
         },
         {
          "model": "rfr",
          "observed": 14.5,
          "predicted": 12.055555555555555
         },
         {
          "model": "rfr",
          "observed": 11.5,
          "predicted": 12.322222222222223
         },
         {
          "model": "rfr",
          "observed": 7.5,
          "predicted": 8.055555555555555
         },
         {
          "model": "rfr",
          "observed": 10.5,
          "predicted": 10.733333333333333
         },
         {
          "model": "rfr",
          "observed": 10.5,
          "predicted": 12.066666666666666
         },
         {
          "model": "rfr",
          "observed": 9.5,
          "predicted": 15.488888888888889
         },
         {
          "model": "rfr",
          "observed": 7.5,
          "predicted": 7.355555555555555
         },
         {
          "model": "rfr",
          "observed": 11.5,
          "predicted": 13.355555555555556
         },
         {
          "model": "rfr",
          "observed": 15.5,
          "predicted": 13.222222222222221
         },
         {
          "model": "rfr",
          "observed": 11.5,
          "predicted": 12.088888888888889
         },
         {
          "model": "rfr",
          "observed": 23.5,
          "predicted": 16.055555555555557
         },
         {
          "model": "rfr",
          "observed": 12.5,
          "predicted": 10.777777777777779
         },
         {
          "model": "rfr",
          "observed": 11.5,
          "predicted": 12.344444444444445
         },
         {
          "model": "rfr",
          "observed": 14.5,
          "predicted": 16.844444444444445
         },
         {
          "model": "rfr",
          "observed": 12.5,
          "predicted": 12.422222222222222
         },
         {
          "model": "rfr",
          "observed": 10.5,
          "predicted": 12.155555555555555
         },
         {
          "model": "rfr",
          "observed": 14.5,
          "predicted": 13.644444444444444
         },
         {
          "model": "rfr",
          "observed": 8.5,
          "predicted": 9.688888888888888
         },
         {
          "model": "rfr",
          "observed": 7.5,
          "predicted": 7.977777777777778
         },
         {
          "model": "rfr",
          "observed": 13.5,
          "predicted": 12.022222222222222
         },
         {
          "model": "rfr",
          "observed": 8.5,
          "predicted": 10.5
         },
         {
          "model": "rfr",
          "observed": 12.5,
          "predicted": 12.911111111111111
         },
         {
          "model": "rfr",
          "observed": 12.5,
          "predicted": 13.155555555555555
         },
         {
          "model": "rfr",
          "observed": 10.5,
          "predicted": 7.355555555555555
         },
         {
          "model": "rfr",
          "observed": 11.5,
          "predicted": 11.6
         },
         {
          "model": "rfr",
          "observed": 15.5,
          "predicted": 12.544444444444444
         },
         {
          "model": "rfr",
          "observed": 12.5,
          "predicted": 9.511111111111111
         },
         {
          "model": "rfr",
          "observed": 11.5,
          "predicted": 11.155555555555555
         },
         {
          "model": "rfr",
          "observed": 11.5,
          "predicted": 13.488888888888889
         },
         {
          "model": "rfr",
          "observed": 11.5,
          "predicted": 10
         },
         {
          "model": "rfr",
          "observed": 18.5,
          "predicted": 14.077777777777778
         },
         {
          "model": "rfr",
          "observed": 20.5,
          "predicted": 12.8
         },
         {
          "model": "rfr",
          "observed": 13.5,
          "predicted": 10.2
         },
         {
          "model": "rfr",
          "observed": 9.5,
          "predicted": 12.577777777777778
         },
         {
          "model": "rfr",
          "observed": 21.5,
          "predicted": 16.233333333333334
         },
         {
          "model": "rfr",
          "observed": 11.5,
          "predicted": 12.344444444444445
         },
         {
          "model": "rfr",
          "observed": 7.5,
          "predicted": 8.277777777777779
         },
         {
          "model": "rfr",
          "observed": 14.5,
          "predicted": 13.022222222222222
         },
         {
          "model": "rfr",
          "observed": 9.5,
          "predicted": 10.633333333333333
         },
         {
          "model": "rfr",
          "observed": 6.5,
          "predicted": 8.311111111111112
         },
         {
          "model": "rfr",
          "observed": 11.5,
          "predicted": 13.6
         },
         {
          "model": "rfr",
          "observed": 10.5,
          "predicted": 8.577777777777778
         },
         {
          "model": "rfr",
          "observed": 10.5,
          "predicted": 11.8
         },
         {
          "model": "rfr",
          "observed": 10.5,
          "predicted": 9.9
         },
         {
          "model": "rfr",
          "observed": 8.5,
          "predicted": 7.777777777777778
         },
         {
          "model": "rfr",
          "observed": 11.5,
          "predicted": 11.744444444444444
         },
         {
          "model": "rfr",
          "observed": 8.5,
          "predicted": 7.877777777777778
         },
         {
          "model": "rfr",
          "observed": 9.5,
          "predicted": 9.733333333333333
         },
         {
          "model": "rfr",
          "observed": 9.5,
          "predicted": 10.822222222222223
         },
         {
          "model": "rfr",
          "observed": 21.5,
          "predicted": 12.688888888888888
         },
         {
          "model": "rfr",
          "observed": 9.5,
          "predicted": 11.722222222222221
         },
         {
          "model": "rfr",
          "observed": 9.5,
          "predicted": 8.71111111111111
         },
         {
          "model": "rfr",
          "observed": 18.5,
          "predicted": 16.211111111111112
         },
         {
          "model": "rfr",
          "observed": 14.5,
          "predicted": 17.033333333333335
         },
         {
          "model": "rfr",
          "observed": 12.5,
          "predicted": 12.9
         },
         {
          "model": "rfr",
          "observed": 7.5,
          "predicted": 8.733333333333333
         },
         {
          "model": "rfr",
          "observed": 12.5,
          "predicted": 11.555555555555555
         },
         {
          "model": "rfr",
          "observed": 16.5,
          "predicted": 17.61111111111111
         },
         {
          "model": "rfr",
          "observed": 13.5,
          "predicted": 12.688888888888888
         },
         {
          "model": "rfr",
          "observed": 10.5,
          "predicted": 9.544444444444444
         },
         {
          "model": "rfr",
          "observed": 12.5,
          "predicted": 11.022222222222222
         },
         {
          "model": "rfr",
          "observed": 10.5,
          "predicted": 10.177777777777777
         },
         {
          "model": "rfr",
          "observed": 8.5,
          "predicted": 9.488888888888889
         },
         {
          "model": "rfr",
          "observed": 16.5,
          "predicted": 10.255555555555556
         },
         {
          "model": "rfr",
          "observed": 11.5,
          "predicted": 11.144444444444444
         },
         {
          "model": "rfr",
          "observed": 18.5,
          "predicted": 15.577777777777778
         },
         {
          "model": "rfr",
          "observed": 9.5,
          "predicted": 8.944444444444445
         },
         {
          "model": "rfr",
          "observed": 16.5,
          "predicted": 13.911111111111111
         },
         {
          "model": "rfr",
          "observed": 9.5,
          "predicted": 11.633333333333333
         },
         {
          "model": "rfr",
          "observed": 17.5,
          "predicted": 14.844444444444445
         },
         {
          "model": "rfr",
          "observed": 12.5,
          "predicted": 16.72222222222222
         },
         {
          "model": "rfr",
          "observed": 7.5,
          "predicted": 8.977777777777778
         },
         {
          "model": "rfr",
          "observed": 13.5,
          "predicted": 14.777777777777779
         },
         {
          "model": "rfr",
          "observed": 11.5,
          "predicted": 12.777777777777779
         },
         {
          "model": "rfr",
          "observed": 12.5,
          "predicted": 12.744444444444444
         },
         {
          "model": "rfr",
          "observed": 10.5,
          "predicted": 11.844444444444445
         },
         {
          "model": "rfr",
          "observed": 12.5,
          "predicted": 15.177777777777777
         },
         {
          "model": "rfr",
          "observed": 11.5,
          "predicted": 10.522222222222222
         },
         {
          "model": "rfr",
          "observed": 9.5,
          "predicted": 10.255555555555556
         },
         {
          "model": "rfr",
          "observed": 12.5,
          "predicted": 12.355555555555556
         },
         {
          "model": "rfr",
          "observed": 5.5,
          "predicted": 7.844444444444444
         },
         {
          "model": "rfr",
          "observed": 12.5,
          "predicted": 15.88888888888889
         },
         {
          "model": "rfr",
          "observed": 11.5,
          "predicted": 12.411111111111111
         },
         {
          "model": "rfr",
          "observed": 7.5,
          "predicted": 7.955555555555556
         },
         {
          "model": "rfr",
          "observed": 12.5,
          "predicted": 15.366666666666667
         },
         {
          "model": "rfr",
          "observed": 9.5,
          "predicted": 10.7
         },
         {
          "model": "rfr",
          "observed": 11.5,
          "predicted": 11.28888888888889
         },
         {
          "model": "rfr",
          "observed": 10.5,
          "predicted": 12.233333333333333
         },
         {
          "model": "rfr",
          "observed": 12.5,
          "predicted": 12.033333333333333
         },
         {
          "model": "rfr",
          "observed": 10.5,
          "predicted": 12.766666666666667
         },
         {
          "model": "rfr",
          "observed": 10.5,
          "predicted": 10.766666666666667
         },
         {
          "model": "rfr",
          "observed": 13.5,
          "predicted": 11.133333333333333
         },
         {
          "model": "rfr",
          "observed": 11.5,
          "predicted": 12.355555555555556
         },
         {
          "model": "rfr",
          "observed": 18.5,
          "predicted": 15.088888888888889
         },
         {
          "model": "rfr",
          "observed": 8.5,
          "predicted": 8.511111111111111
         },
         {
          "model": "rfr",
          "observed": 11.5,
          "predicted": 12.522222222222222
         },
         {
          "model": "rfr",
          "observed": 9.5,
          "predicted": 8.744444444444444
         },
         {
          "model": "rfr",
          "observed": 10.5,
          "predicted": 12.566666666666666
         },
         {
          "model": "rfr",
          "observed": 19.5,
          "predicted": 17.133333333333333
         },
         {
          "model": "rfr",
          "observed": 18.5,
          "predicted": 12.766666666666667
         },
         {
          "model": "rfr",
          "observed": 10.5,
          "predicted": 11.266666666666667
         },
         {
          "model": "rfr",
          "observed": 9.5,
          "predicted": 8.311111111111112
         },
         {
          "model": "rfr",
          "observed": 9.5,
          "predicted": 10.144444444444444
         },
         {
          "model": "rfr",
          "observed": 8.5,
          "predicted": 11.511111111111111
         },
         {
          "model": "rfr",
          "observed": 12.5,
          "predicted": 12.233333333333333
         },
         {
          "model": "rfr",
          "observed": 13.5,
          "predicted": 13.011111111111111
         },
         {
          "model": "rfr",
          "observed": 11.5,
          "predicted": 9.977777777777778
         },
         {
          "model": "rfr",
          "observed": 23.5,
          "predicted": 18.07777777777778
         },
         {
          "model": "rfr",
          "observed": 12.5,
          "predicted": 12
         },
         {
          "model": "rfr",
          "observed": 12.5,
          "predicted": 17.622222222222224
         },
         {
          "model": "rfr",
          "observed": 12.5,
          "predicted": 11.988888888888889
         },
         {
          "model": "rfr",
          "observed": 22.5,
          "predicted": 13.377777777777778
         },
         {
          "model": "rfr",
          "observed": 8.5,
          "predicted": 11.311111111111112
         },
         {
          "model": "rfr",
          "observed": 10.5,
          "predicted": 10.155555555555555
         },
         {
          "model": "rfr",
          "observed": 11.5,
          "predicted": 12.444444444444445
         },
         {
          "model": "rfr",
          "observed": 10.5,
          "predicted": 10.277777777777779
         },
         {
          "model": "rfr",
          "observed": 10.5,
          "predicted": 11.488888888888889
         },
         {
          "model": "rfr",
          "observed": 13.5,
          "predicted": 14.911111111111111
         },
         {
          "model": "rfr",
          "observed": 10.5,
          "predicted": 10.411111111111111
         },
         {
          "model": "rfr",
          "observed": 15.5,
          "predicted": 13.988888888888889
         },
         {
          "model": "rfr",
          "observed": 10.5,
          "predicted": 15.444444444444445
         },
         {
          "model": "rfr",
          "observed": 13.5,
          "predicted": 13.21111111111111
         },
         {
          "model": "rfr",
          "observed": 19.5,
          "predicted": 12.422222222222222
         },
         {
          "model": "rfr",
          "observed": 9.5,
          "predicted": 8.444444444444445
         },
         {
          "model": "rfr",
          "observed": 7.5,
          "predicted": 8.422222222222222
         },
         {
          "model": "rfr",
          "observed": 9.5,
          "predicted": 11.522222222222222
         },
         {
          "model": "rfr",
          "observed": 9.5,
          "predicted": 10.477777777777778
         },
         {
          "model": "rfr",
          "observed": 9.5,
          "predicted": 13.011111111111111
         },
         {
          "model": "rfr",
          "observed": 11.5,
          "predicted": 13.633333333333333
         },
         {
          "model": "rfr",
          "observed": 11.5,
          "predicted": 7.944444444444445
         },
         {
          "model": "rfr",
          "observed": 13.5,
          "predicted": 12.522222222222222
         },
         {
          "model": "rfr",
          "observed": 14.5,
          "predicted": 16.455555555555556
         },
         {
          "model": "rfr",
          "observed": 11.5,
          "predicted": 13.266666666666667
         },
         {
          "model": "rfr",
          "observed": 12.5,
          "predicted": 12.1
         },
         {
          "model": "rfr",
          "observed": 14.5,
          "predicted": 14.655555555555555
         },
         {
          "model": "rfr",
          "observed": 12.5,
          "predicted": 16.2
         },
         {
          "model": "rfr",
          "observed": 8.5,
          "predicted": 9.922222222222222
         },
         {
          "model": "rfr",
          "observed": 8.5,
          "predicted": 10.066666666666666
         },
         {
          "model": "rfr",
          "observed": 6.5,
          "predicted": 9.233333333333333
         },
         {
          "model": "rfr",
          "observed": 7.5,
          "predicted": 8.7
         },
         {
          "model": "rfr",
          "observed": 11.5,
          "predicted": 11.511111111111111
         },
         {
          "model": "rfr",
          "observed": 9.5,
          "predicted": 10.466666666666667
         },
         {
          "model": "rfr",
          "observed": 8.5,
          "predicted": 10.733333333333333
         },
         {
          "model": "rfr",
          "observed": 10.5,
          "predicted": 13.1
         },
         {
          "model": "rfr",
          "observed": 9.5,
          "predicted": 11.533333333333333
         },
         {
          "model": "rfr",
          "observed": 11.5,
          "predicted": 12.666666666666666
         },
         {
          "model": "rfr",
          "observed": 7.5,
          "predicted": 6.833333333333333
         },
         {
          "model": "rfr",
          "observed": 8.5,
          "predicted": 7.677777777777778
         },
         {
          "model": "rfr",
          "observed": 8.5,
          "predicted": 9.455555555555556
         },
         {
          "model": "rfr",
          "observed": 16.5,
          "predicted": 11.966666666666667
         },
         {
          "model": "rfr",
          "observed": 10.5,
          "predicted": 11.766666666666667
         },
         {
          "model": "rfr",
          "observed": 12.5,
          "predicted": 12.088888888888889
         },
         {
          "model": "rfr",
          "observed": 9.5,
          "predicted": 9.422222222222222
         },
         {
          "model": "rfr",
          "observed": 11.5,
          "predicted": 9.466666666666667
         },
         {
          "model": "rfr",
          "observed": 11.5,
          "predicted": 10.144444444444444
         },
         {
          "model": "rfr",
          "observed": 8.5,
          "predicted": 10.1
         },
         {
          "model": "rfr",
          "observed": 13.5,
          "predicted": 10.433333333333334
         },
         {
          "model": "rfr",
          "observed": 9.5,
          "predicted": 10.144444444444444
         },
         {
          "model": "rfr",
          "observed": 10.5,
          "predicted": 14.833333333333334
         },
         {
          "model": "rfr",
          "observed": 16.5,
          "predicted": 13.488888888888889
         },
         {
          "model": "rfr",
          "observed": 9.5,
          "predicted": 9.066666666666666
         },
         {
          "model": "rfr",
          "observed": 11.5,
          "predicted": 12.255555555555556
         },
         {
          "model": "rfr",
          "observed": 7.5,
          "predicted": 8.322222222222223
         },
         {
          "model": "rfr",
          "observed": 10.5,
          "predicted": 9.744444444444444
         },
         {
          "model": "rfr",
          "observed": 12.5,
          "predicted": 12.066666666666666
         },
         {
          "model": "rfr",
          "observed": 8.5,
          "predicted": 8.38888888888889
         },
         {
          "model": "rfr",
          "observed": 9.5,
          "predicted": 8.977777777777778
         },
         {
          "model": "rfr",
          "observed": 9.5,
          "predicted": 10.022222222222222
         },
         {
          "model": "rfr",
          "observed": 9.5,
          "predicted": 10.577777777777778
         },
         {
          "model": "rfr",
          "observed": 11.5,
          "predicted": 13.544444444444444
         },
         {
          "model": "rfr",
          "observed": 9.5,
          "predicted": 11.88888888888889
         },
         {
          "model": "rfr",
          "observed": 24.5,
          "predicted": 17.544444444444444
         },
         {
          "model": "rfr",
          "observed": 7.5,
          "predicted": 10.877777777777778
         },
         {
          "model": "rfr",
          "observed": 13.5,
          "predicted": 18.855555555555554
         },
         {
          "model": "rfr",
          "observed": 14.5,
          "predicted": 11.88888888888889
         },
         {
          "model": "rfr",
          "observed": 7.5,
          "predicted": 7.7555555555555555
         },
         {
          "model": "rfr",
          "observed": 12.5,
          "predicted": 12.088888888888889
         },
         {
          "model": "rfr",
          "observed": 10.5,
          "predicted": 10.433333333333334
         },
         {
          "model": "rfr",
          "observed": 20.5,
          "predicted": 15.844444444444445
         },
         {
          "model": "rfr",
          "observed": 7.5,
          "predicted": 9.5
         },
         {
          "model": "rfr",
          "observed": 9.5,
          "predicted": 10.855555555555556
         },
         {
          "model": "rfr",
          "observed": 13.5,
          "predicted": 10.411111111111111
         },
         {
          "model": "rfr",
          "observed": 8.5,
          "predicted": 9.933333333333334
         },
         {
          "model": "rfr",
          "observed": 9.5,
          "predicted": 9.033333333333333
         },
         {
          "model": "rfr",
          "observed": 10.5,
          "predicted": 11.411111111111111
         },
         {
          "model": "rfr",
          "observed": 10.5,
          "predicted": 8.955555555555556
         },
         {
          "model": "rfr",
          "observed": 6.5,
          "predicted": 6.622222222222222
         },
         {
          "model": "rfr",
          "observed": 11.5,
          "predicted": 13.577777777777778
         },
         {
          "model": "rfr",
          "observed": 12.5,
          "predicted": 12.133333333333333
         },
         {
          "model": "rfr",
          "observed": 10.5,
          "predicted": 10.28888888888889
         },
         {
          "model": "rfr",
          "observed": 11.5,
          "predicted": 11.433333333333334
         },
         {
          "model": "rfr",
          "observed": 7.5,
          "predicted": 10.477777777777778
         },
         {
          "model": "rfr",
          "observed": 7.5,
          "predicted": 9.21111111111111
         },
         {
          "model": "rfr",
          "observed": 7.5,
          "predicted": 8.855555555555556
         },
         {
          "model": "rfr",
          "observed": 12.5,
          "predicted": 14.21111111111111
         },
         {
          "model": "rfr",
          "observed": 9.5,
          "predicted": 10.222222222222221
         },
         {
          "model": "rfr",
          "observed": 11.5,
          "predicted": 13.055555555555555
         },
         {
          "model": "rfr",
          "observed": 10.5,
          "predicted": 11.1
         },
         {
          "model": "rfr",
          "observed": 9.5,
          "predicted": 10.444444444444445
         },
         {
          "model": "rfr",
          "observed": 8.5,
          "predicted": 9.555555555555555
         },
         {
          "model": "rfr",
          "observed": 10.5,
          "predicted": 9.3
         },
         {
          "model": "rfr",
          "observed": 12.5,
          "predicted": 14.766666666666667
         },
         {
          "model": "rfr",
          "observed": 13.5,
          "predicted": 10.555555555555555
         },
         {
          "model": "rfr",
          "observed": 16.5,
          "predicted": 12.122222222222222
         },
         {
          "model": "rfr",
          "observed": 14.5,
          "predicted": 14.255555555555556
         },
         {
          "model": "rfr",
          "observed": 10.5,
          "predicted": 10.911111111111111
         },
         {
          "model": "rfr",
          "observed": 9.5,
          "predicted": 13.144444444444444
         },
         {
          "model": "rfr",
          "observed": 9.5,
          "predicted": 11.555555555555555
         },
         {
          "model": "rfr",
          "observed": 8.5,
          "predicted": 10.155555555555555
         },
         {
          "model": "rfr",
          "observed": 9.5,
          "predicted": 9.922222222222222
         },
         {
          "model": "rfr",
          "observed": 8.5,
          "predicted": 7.9222222222222225
         },
         {
          "model": "rfr",
          "observed": 12.5,
          "predicted": 11.366666666666667
         },
         {
          "model": "rfr",
          "observed": 12.5,
          "predicted": 11.433333333333334
         },
         {
          "model": "rfr",
          "observed": 11.5,
          "predicted": 12.755555555555556
         },
         {
          "model": "rfr",
          "observed": 10.5,
          "predicted": 13
         },
         {
          "model": "rfr",
          "observed": 13.5,
          "predicted": 12.88888888888889
         },
         {
          "model": "rfr",
          "observed": 15.5,
          "predicted": 14.5
         },
         {
          "model": "rfr",
          "observed": 10.5,
          "predicted": 14.044444444444444
         },
         {
          "model": "rfr",
          "observed": 10.5,
          "predicted": 12.333333333333334
         },
         {
          "model": "rfr",
          "observed": 6.5,
          "predicted": 6.933333333333334
         },
         {
          "model": "rfr",
          "observed": 10.5,
          "predicted": 12.7
         },
         {
          "model": "rfr",
          "observed": 5.5,
          "predicted": 7.477777777777778
         },
         {
          "model": "rfr",
          "observed": 8.5,
          "predicted": 8.188888888888888
         },
         {
          "model": "rfr",
          "observed": 12.5,
          "predicted": 12.644444444444444
         },
         {
          "model": "rfr",
          "observed": 10.5,
          "predicted": 10.311111111111112
         },
         {
          "model": "rfr",
          "observed": 8.5,
          "predicted": 7.7555555555555555
         },
         {
          "model": "rfr",
          "observed": 7.5,
          "predicted": 8.78888888888889
         },
         {
          "model": "rfr",
          "observed": 13.5,
          "predicted": 12.044444444444444
         },
         {
          "model": "rfr",
          "observed": 10.5,
          "predicted": 11.444444444444445
         },
         {
          "model": "rfr",
          "observed": 9.5,
          "predicted": 7.888888888888889
         },
         {
          "model": "rfr",
          "observed": 10.5,
          "predicted": 12.544444444444444
         },
         {
          "model": "rfr",
          "observed": 14.5,
          "predicted": 14.5
         },
         {
          "model": "rfr",
          "observed": 9.5,
          "predicted": 9.544444444444444
         },
         {
          "model": "rfr",
          "observed": 7.5,
          "predicted": 10.511111111111111
         },
         {
          "model": "rfr",
          "observed": 4.5,
          "predicted": 5.733333333333333
         },
         {
          "model": "rfr",
          "observed": 8.5,
          "predicted": 10.622222222222222
         },
         {
          "model": "rfr",
          "observed": 7.5,
          "predicted": 8.366666666666667
         },
         {
          "model": "rfr",
          "observed": 19.5,
          "predicted": 12.644444444444444
         },
         {
          "model": "rfr",
          "observed": 9.5,
          "predicted": 7.9222222222222225
         },
         {
          "model": "rfr",
          "observed": 7.5,
          "predicted": 7.044444444444444
         },
         {
          "model": "rfr",
          "observed": 12.5,
          "predicted": 12.688888888888888
         },
         {
          "model": "rfr",
          "observed": 11.5,
          "predicted": 16.344444444444445
         },
         {
          "model": "rfr",
          "observed": 12.5,
          "predicted": 12.777777777777779
         },
         {
          "model": "rfr",
          "observed": 10.5,
          "predicted": 15.255555555555556
         },
         {
          "model": "rfr",
          "observed": 10.5,
          "predicted": 9.944444444444445
         },
         {
          "model": "rfr",
          "observed": 15.5,
          "predicted": 14.122222222222222
         },
         {
          "model": "rfr",
          "observed": 9.5,
          "predicted": 10.144444444444444
         },
         {
          "model": "rfr",
          "observed": 12.5,
          "predicted": 13.944444444444445
         },
         {
          "model": "rfr",
          "observed": 12.5,
          "predicted": 12.955555555555556
         },
         {
          "model": "rfr",
          "observed": 14.5,
          "predicted": 12.133333333333333
         },
         {
          "model": "rfr",
          "observed": 11.5,
          "predicted": 12.911111111111111
         },
         {
          "model": "rfr",
          "observed": 10.5,
          "predicted": 10.677777777777777
         },
         {
          "model": "rfr",
          "observed": 11.5,
          "predicted": 16.966666666666665
         },
         {
          "model": "rfr",
          "observed": 8.5,
          "predicted": 10.455555555555556
         },
         {
          "model": "rfr",
          "observed": 12.5,
          "predicted": 11.733333333333333
         },
         {
          "model": "rfr",
          "observed": 21.5,
          "predicted": 15.044444444444444
         },
         {
          "model": "rfr",
          "observed": 7.5,
          "predicted": 8.411111111111111
         },
         {
          "model": "rfr",
          "observed": 9.5,
          "predicted": 11
         },
         {
          "model": "rfr",
          "observed": 6.5,
          "predicted": 7.233333333333333
         },
         {
          "model": "rfr",
          "observed": 11.5,
          "predicted": 8.9
         },
         {
          "model": "rfr",
          "observed": 14.5,
          "predicted": 13.38888888888889
         },
         {
          "model": "rfr",
          "observed": 11.5,
          "predicted": 11.922222222222222
         },
         {
          "model": "rfr",
          "observed": 10.5,
          "predicted": 13.055555555555555
         },
         {
          "model": "rfr",
          "observed": 11.5,
          "predicted": 11.411111111111111
         },
         {
          "model": "rfr",
          "observed": 11.5,
          "predicted": 16.166666666666668
         },
         {
          "model": "rfr",
          "observed": 13.5,
          "predicted": 11.533333333333333
         },
         {
          "model": "rfr",
          "observed": 9.5,
          "predicted": 9.722222222222221
         },
         {
          "model": "rfr",
          "observed": 11.5,
          "predicted": 12.333333333333334
         },
         {
          "model": "rfr",
          "observed": 12.5,
          "predicted": 8.9
         },
         {
          "model": "rfr",
          "observed": 7.5,
          "predicted": 8.755555555555556
         },
         {
          "model": "rfr",
          "observed": 13.5,
          "predicted": 11.777777777777779
         },
         {
          "model": "rfr",
          "observed": 9.5,
          "predicted": 10.333333333333334
         },
         {
          "model": "rfr",
          "observed": 8.5,
          "predicted": 9.588888888888889
         },
         {
          "model": "rfr",
          "observed": 14.5,
          "predicted": 13.911111111111111
         },
         {
          "model": "rfr",
          "observed": 12.5,
          "predicted": 12.722222222222221
         },
         {
          "model": "rfr",
          "observed": 13.5,
          "predicted": 11.266666666666667
         },
         {
          "model": "rfr",
          "observed": 12.5,
          "predicted": 11.88888888888889
         },
         {
          "model": "rfr",
          "observed": 10.5,
          "predicted": 12.266666666666667
         },
         {
          "model": "rfr",
          "observed": 12.5,
          "predicted": 15.177777777777777
         },
         {
          "model": "rfr",
          "observed": 12.5,
          "predicted": 10.755555555555556
         },
         {
          "model": "rfr",
          "observed": 7.5,
          "predicted": 7.455555555555556
         },
         {
          "model": "rfr",
          "observed": 9.5,
          "predicted": 9.766666666666667
         },
         {
          "model": "rfr",
          "observed": 7.5,
          "predicted": 7.777777777777778
         },
         {
          "model": "rfr",
          "observed": 8.5,
          "predicted": 6.944444444444445
         },
         {
          "model": "rfr",
          "observed": 9.5,
          "predicted": 10.733333333333333
         },
         {
          "model": "rfr",
          "observed": 9.5,
          "predicted": 11.744444444444444
         },
         {
          "model": "rfr",
          "observed": 12.5,
          "predicted": 11.488888888888889
         },
         {
          "model": "rfr",
          "observed": 5.5,
          "predicted": 5.488888888888889
         },
         {
          "model": "rfr",
          "observed": 11.5,
          "predicted": 13.333333333333334
         },
         {
          "model": "rfr",
          "observed": 7.5,
          "predicted": 8.8
         },
         {
          "model": "rfr",
          "observed": 13.5,
          "predicted": 11.1
         },
         {
          "model": "rfr",
          "observed": 11.5,
          "predicted": 12.233333333333333
         },
         {
          "model": "rfr",
          "observed": 13.5,
          "predicted": 14.088888888888889
         },
         {
          "model": "rfr",
          "observed": 10.5,
          "predicted": 10.655555555555555
         },
         {
          "model": "rfr",
          "observed": 18.5,
          "predicted": 13.4
         },
         {
          "model": "rfr",
          "observed": 12.5,
          "predicted": 12.077777777777778
         },
         {
          "model": "rfr",
          "observed": 9.5,
          "predicted": 11.344444444444445
         },
         {
          "model": "rfr",
          "observed": 10.5,
          "predicted": 11.477777777777778
         },
         {
          "model": "rfr",
          "observed": 8.5,
          "predicted": 7.777777777777778
         },
         {
          "model": "rfr",
          "observed": 11.5,
          "predicted": 10.366666666666667
         },
         {
          "model": "rfr",
          "observed": 11.5,
          "predicted": 13.21111111111111
         },
         {
          "model": "rfr",
          "observed": 13.5,
          "predicted": 14.166666666666666
         },
         {
          "model": "rfr",
          "observed": 12.5,
          "predicted": 14.21111111111111
         },
         {
          "model": "rfr",
          "observed": 11.5,
          "predicted": 12.166666666666666
         },
         {
          "model": "rfr",
          "observed": 14.5,
          "predicted": 16.11111111111111
         },
         {
          "model": "rfr",
          "observed": 10.5,
          "predicted": 14.333333333333334
         },
         {
          "model": "rfr",
          "observed": 9.5,
          "predicted": 11.655555555555555
         },
         {
          "model": "rfr",
          "observed": 16.5,
          "predicted": 16.5
         },
         {
          "model": "rfr",
          "observed": 9.5,
          "predicted": 8.9
         },
         {
          "model": "rfr",
          "observed": 6.5,
          "predicted": 8.422222222222222
         },
         {
          "model": "rfr",
          "observed": 10.5,
          "predicted": 11.38888888888889
         },
         {
          "model": "rfr",
          "observed": 11.5,
          "predicted": 13.333333333333334
         },
         {
          "model": "rfr",
          "observed": 12.5,
          "predicted": 13.555555555555555
         },
         {
          "model": "rfr",
          "observed": 8.5,
          "predicted": 7.011111111111111
         },
         {
          "model": "rfr",
          "observed": 27.5,
          "predicted": 16.92222222222222
         },
         {
          "model": "rfr",
          "observed": 10.5,
          "predicted": 12.344444444444445
         },
         {
          "model": "rfr",
          "observed": 10.5,
          "predicted": 11.766666666666667
         },
         {
          "model": "rfr",
          "observed": 9.5,
          "predicted": 10.21111111111111
         },
         {
          "model": "rfr",
          "observed": 22.5,
          "predicted": 17.211111111111112
         },
         {
          "model": "rfr",
          "observed": 9.5,
          "predicted": 10.022222222222222
         },
         {
          "model": "rfr",
          "observed": 7.5,
          "predicted": 5.7555555555555555
         },
         {
          "model": "rfr",
          "observed": 13.5,
          "predicted": 15.177777777777777
         },
         {
          "model": "rfr",
          "observed": 12.5,
          "predicted": 10.588888888888889
         },
         {
          "model": "rfr",
          "observed": 12.5,
          "predicted": 11.88888888888889
         },
         {
          "model": "rfr",
          "observed": 18.5,
          "predicted": 14.11111111111111
         },
         {
          "model": "rfr",
          "observed": 12.5,
          "predicted": 12.988888888888889
         },
         {
          "model": "rfr",
          "observed": 12.5,
          "predicted": 13.222222222222221
         },
         {
          "model": "rfr",
          "observed": 6.5,
          "predicted": 5.588888888888889
         },
         {
          "model": "rfr",
          "observed": 11.5,
          "predicted": 13.044444444444444
         },
         {
          "model": "rfr",
          "observed": 6.5,
          "predicted": 7.266666666666667
         },
         {
          "model": "rfr",
          "observed": 9.5,
          "predicted": 8.511111111111111
         },
         {
          "model": "rfr",
          "observed": 13.5,
          "predicted": 12.355555555555556
         },
         {
          "model": "rfr",
          "observed": 13.5,
          "predicted": 12.077777777777778
         },
         {
          "model": "rfr",
          "observed": 10.5,
          "predicted": 14.577777777777778
         },
         {
          "model": "rfr",
          "observed": 7.5,
          "predicted": 7.5
         },
         {
          "model": "rfr",
          "observed": 8.5,
          "predicted": 10.011111111111111
         },
         {
          "model": "rfr",
          "observed": 15.5,
          "predicted": 11.044444444444444
         },
         {
          "model": "rfr",
          "observed": 11.5,
          "predicted": 15.3
         },
         {
          "model": "rfr",
          "observed": 9.5,
          "predicted": 10.588888888888889
         },
         {
          "model": "rfr",
          "observed": 22.5,
          "predicted": 16.333333333333332
         },
         {
          "model": "rfr",
          "observed": 11.5,
          "predicted": 15.055555555555555
         },
         {
          "model": "rfr",
          "observed": 9.5,
          "predicted": 9.855555555555556
         },
         {
          "model": "rfr",
          "observed": 7.5,
          "predicted": 8.944444444444445
         },
         {
          "model": "rfr",
          "observed": 12.5,
          "predicted": 13.055555555555555
         },
         {
          "model": "rfr",
          "observed": 10.5,
          "predicted": 11.677777777777777
         },
         {
          "model": "rfr",
          "observed": 15.5,
          "predicted": 13.988888888888889
         },
         {
          "model": "rfr",
          "observed": 11.5,
          "predicted": 11.466666666666667
         },
         {
          "model": "rfr",
          "observed": 10.5,
          "predicted": 12.311111111111112
         },
         {
          "model": "rfr",
          "observed": 9.5,
          "predicted": 12.677777777777777
         },
         {
          "model": "rfr",
          "observed": 11.5,
          "predicted": 12.233333333333333
         },
         {
          "model": "rfr",
          "observed": 10.5,
          "predicted": 9.5
         },
         {
          "model": "rfr",
          "observed": 12.5,
          "predicted": 12.422222222222222
         },
         {
          "model": "rfr",
          "observed": 12.5,
          "predicted": 13.622222222222222
         },
         {
          "model": "rfr",
          "observed": 9.5,
          "predicted": 9.855555555555556
         },
         {
          "model": "rfr",
          "observed": 10.5,
          "predicted": 9.933333333333334
         },
         {
          "model": "rfr",
          "observed": 6.5,
          "predicted": 5.455555555555556
         },
         {
          "model": "rfr",
          "observed": 14.5,
          "predicted": 10.455555555555556
         },
         {
          "model": "rfr",
          "observed": 13.5,
          "predicted": 10.866666666666667
         },
         {
          "model": "rfr",
          "observed": 10.5,
          "predicted": 10.71111111111111
         },
         {
          "model": "rfr",
          "observed": 6.5,
          "predicted": 5.544444444444444
         },
         {
          "model": "rfr",
          "observed": 10.5,
          "predicted": 11.811111111111112
         },
         {
          "model": "rfr",
          "observed": 8.5,
          "predicted": 10.533333333333333
         },
         {
          "model": "rfr",
          "observed": 14.5,
          "predicted": 11.622222222222222
         },
         {
          "model": "rfr",
          "observed": 11.5,
          "predicted": 13.044444444444444
         },
         {
          "model": "rfr",
          "observed": 9.5,
          "predicted": 10.588888888888889
         },
         {
          "model": "rfr",
          "observed": 9.5,
          "predicted": 10.411111111111111
         },
         {
          "model": "rfr",
          "observed": 9.5,
          "predicted": 12.522222222222222
         },
         {
          "model": "rfr",
          "observed": 11.5,
          "predicted": 12.522222222222222
         },
         {
          "model": "rfr",
          "observed": 14.5,
          "predicted": 13.11111111111111
         },
         {
          "model": "rfr",
          "observed": 8.5,
          "predicted": 9.333333333333334
         },
         {
          "model": "rfr",
          "observed": 23.5,
          "predicted": 14.766666666666667
         },
         {
          "model": "rfr",
          "observed": 9.5,
          "predicted": 10.455555555555556
         },
         {
          "model": "rfr",
          "observed": 8.5,
          "predicted": 10.477777777777778
         },
         {
          "model": "rfr",
          "observed": 9.5,
          "predicted": 10.21111111111111
         },
         {
          "model": "rfr",
          "observed": 9.5,
          "predicted": 8.6
         },
         {
          "model": "rfr",
          "observed": 11.5,
          "predicted": 9.61111111111111
         },
         {
          "model": "rfr",
          "observed": 13.5,
          "predicted": 12.955555555555556
         },
         {
          "model": "rfr",
          "observed": 11.5,
          "predicted": 11.9
         },
         {
          "model": "rfr",
          "observed": 12.5,
          "predicted": 13.766666666666667
         },
         {
          "model": "rfr",
          "observed": 7.5,
          "predicted": 8.533333333333333
         },
         {
          "model": "rfr",
          "observed": 10.5,
          "predicted": 10.877777777777778
         },
         {
          "model": "rfr",
          "observed": 7.5,
          "predicted": 7.9
         },
         {
          "model": "rfr",
          "observed": 12.5,
          "predicted": 12.733333333333333
         },
         {
          "model": "rfr",
          "observed": 12.5,
          "predicted": 13.622222222222222
         },
         {
          "model": "rfr",
          "observed": 11.5,
          "predicted": 13.166666666666666
         },
         {
          "model": "rfr",
          "observed": 11.5,
          "predicted": 12.255555555555556
         },
         {
          "model": "rfr",
          "observed": 10.5,
          "predicted": 11.944444444444445
         },
         {
          "model": "rfr",
          "observed": 12.5,
          "predicted": 12.244444444444444
         },
         {
          "model": "rfr",
          "observed": 10.5,
          "predicted": 11.3
         },
         {
          "model": "rfr",
          "observed": 13.5,
          "predicted": 14.344444444444445
         },
         {
          "model": "rfr",
          "observed": 11.5,
          "predicted": 11.588888888888889
         },
         {
          "model": "rfr",
          "observed": 10.5,
          "predicted": 11.577777777777778
         },
         {
          "model": "rfr",
          "observed": 14.5,
          "predicted": 10.822222222222223
         },
         {
          "model": "rfr",
          "observed": 8.5,
          "predicted": 9.833333333333334
         },
         {
          "model": "rfr",
          "observed": 12.5,
          "predicted": 11.877777777777778
         },
         {
          "model": "rfr",
          "observed": 5.5,
          "predicted": 5.466666666666667
         },
         {
          "model": "rfr",
          "observed": 9.5,
          "predicted": 11.322222222222223
         },
         {
          "model": "rfr",
          "observed": 11.5,
          "predicted": 15.022222222222222
         },
         {
          "model": "rfr",
          "observed": 11.5,
          "predicted": 11.833333333333334
         },
         {
          "model": "rfr",
          "observed": 10.5,
          "predicted": 11.566666666666666
         },
         {
          "model": "rfr",
          "observed": 15.5,
          "predicted": 13.255555555555556
         },
         {
          "model": "rfr",
          "observed": 8.5,
          "predicted": 8.622222222222222
         },
         {
          "model": "rfr",
          "observed": 10.5,
          "predicted": 10.588888888888889
         },
         {
          "model": "rfr",
          "observed": 10.5,
          "predicted": 10.488888888888889
         },
         {
          "model": "rfr",
          "observed": 9.5,
          "predicted": 11.155555555555555
         },
         {
          "model": "rfr",
          "observed": 12.5,
          "predicted": 13.733333333333333
         },
         {
          "model": "rfr",
          "observed": 17.5,
          "predicted": 15.244444444444444
         },
         {
          "model": "rfr",
          "observed": 12.5,
          "predicted": 11.911111111111111
         },
         {
          "model": "rfr",
          "observed": 13.5,
          "predicted": 11.733333333333333
         },
         {
          "model": "rfr",
          "observed": 10.5,
          "predicted": 9.6
         },
         {
          "model": "rfr",
          "observed": 11.5,
          "predicted": 11.377777777777778
         },
         {
          "model": "rfr",
          "observed": 16.5,
          "predicted": 15.4
         },
         {
          "model": "rfr",
          "observed": 13.5,
          "predicted": 10.911111111111111
         },
         {
          "model": "rfr",
          "observed": 11.5,
          "predicted": 12.144444444444444
         },
         {
          "model": "rfr",
          "observed": 10.5,
          "predicted": 10.255555555555556
         },
         {
          "model": "rfr",
          "observed": 5.5,
          "predicted": 6.388888888888889
         },
         {
          "model": "rfr",
          "observed": 17.5,
          "predicted": 19.455555555555556
         },
         {
          "model": "rfr",
          "observed": 18.5,
          "predicted": 13.61111111111111
         },
         {
          "model": "rfr",
          "observed": 10.5,
          "predicted": 10.71111111111111
         },
         {
          "model": "rfr",
          "observed": 11.5,
          "predicted": 13.7
         },
         {
          "model": "rfr",
          "observed": 9.5,
          "predicted": 10.622222222222222
         },
         {
          "model": "rfr",
          "observed": 10.5,
          "predicted": 10.3
         },
         {
          "model": "rfr",
          "observed": 6.5,
          "predicted": 7.7
         },
         {
          "model": "rfr",
          "observed": 12.5,
          "predicted": 12.28888888888889
         },
         {
          "model": "rfr",
          "observed": 16.5,
          "predicted": 11.322222222222223
         },
         {
          "model": "rfr",
          "observed": 10.5,
          "predicted": 12.188888888888888
         },
         {
          "model": "rfr",
          "observed": 10.5,
          "predicted": 12.055555555555555
         },
         {
          "model": "rfr",
          "observed": 11.5,
          "predicted": 9.88888888888889
         },
         {
          "model": "rfr",
          "observed": 7.5,
          "predicted": 5.766666666666667
         },
         {
          "model": "rfr",
          "observed": 14.5,
          "predicted": 14.7
         },
         {
          "model": "rfr",
          "observed": 11.5,
          "predicted": 12.555555555555555
         },
         {
          "model": "rfr",
          "observed": 13.5,
          "predicted": 10.733333333333333
         },
         {
          "model": "rfr",
          "observed": 12.5,
          "predicted": 15.3
         },
         {
          "model": "rfr",
          "observed": 11.5,
          "predicted": 9.377777777777778
         },
         {
          "model": "rfr",
          "observed": 8.5,
          "predicted": 11.822222222222223
         },
         {
          "model": "rfr",
          "observed": 13.5,
          "predicted": 15.655555555555555
         },
         {
          "model": "rfr",
          "observed": 14.5,
          "predicted": 11.922222222222222
         },
         {
          "model": "rfr",
          "observed": 15.5,
          "predicted": 15.622222222222222
         },
         {
          "model": "rfr",
          "observed": 6.5,
          "predicted": 8.833333333333334
         },
         {
          "model": "rfr",
          "observed": 10.5,
          "predicted": 10.766666666666667
         },
         {
          "model": "rfr",
          "observed": 12.5,
          "predicted": 12.5
         },
         {
          "model": "rfr",
          "observed": 10.5,
          "predicted": 11.122222222222222
         },
         {
          "model": "rfr",
          "observed": 10.5,
          "predicted": 11.844444444444445
         },
         {
          "model": "rfr",
          "observed": 11.5,
          "predicted": 11.877777777777778
         },
         {
          "model": "rfr",
          "observed": 8.5,
          "predicted": 10.444444444444445
         },
         {
          "model": "rfr",
          "observed": 11.5,
          "predicted": 11.8
         },
         {
          "model": "rfr",
          "observed": 10.5,
          "predicted": 12.566666666666666
         },
         {
          "model": "rfr",
          "observed": 10.5,
          "predicted": 10.033333333333333
         },
         {
          "model": "rfr",
          "observed": 7.5,
          "predicted": 9.21111111111111
         },
         {
          "model": "rfr",
          "observed": 19.5,
          "predicted": 13.177777777777777
         },
         {
          "model": "rfr",
          "observed": 14.5,
          "predicted": 13.833333333333334
         },
         {
          "model": "rfr",
          "observed": 8.5,
          "predicted": 9.811111111111112
         },
         {
          "model": "rfr",
          "observed": 8.5,
          "predicted": 11.555555555555555
         },
         {
          "model": "rfr",
          "observed": 11.5,
          "predicted": 11.622222222222222
         },
         {
          "model": "rfr",
          "observed": 7.5,
          "predicted": 8.244444444444444
         },
         {
          "model": "rfr",
          "observed": 12.5,
          "predicted": 12.366666666666667
         },
         {
          "model": "rfr",
          "observed": 8.5,
          "predicted": 9.555555555555555
         },
         {
          "model": "rfr",
          "observed": 13.5,
          "predicted": 11.766666666666667
         },
         {
          "model": "rfr",
          "observed": 11.5,
          "predicted": 10.411111111111111
         },
         {
          "model": "rfr",
          "observed": 12.5,
          "predicted": 11.566666666666666
         },
         {
          "model": "rfr",
          "observed": 11.5,
          "predicted": 11.5
         },
         {
          "model": "rfr",
          "observed": 12.5,
          "predicted": 10.911111111111111
         },
         {
          "model": "rfr",
          "observed": 10.5,
          "predicted": 11.411111111111111
         },
         {
          "model": "rfr",
          "observed": 11.5,
          "predicted": 10.722222222222221
         },
         {
          "model": "rfr",
          "observed": 6.5,
          "predicted": 6.277777777777778
         },
         {
          "model": "rfr",
          "observed": 11.5,
          "predicted": 13.022222222222222
         },
         {
          "model": "rfr",
          "observed": 10.5,
          "predicted": 10.477777777777778
         },
         {
          "model": "rfr",
          "observed": 17.5,
          "predicted": 16.322222222222223
         },
         {
          "model": "rfr",
          "observed": 6.5,
          "predicted": 7.188888888888889
         },
         {
          "model": "rfr",
          "observed": 9.5,
          "predicted": 9.222222222222221
         },
         {
          "model": "rfr",
          "observed": 8.5,
          "predicted": 8.7
         },
         {
          "model": "rfr",
          "observed": 7.5,
          "predicted": 8.28888888888889
         },
         {
          "model": "rfr",
          "observed": 14.5,
          "predicted": 12.9
         },
         {
          "model": "rfr",
          "observed": 12.5,
          "predicted": 14.833333333333334
         },
         {
          "model": "rfr",
          "observed": 11.5,
          "predicted": 10.411111111111111
         },
         {
          "model": "rfr",
          "observed": 16.5,
          "predicted": 14.011111111111111
         },
         {
          "model": "rfr",
          "observed": 10.5,
          "predicted": 12.144444444444444
         },
         {
          "model": "rfr",
          "observed": 14.5,
          "predicted": 16.144444444444446
         },
         {
          "model": "rfr",
          "observed": 12.5,
          "predicted": 11.866666666666667
         },
         {
          "model": "rfr",
          "observed": 9.5,
          "predicted": 10.78888888888889
         },
         {
          "model": "rfr",
          "observed": 9.5,
          "predicted": 10.977777777777778
         },
         {
          "model": "rfr",
          "observed": 9.5,
          "predicted": 9.511111111111111
         },
         {
          "model": "rfr",
          "observed": 10.5,
          "predicted": 11.733333333333333
         },
         {
          "model": "rfr",
          "observed": 8.5,
          "predicted": 7.944444444444445
         },
         {
          "model": "rfr",
          "observed": 13.5,
          "predicted": 13.522222222222222
         },
         {
          "model": "rfr",
          "observed": 8.5,
          "predicted": 8.911111111111111
         },
         {
          "model": "rfr",
          "observed": 10.5,
          "predicted": 10.677777777777777
         },
         {
          "model": "rfr",
          "observed": 11.5,
          "predicted": 8.9
         },
         {
          "model": "rfr",
          "observed": 10.5,
          "predicted": 13.188888888888888
         },
         {
          "model": "rfr",
          "observed": 9.5,
          "predicted": 11.411111111111111
         },
         {
          "model": "rfr",
          "observed": 9.5,
          "predicted": 10.022222222222222
         },
         {
          "model": "rfr",
          "observed": 6.5,
          "predicted": 7.111111111111111
         },
         {
          "model": "rfr",
          "observed": 11.5,
          "predicted": 12.066666666666666
         },
         {
          "model": "rfr",
          "observed": 7.5,
          "predicted": 8.922222222222222
         },
         {
          "model": "rfr",
          "observed": 14.5,
          "predicted": 13.855555555555556
         },
         {
          "model": "rfr",
          "observed": 11.5,
          "predicted": 10.144444444444444
         },
         {
          "model": "rfr",
          "observed": 10.5,
          "predicted": 9.11111111111111
         },
         {
          "model": "rfr",
          "observed": 7.5,
          "predicted": 8.844444444444445
         },
         {
          "model": "rfr",
          "observed": 11.5,
          "predicted": 12.9
         },
         {
          "model": "rfr",
          "observed": 9.5,
          "predicted": 11.744444444444444
         },
         {
          "model": "rfr",
          "observed": 11.5,
          "predicted": 15.322222222222223
         },
         {
          "model": "rfr",
          "observed": 13.5,
          "predicted": 13.022222222222222
         },
         {
          "model": "rfr",
          "observed": 15.5,
          "predicted": 14.966666666666667
         },
         {
          "model": "rfr",
          "observed": 14.5,
          "predicted": 11.411111111111111
         },
         {
          "model": "rfr",
          "observed": 12.5,
          "predicted": 12.066666666666666
         },
         {
          "model": "rfr",
          "observed": 8.5,
          "predicted": 9.022222222222222
         },
         {
          "model": "rfr",
          "observed": 10.5,
          "predicted": 13.011111111111111
         },
         {
          "model": "rfr",
          "observed": 7.5,
          "predicted": 5.622222222222222
         },
         {
          "model": "rfr",
          "observed": 11.5,
          "predicted": 12.366666666666667
         },
         {
          "model": "rfr",
          "observed": 11.5,
          "predicted": 12.955555555555556
         },
         {
          "model": "rfr",
          "observed": 15.5,
          "predicted": 16.322222222222223
         },
         {
          "model": "rfr",
          "observed": 8.5,
          "predicted": 9.155555555555555
         },
         {
          "model": "rfr",
          "observed": 7.5,
          "predicted": 7.622222222222222
         },
         {
          "model": "rfr",
          "observed": 8.5,
          "predicted": 9.977777777777778
         },
         {
          "model": "rfr",
          "observed": 11.5,
          "predicted": 12.444444444444445
         },
         {
          "model": "rfr",
          "observed": 2.5,
          "predicted": 4.566666666666666
         },
         {
          "model": "rfr",
          "observed": 9.5,
          "predicted": 9.833333333333334
         },
         {
          "model": "rfr",
          "observed": 16.5,
          "predicted": 15.033333333333333
         },
         {
          "model": "rfr",
          "observed": 10.5,
          "predicted": 12.433333333333334
         },
         {
          "model": "rfr",
          "observed": 7.5,
          "predicted": 7.7444444444444445
         },
         {
          "model": "rfr",
          "observed": 14.5,
          "predicted": 13.28888888888889
         },
         {
          "model": "rfr",
          "observed": 15.5,
          "predicted": 13.433333333333334
         },
         {
          "model": "rfr",
          "observed": 15.5,
          "predicted": 13.355555555555556
         },
         {
          "model": "rfr",
          "observed": 12.5,
          "predicted": 12.977777777777778
         },
         {
          "model": "rfr",
          "observed": 9.5,
          "predicted": 9.644444444444444
         },
         {
          "model": "rfr",
          "observed": 11.5,
          "predicted": 11.188888888888888
         },
         {
          "model": "rfr",
          "observed": 13.5,
          "predicted": 13.188888888888888
         },
         {
          "model": "rfr",
          "observed": 12.5,
          "predicted": 12.577777777777778
         },
         {
          "model": "rfr",
          "observed": 11.5,
          "predicted": 11.38888888888889
         },
         {
          "model": "rfr",
          "observed": 4.5,
          "predicted": 5.277777777777778
         },
         {
          "model": "rfr",
          "observed": 13.5,
          "predicted": 13.322222222222223
         },
         {
          "model": "rfr",
          "observed": 11.5,
          "predicted": 11.144444444444444
         },
         {
          "model": "rfr",
          "observed": 11.5,
          "predicted": 10.61111111111111
         },
         {
          "model": "rfr",
          "observed": 12.5,
          "predicted": 12.944444444444445
         },
         {
          "model": "rfr",
          "observed": 8.5,
          "predicted": 8.911111111111111
         },
         {
          "model": "rfr",
          "observed": 10.5,
          "predicted": 11.466666666666667
         },
         {
          "model": "rfr",
          "observed": 10.5,
          "predicted": 12.588888888888889
         },
         {
          "model": "rfr",
          "observed": 11.5,
          "predicted": 11.722222222222221
         },
         {
          "model": "rfr",
          "observed": 12.5,
          "predicted": 11.988888888888889
         },
         {
          "model": "rfr",
          "observed": 15.5,
          "predicted": 14.5
         },
         {
          "model": "rfr",
          "observed": 11.5,
          "predicted": 12.444444444444445
         },
         {
          "model": "rfr",
          "observed": 21.5,
          "predicted": 16.855555555555554
         },
         {
          "model": "rfr",
          "observed": 13.5,
          "predicted": 10.566666666666666
         },
         {
          "model": "rfr",
          "observed": 8.5,
          "predicted": 8.588888888888889
         },
         {
          "model": "rfr",
          "observed": 11.5,
          "predicted": 12.2
         },
         {
          "model": "rfr",
          "observed": 14.5,
          "predicted": 12.466666666666667
         },
         {
          "model": "rfr",
          "observed": 14.5,
          "predicted": 12.8
         },
         {
          "model": "rfr",
          "observed": 6.5,
          "predicted": 7.122222222222222
         },
         {
          "model": "rfr",
          "observed": 12.5,
          "predicted": 13.366666666666667
         },
         {
          "model": "rfr",
          "observed": 10.5,
          "predicted": 10.866666666666667
         },
         {
          "model": "rfr",
          "observed": 12.5,
          "predicted": 12.922222222222222
         },
         {
          "model": "rfr",
          "observed": 7.5,
          "predicted": 8.622222222222222
         },
         {
          "model": "rfr",
          "observed": 12.5,
          "predicted": 10.355555555555556
         },
         {
          "model": "rfr",
          "observed": 10.5,
          "predicted": 10.7
         },
         {
          "model": "rfr",
          "observed": 22.5,
          "predicted": 15.38888888888889
         },
         {
          "model": "rfr",
          "observed": 8.5,
          "predicted": 7.9
         },
         {
          "model": "rfr",
          "observed": 9.5,
          "predicted": 9.322222222222223
         },
         {
          "model": "rfr",
          "observed": 9.5,
          "predicted": 9.955555555555556
         },
         {
          "model": "rfr",
          "observed": 12.5,
          "predicted": 10.922222222222222
         },
         {
          "model": "rfr",
          "observed": 13.5,
          "predicted": 12.644444444444444
         },
         {
          "model": "rfr",
          "observed": 11.5,
          "predicted": 12.866666666666667
         },
         {
          "model": "rfr",
          "observed": 15.5,
          "predicted": 13.177777777777777
         },
         {
          "model": "rfr",
          "observed": 14.5,
          "predicted": 14.366666666666667
         },
         {
          "model": "rfr",
          "observed": 9.5,
          "predicted": 11.555555555555555
         },
         {
          "model": "rfr",
          "observed": 9.5,
          "predicted": 11.8
         },
         {
          "model": "rfr",
          "observed": 6.5,
          "predicted": 9.966666666666667
         },
         {
          "model": "rfr",
          "observed": 15.5,
          "predicted": 13.3
         },
         {
          "model": "rfr",
          "observed": 21.5,
          "predicted": 17.333333333333332
         },
         {
          "model": "rfr",
          "observed": 12.5,
          "predicted": 11.38888888888889
         },
         {
          "model": "rfr",
          "observed": 9.5,
          "predicted": 9.055555555555555
         },
         {
          "model": "rfr",
          "observed": 11.5,
          "predicted": 13.38888888888889
         },
         {
          "model": "rfr",
          "observed": 7.5,
          "predicted": 8.644444444444444
         },
         {
          "model": "rfr",
          "observed": 9.5,
          "predicted": 11.355555555555556
         },
         {
          "model": "rfr",
          "observed": 10.5,
          "predicted": 10.28888888888889
         },
         {
          "model": "rfr",
          "observed": 16.5,
          "predicted": 13.544444444444444
         },
         {
          "model": "rfr",
          "observed": 8.5,
          "predicted": 11.822222222222223
         },
         {
          "model": "rfr",
          "observed": 13.5,
          "predicted": 17.255555555555556
         },
         {
          "model": "rfr",
          "observed": 8.5,
          "predicted": 8.933333333333334
         },
         {
          "model": "rfr",
          "observed": 11.5,
          "predicted": 10.933333333333334
         },
         {
          "model": "rfr",
          "observed": 12.5,
          "predicted": 11.366666666666667
         },
         {
          "model": "rfr",
          "observed": 14.5,
          "predicted": 13.555555555555555
         },
         {
          "model": "rfr",
          "observed": 16.5,
          "predicted": 15.977777777777778
         },
         {
          "model": "rfr",
          "observed": 7.5,
          "predicted": 9.21111111111111
         },
         {
          "model": "rfr",
          "observed": 8.5,
          "predicted": 10.244444444444444
         },
         {
          "model": "rfr",
          "observed": 14.5,
          "predicted": 12.477777777777778
         },
         {
          "model": "rfr",
          "observed": 10.5,
          "predicted": 11.28888888888889
         },
         {
          "model": "rfr",
          "observed": 11.5,
          "predicted": 11.722222222222221
         },
         {
          "model": "rfr",
          "observed": 9.5,
          "predicted": 10.233333333333333
         },
         {
          "model": "rfr",
          "observed": 9.5,
          "predicted": 9.166666666666666
         },
         {
          "model": "rfr",
          "observed": 9.5,
          "predicted": 7.622222222222222
         },
         {
          "model": "rfr",
          "observed": 10.5,
          "predicted": 11.21111111111111
         },
         {
          "model": "rfr",
          "observed": 10.5,
          "predicted": 11.38888888888889
         },
         {
          "model": "rfr",
          "observed": 14.5,
          "predicted": 11.61111111111111
         },
         {
          "model": "rfr",
          "observed": 13.5,
          "predicted": 12.38888888888889
         },
         {
          "model": "rfr",
          "observed": 7.5,
          "predicted": 8.866666666666667
         },
         {
          "model": "rfr",
          "observed": 10.5,
          "predicted": 11.555555555555555
         },
         {
          "model": "rfr",
          "observed": 12.5,
          "predicted": 10.877777777777778
         },
         {
          "model": "rfr",
          "observed": 9.5,
          "predicted": 10.7
         },
         {
          "model": "rfr",
          "observed": 12.5,
          "predicted": 12.155555555555555
         },
         {
          "model": "rfr",
          "observed": 8.5,
          "predicted": 8.033333333333333
         },
         {
          "model": "rfr",
          "observed": 17.5,
          "predicted": 15.277777777777779
         },
         {
          "model": "rfr",
          "observed": 12.5,
          "predicted": 11.455555555555556
         },
         {
          "model": "rfr",
          "observed": 10.5,
          "predicted": 10.733333333333333
         },
         {
          "model": "rfr",
          "observed": 6.5,
          "predicted": 7.955555555555556
         },
         {
          "model": "rfr",
          "observed": 7.5,
          "predicted": 9.655555555555555
         },
         {
          "model": "rfr",
          "observed": 16.5,
          "predicted": 13.488888888888889
         },
         {
          "model": "rfr",
          "observed": 10.5,
          "predicted": 10.9
         },
         {
          "model": "rfr",
          "observed": 9.5,
          "predicted": 10.177777777777777
         },
         {
          "model": "rfr",
          "observed": 13.5,
          "predicted": 14.222222222222221
         },
         {
          "model": "rfr",
          "observed": 12.5,
          "predicted": 12.4
         },
         {
          "model": "rfr",
          "observed": 8.5,
          "predicted": 7.844444444444444
         },
         {
          "model": "rfr",
          "observed": 15.5,
          "predicted": 14.11111111111111
         },
         {
          "model": "rfr",
          "observed": 18.5,
          "predicted": 16.233333333333334
         },
         {
          "model": "rfr",
          "observed": 15.5,
          "predicted": 12.311111111111112
         },
         {
          "model": "rfr",
          "observed": 17.5,
          "predicted": 11.522222222222222
         },
         {
          "model": "rfr",
          "observed": 9.5,
          "predicted": 9.7
         },
         {
          "model": "rfr",
          "observed": 10.5,
          "predicted": 10.455555555555556
         },
         {
          "model": "rfr",
          "observed": 9.5,
          "predicted": 9.155555555555555
         },
         {
          "model": "rfr",
          "observed": 9.5,
          "predicted": 10.377777777777778
         },
         {
          "model": "rfr",
          "observed": 8.5,
          "predicted": 9.6
         },
         {
          "model": "rfr",
          "observed": 11.5,
          "predicted": 12.566666666666666
         },
         {
          "model": "rfr",
          "observed": 5.5,
          "predicted": 5.511111111111111
         },
         {
          "model": "rfr",
          "observed": 11.5,
          "predicted": 14
         },
         {
          "model": "rfr",
          "observed": 7.5,
          "predicted": 8.355555555555556
         },
         {
          "model": "rfr",
          "observed": 10.5,
          "predicted": 12.533333333333333
         },
         {
          "model": "rfr",
          "observed": 13.5,
          "predicted": 12.666666666666666
         },
         {
          "model": "rfr",
          "observed": 10.5,
          "predicted": 11.922222222222222
         },
         {
          "model": "rfr",
          "observed": 7.5,
          "predicted": 8.411111111111111
         },
         {
          "model": "rfr",
          "observed": 12.5,
          "predicted": 12.077777777777778
         },
         {
          "model": "rfr",
          "observed": 7.5,
          "predicted": 8.88888888888889
         },
         {
          "model": "rfr",
          "observed": 19.5,
          "predicted": 14.688888888888888
         },
         {
          "model": "rfr",
          "observed": 11.5,
          "predicted": 12.466666666666667
         },
         {
          "model": "rfr",
          "observed": 12.5,
          "predicted": 13.6
         },
         {
          "model": "rfr",
          "observed": 13.5,
          "predicted": 12.588888888888889
         },
         {
          "model": "rfr",
          "observed": 6.5,
          "predicted": 5.622222222222222
         },
         {
          "model": "rfr",
          "observed": 12.5,
          "predicted": 13.544444444444444
         },
         {
          "model": "rfr",
          "observed": 10.5,
          "predicted": 9.488888888888889
         },
         {
          "model": "rfr",
          "observed": 10.5,
          "predicted": 12.966666666666667
         },
         {
          "model": "rfr",
          "observed": 16.5,
          "predicted": 13.933333333333334
         },
         {
          "model": "rfr",
          "observed": 10.5,
          "predicted": 9.5
         },
         {
          "model": "rfr",
          "observed": 9.5,
          "predicted": 9.166666666666666
         },
         {
          "model": "rfr",
          "observed": 11.5,
          "predicted": 15.022222222222222
         },
         {
          "model": "rfr",
          "observed": 14.5,
          "predicted": 11.3
         },
         {
          "model": "rfr",
          "observed": 12.5,
          "predicted": 12.588888888888889
         },
         {
          "model": "rfr",
          "observed": 8.5,
          "predicted": 8.666666666666666
         },
         {
          "model": "rfr",
          "observed": 12.5,
          "predicted": 12.311111111111112
         },
         {
          "model": "rfr",
          "observed": 11.5,
          "predicted": 13.011111111111111
         },
         {
          "model": "rfr",
          "observed": 8.5,
          "predicted": 10.366666666666667
         },
         {
          "model": "rfr",
          "observed": 11.5,
          "predicted": 10.033333333333333
         },
         {
          "model": "rfr",
          "observed": 12.5,
          "predicted": 13.655555555555555
         },
         {
          "model": "rfr",
          "observed": 11.5,
          "predicted": 10.911111111111111
         },
         {
          "model": "rfr",
          "observed": 12.5,
          "predicted": 12.444444444444445
         },
         {
          "model": "rfr",
          "observed": 12.5,
          "predicted": 11.955555555555556
         },
         {
          "model": "rfr",
          "observed": 10.5,
          "predicted": 12.61111111111111
         },
         {
          "model": "rfr",
          "observed": 11.5,
          "predicted": 11.144444444444444
         },
         {
          "model": "rfr",
          "observed": 11.5,
          "predicted": 12.666666666666666
         },
         {
          "model": "rfr",
          "observed": 21.5,
          "predicted": 17.144444444444446
         },
         {
          "model": "rfr",
          "observed": 9.5,
          "predicted": 11.922222222222222
         },
         {
          "model": "rfr",
          "observed": 7.5,
          "predicted": 7.3
         },
         {
          "model": "rfr",
          "observed": 12.5,
          "predicted": 12.244444444444444
         },
         {
          "model": "rfr",
          "observed": 10.5,
          "predicted": 10.588888888888889
         },
         {
          "model": "rfr",
          "observed": 7.5,
          "predicted": 7.522222222222222
         },
         {
          "model": "rfr",
          "observed": 28.5,
          "predicted": 17.844444444444445
         },
         {
          "model": "rfr",
          "observed": 14.5,
          "predicted": 13.877777777777778
         },
         {
          "model": "rfr",
          "observed": 9.5,
          "predicted": 10.511111111111111
         },
         {
          "model": "rfr",
          "observed": 13.5,
          "predicted": 9.78888888888889
         },
         {
          "model": "rfr",
          "observed": 9.5,
          "predicted": 10.255555555555556
         },
         {
          "model": "rfr",
          "observed": 11.5,
          "predicted": 12.622222222222222
         },
         {
          "model": "rfr",
          "observed": 16.5,
          "predicted": 13.444444444444445
         },
         {
          "model": "rfr",
          "observed": 10.5,
          "predicted": 10.822222222222223
         },
         {
          "model": "rfr",
          "observed": 10.5,
          "predicted": 11.833333333333334
         },
         {
          "model": "rfr",
          "observed": 10.5,
          "predicted": 13.955555555555556
         },
         {
          "model": "rfr",
          "observed": 11.5,
          "predicted": 13.988888888888889
         },
         {
          "model": "rfr",
          "observed": 18.5,
          "predicted": 13.522222222222222
         },
         {
          "model": "rfr",
          "observed": 12.5,
          "predicted": 13.511111111111111
         },
         {
          "model": "rfr",
          "observed": 9.5,
          "predicted": 11.488888888888889
         },
         {
          "model": "rfr",
          "observed": 16.5,
          "predicted": 14.088888888888889
         },
         {
          "model": "rfr",
          "observed": 13.5,
          "predicted": 14.277777777777779
         },
         {
          "model": "rfr",
          "observed": 20.5,
          "predicted": 15.511111111111111
         },
         {
          "model": "rfr",
          "observed": 10.5,
          "predicted": 11.122222222222222
         },
         {
          "model": "rfr",
          "observed": 10.5,
          "predicted": 11.522222222222222
         },
         {
          "model": "rfr",
          "observed": 9.5,
          "predicted": 13.2
         },
         {
          "model": "rfr",
          "observed": 12.5,
          "predicted": 12.266666666666667
         },
         {
          "model": "rfr",
          "observed": 10.5,
          "predicted": 10.411111111111111
         },
         {
          "model": "rfr",
          "observed": 11.5,
          "predicted": 11.444444444444445
         },
         {
          "model": "rfr",
          "observed": 12.5,
          "predicted": 11.933333333333334
         },
         {
          "model": "rfr",
          "observed": 9.5,
          "predicted": 11.855555555555556
         },
         {
          "model": "rfr",
          "observed": 12.5,
          "predicted": 12.4
         },
         {
          "model": "rfr",
          "observed": 12.5,
          "predicted": 10.6
         },
         {
          "model": "rfr",
          "observed": 10.5,
          "predicted": 11.38888888888889
         },
         {
          "model": "rfr",
          "observed": 15.5,
          "predicted": 17.766666666666666
         },
         {
          "model": "rfr",
          "observed": 11.5,
          "predicted": 13.61111111111111
         },
         {
          "model": "rfr",
          "observed": 11.5,
          "predicted": 11.88888888888889
         },
         {
          "model": "rfr",
          "observed": 17.5,
          "predicted": 14.022222222222222
         },
         {
          "model": "rfr",
          "observed": 8.5,
          "predicted": 8.11111111111111
         },
         {
          "model": "rfr",
          "observed": 7.5,
          "predicted": 8.422222222222222
         },
         {
          "model": "rfr",
          "observed": 11.5,
          "predicted": 14.633333333333333
         },
         {
          "model": "rfr",
          "observed": 7.5,
          "predicted": 9.177777777777777
         },
         {
          "model": "rfr",
          "observed": 6.5,
          "predicted": 7.722222222222222
         },
         {
          "model": "rfr",
          "observed": 11.5,
          "predicted": 10.566666666666666
         },
         {
          "model": "rfr",
          "observed": 12.5,
          "predicted": 12.811111111111112
         },
         {
          "model": "rfr",
          "observed": 13.5,
          "predicted": 12.6
         },
         {
          "model": "rfr",
          "observed": 8.5,
          "predicted": 8.666666666666666
         },
         {
          "model": "rfr",
          "observed": 16.5,
          "predicted": 16.6
         },
         {
          "model": "rfr",
          "observed": 11.5,
          "predicted": 11.966666666666667
         },
         {
          "model": "rfr",
          "observed": 9.5,
          "predicted": 10.255555555555556
         },
         {
          "model": "rfr",
          "observed": 9.5,
          "predicted": 9
         },
         {
          "model": "rfr",
          "observed": 9.5,
          "predicted": 9.522222222222222
         },
         {
          "model": "rfr",
          "observed": 12.5,
          "predicted": 12.9
         },
         {
          "model": "rfr",
          "observed": 10.5,
          "predicted": 13.944444444444445
         },
         {
          "model": "rfr",
          "observed": 8.5,
          "predicted": 8.433333333333334
         },
         {
          "model": "rfr",
          "observed": 6.5,
          "predicted": 6.588888888888889
         },
         {
          "model": "rfr",
          "observed": 11.5,
          "predicted": 12.455555555555556
         },
         {
          "model": "rfr",
          "observed": 19.5,
          "predicted": 16.61111111111111
         },
         {
          "model": "rfr",
          "observed": 9.5,
          "predicted": 9.733333333333333
         },
         {
          "model": "rfr",
          "observed": 9.5,
          "predicted": 11.277777777777779
         },
         {
          "model": "rfr",
          "observed": 7.5,
          "predicted": 8.533333333333333
         },
         {
          "model": "rfr",
          "observed": 13.5,
          "predicted": 12.61111111111111
         },
         {
          "model": "rfr",
          "observed": 22.5,
          "predicted": 14.366666666666667
         },
         {
          "model": "rfr",
          "observed": 17.5,
          "predicted": 15.433333333333334
         },
         {
          "model": "rfr",
          "observed": 8.5,
          "predicted": 8.88888888888889
         },
         {
          "model": "rfr",
          "observed": 16.5,
          "predicted": 14.911111111111111
         },
         {
          "model": "rfr",
          "observed": 12.5,
          "predicted": 11.988888888888889
         },
         {
          "model": "rfr",
          "observed": 10.5,
          "predicted": 11.533333333333333
         },
         {
          "model": "rfr",
          "observed": 13.5,
          "predicted": 12.222222222222221
         },
         {
          "model": "rfr",
          "observed": 12.5,
          "predicted": 14.311111111111112
         },
         {
          "model": "rfr",
          "observed": 12.5,
          "predicted": 11.8
         },
         {
          "model": "rfr",
          "observed": 13.5,
          "predicted": 15.533333333333333
         },
         {
          "model": "rfr",
          "observed": 12.5,
          "predicted": 10.377777777777778
         },
         {
          "model": "rfr",
          "observed": 12.5,
          "predicted": 12.066666666666666
         },
         {
          "model": "rfr",
          "observed": 8.5,
          "predicted": 9.744444444444444
         },
         {
          "model": "rfr",
          "observed": 8.5,
          "predicted": 9.922222222222222
         },
         {
          "model": "rfr",
          "observed": 8.5,
          "predicted": 7.955555555555556
         },
         {
          "model": "rfr",
          "observed": 11.5,
          "predicted": 16.07777777777778
         },
         {
          "model": "rfr",
          "observed": 9.5,
          "predicted": 11.71111111111111
         }
        ],
        "data-3ad2bfce37f8f944601dc2fceccf28de": [
         {
          "model": "knr",
          "observed": 2.5,
          "predicted": 5.1875
         },
         {
          "model": "lin_reg",
          "observed": 2.5,
          "predicted": 5.339196825372184
         },
         {
          "model": "rfr",
          "observed": 2.5,
          "predicted": 4.566666666666666
         },
         {
          "model": "svr",
          "observed": 2.5,
          "predicted": 5.898164589117368
         },
         {
          "model": "knr",
          "observed": 4.5,
          "predicted": 5.875
         },
         {
          "model": "lin_reg",
          "observed": 4.5,
          "predicted": 6.727187194403929
         },
         {
          "model": "rfr",
          "observed": 4.5,
          "predicted": 5.5055555555555555
         },
         {
          "model": "svr",
          "observed": 4.5,
          "predicted": 5.395723544654907
         },
         {
          "model": "knr",
          "observed": 5.5,
          "predicted": 6.410714285714286
         },
         {
          "model": "lin_reg",
          "observed": 5.5,
          "predicted": 7.073825933417185
         },
         {
          "model": "rfr",
          "observed": 5.5,
          "predicted": 6.307936507936509
         },
         {
          "model": "svr",
          "observed": 5.5,
          "predicted": 6.330253564600007
         },
         {
          "model": "knr",
          "observed": 6.5,
          "predicted": 7.474431818181818
         },
         {
          "model": "lin_reg",
          "observed": 6.5,
          "predicted": 7.840878171797556
         },
         {
          "model": "rfr",
          "observed": 6.5,
          "predicted": 7.300000000000001
         },
         {
          "model": "svr",
          "observed": 6.5,
          "predicted": 7.255179818797652
         },
         {
          "model": "knr",
          "observed": 7.5,
          "predicted": 8.344298245614034
         },
         {
          "model": "lin_reg",
          "observed": 7.5,
          "predicted": 8.495819968028439
         },
         {
          "model": "rfr",
          "observed": 7.5,
          "predicted": 8.338011695906433
         },
         {
          "model": "svr",
          "observed": 7.5,
          "predicted": 8.103827034876055
         },
         {
          "model": "knr",
          "observed": 8.5,
          "predicted": 9.224471830985916
         },
         {
          "model": "lin_reg",
          "observed": 8.5,
          "predicted": 9.327789594986603
         },
         {
          "model": "rfr",
          "observed": 8.5,
          "predicted": 9.294679186228475
         },
         {
          "model": "svr",
          "observed": 8.5,
          "predicted": 9.034325539652647
         },
         {
          "model": "knr",
          "observed": 9.5,
          "predicted": 10.432912844036696
         },
         {
          "model": "lin_reg",
          "observed": 9.5,
          "predicted": 10.4535608834699
         },
         {
          "model": "rfr",
          "observed": 9.5,
          "predicted": 10.459429153924564
         },
         {
          "model": "svr",
          "observed": 9.5,
          "predicted": 10.190471723363467
         },
         {
          "model": "knr",
          "observed": 10.5,
          "predicted": 11.275590551181102
         },
         {
          "model": "lin_reg",
          "observed": 10.5,
          "predicted": 11.268505247256817
         },
         {
          "model": "rfr",
          "observed": 10.5,
          "predicted": 11.383202099737534
         },
         {
          "model": "svr",
          "observed": 10.5,
          "predicted": 11.012518404667153
         },
         {
          "model": "knr",
          "observed": 11.5,
          "predicted": 12.030303030303031
         },
         {
          "model": "lin_reg",
          "observed": 11.5,
          "predicted": 12.197335991863095
         },
         {
          "model": "rfr",
          "observed": 11.5,
          "predicted": 12.224999999999994
         },
         {
          "model": "svr",
          "observed": 11.5,
          "predicted": 11.756326084341872
         },
         {
          "model": "knr",
          "observed": 12.5,
          "predicted": 12.311393805309734
         },
         {
          "model": "lin_reg",
          "observed": 12.5,
          "predicted": 12.498026417339283
         },
         {
          "model": "rfr",
          "observed": 12.5,
          "predicted": 12.616125860373648
         },
         {
          "model": "svr",
          "observed": 12.5,
          "predicted": 12.17771605611902
         },
         {
          "model": "knr",
          "observed": 13.5,
          "predicted": 12.613729508196721
         },
         {
          "model": "lin_reg",
          "observed": 13.5,
          "predicted": 12.787198059327565
         },
         {
          "model": "rfr",
          "observed": 13.5,
          "predicted": 12.959016393442623
         },
         {
          "model": "svr",
          "observed": 13.5,
          "predicted": 12.583088767266968
         },
         {
          "model": "knr",
          "observed": 14.5,
          "predicted": 13.146875
         },
         {
          "model": "lin_reg",
          "observed": 14.5,
          "predicted": 13.15870368713326
         },
         {
          "model": "rfr",
          "observed": 14.5,
          "predicted": 13.446111111111104
         },
         {
          "model": "svr",
          "observed": 14.5,
          "predicted": 12.996838664327964
         },
         {
          "model": "knr",
          "observed": 15.5,
          "predicted": 13.595108695652174
         },
         {
          "model": "lin_reg",
          "observed": 15.5,
          "predicted": 13.684710842415486
         },
         {
          "model": "rfr",
          "observed": 15.5,
          "predicted": 14.011594202898552
         },
         {
          "model": "svr",
          "observed": 15.5,
          "predicted": 13.673199177882966
         },
         {
          "model": "knr",
          "observed": 16.5,
          "predicted": 13.213068181818182
         },
         {
          "model": "lin_reg",
          "observed": 16.5,
          "predicted": 13.514464626390735
         },
         {
          "model": "rfr",
          "observed": 16.5,
          "predicted": 13.893939393939398
         },
         {
          "model": "svr",
          "observed": 16.5,
          "predicted": 13.258082362995422
         },
         {
          "model": "knr",
          "observed": 17.5,
          "predicted": 14.847222222222221
         },
         {
          "model": "lin_reg",
          "observed": 17.5,
          "predicted": 15.234013774906108
         },
         {
          "model": "rfr",
          "observed": 17.5,
          "predicted": 15.345679012345679
         },
         {
          "model": "svr",
          "observed": 17.5,
          "predicted": 15.033827964271032
         },
         {
          "model": "knr",
          "observed": 18.5,
          "predicted": 14.135416666666666
         },
         {
          "model": "lin_reg",
          "observed": 18.5,
          "predicted": 14.781490207643165
         },
         {
          "model": "rfr",
          "observed": 18.5,
          "predicted": 14.434259259259262
         },
         {
          "model": "svr",
          "observed": 18.5,
          "predicted": 14.317583008675008
         },
         {
          "model": "knr",
          "observed": 19.5,
          "predicted": 13.078125
         },
         {
          "model": "lin_reg",
          "observed": 19.5,
          "predicted": 14.241048873479475
         },
         {
          "model": "rfr",
          "observed": 19.5,
          "predicted": 14.533333333333333
         },
         {
          "model": "svr",
          "observed": 19.5,
          "predicted": 13.985604414426263
         },
         {
          "model": "knr",
          "observed": 20.5,
          "predicted": 13.8125
         },
         {
          "model": "lin_reg",
          "observed": 20.5,
          "predicted": 14.475594601080921
         },
         {
          "model": "rfr",
          "observed": 20.5,
          "predicted": 14.71851851851852
         },
         {
          "model": "svr",
          "observed": 20.5,
          "predicted": 13.762085976606762
         },
         {
          "model": "knr",
          "observed": 21.5,
          "predicted": 15.104166666666666
         },
         {
          "model": "lin_reg",
          "observed": 21.5,
          "predicted": 15.777616451622293
         },
         {
          "model": "rfr",
          "observed": 21.5,
          "predicted": 15.883333333333333
         },
         {
          "model": "svr",
          "observed": 21.5,
          "predicted": 15.815078270157679
         },
         {
          "model": "knr",
          "observed": 22.5,
          "predicted": 15.025
         },
         {
          "model": "lin_reg",
          "observed": 22.5,
          "predicted": 16.110092546653057
         },
         {
          "model": "rfr",
          "observed": 22.5,
          "predicted": 15.335555555555555
         },
         {
          "model": "svr",
          "observed": 22.5,
          "predicted": 15.755420493029021
         },
         {
          "model": "knr",
          "observed": 23.5,
          "predicted": 16.020833333333332
         },
         {
          "model": "lin_reg",
          "observed": 23.5,
          "predicted": 18.042392585420444
         },
         {
          "model": "rfr",
          "observed": 23.5,
          "predicted": 16.3
         },
         {
          "model": "svr",
          "observed": 23.5,
          "predicted": 17.24716297876857
         },
         {
          "model": "knr",
          "observed": 24.5,
          "predicted": 16.4375
         },
         {
          "model": "lin_reg",
          "observed": 24.5,
          "predicted": 16.853651768313423
         },
         {
          "model": "rfr",
          "observed": 24.5,
          "predicted": 17.544444444444444
         },
         {
          "model": "svr",
          "observed": 24.5,
          "predicted": 16.658966895302708
         },
         {
          "model": "knr",
          "observed": 27.5,
          "predicted": 15.375
         },
         {
          "model": "lin_reg",
          "observed": 27.5,
          "predicted": 15.827052107083963
         },
         {
          "model": "rfr",
          "observed": 27.5,
          "predicted": 16.92222222222222
         },
         {
          "model": "svr",
          "observed": 27.5,
          "predicted": 15.618219336329545
         },
         {
          "model": "knr",
          "observed": 28.5,
          "predicted": 17.8125
         },
         {
          "model": "lin_reg",
          "observed": 28.5,
          "predicted": 21.808613058170923
         },
         {
          "model": "rfr",
          "observed": 28.5,
          "predicted": 17.844444444444445
         },
         {
          "model": "svr",
          "observed": 28.5,
          "predicted": 18.790386591529654
         }
        ]
       },
       "height": 500,
       "layer": [
        {
         "data": {
          "name": "data-133b5c66807dc153560cb7016f9f21c3"
         },
         "encoding": {
          "color": {
           "field": "model",
           "legend": {
            "labelFontSize": 12,
            "title": "Model",
            "titleFontSize": 15
           },
           "type": "nominal"
          },
          "x": {
           "field": "observed",
           "title": "Observed",
           "type": "quantitative"
          },
          "y": {
           "field": "predicted",
           "title": "Predicted",
           "type": "quantitative"
          }
         },
         "mark": {
          "opacity": 0.5,
          "size": 10,
          "type": "circle"
         }
        },
        {
         "data": {
          "name": "data-3ad2bfce37f8f944601dc2fceccf28de"
         },
         "encoding": {
          "color": {
           "field": "model",
           "legend": {
            "labelFontSize": 12,
            "title": "Model",
            "titleFontSize": 15
           },
           "type": "nominal"
          },
          "x": {
           "field": "observed",
           "type": "quantitative"
          },
          "y": {
           "field": "predicted",
           "type": "quantitative"
          }
         },
         "mark": {
          "opacity": 0.7,
          "size": 2,
          "type": "line"
         }
        }
       ],
       "title": "Predicted vs. Observed Values for Different Classficiation Models",
       "width": 700
      },
      "image/png": "[encoded data removed]",
      "text/plain": [
       "<VegaLite 3 object>\n",
       "\n",
       "If you see this message, it means the renderer has not been properly enabled\n",
       "for the frontend that you are using. For more information, see\n",
       "https://altair-viz.github.io/user_guide/troubleshooting.html\n"
      ]
     },
     "execution_count": 355,
     "metadata": {},
     "output_type": "execute_result"
    }
   ],
   "source": [
    "c1 = alt.Chart(results).mark_circle(size = 10, opacity = 0.5).encode(\n",
    "    alt.X('observed:Q', title = 'Observed'),\n",
    "    alt.Y('predicted:Q', title = 'Predicted'),\n",
    "    alt.Color('model', legend = alt.Legend(title = 'Model', titleFontSize = 15, labelFontSize = 12))\n",
    ")\n",
    "\n",
    "c2 = alt.Chart(results_avg).mark_line(size = 2, opacity = 0.7).encode(\n",
    "    alt.X('observed:Q'),\n",
    "    alt.Y('predicted:Q'),\n",
    "    alt.Color('model', legend = alt.Legend(title = 'Model', titleFontSize = 15, labelFontSize = 12))\n",
    ")\n",
    "\n",
    "(c1 + c2\n",
    ").properties(height = 500, width = 700, \n",
    "                     title = \"Predicted vs. Observed Values for Different Classficiation Models\"\n",
    ").configure_axis(\n",
    "    labelFontSize=15, titleFontSize=18\n",
    ").configure_title(\n",
    "    fontSize=20\n",
    ")\n"
   ]
  },
  {
   "cell_type": "markdown",
   "metadata": {
    "deletable": false,
    "nbgrader": {
     "cell_type": "markdown",
     "checksum": "5bed3ca8dea9c866eb3f0bb6de9bfea2",
     "grade": true,
     "grade_id": "cell-3202c78f9d64e707",
     "locked": false,
     "points": 0,
     "schema_version": 3,
     "solution": true,
     "task": false
    }
   },
   "source": [
    "> All models perform very similarly with all having RMSE values of around 2. The SVR model performs slightly better than the rest of the models with a RMSE value of 2.07 vs 2.11, 2.18, and 2.19. This difference is not significant enough to make any claims about why the model perform slightly differently.\n",
    "\n",
    "> To improve the model performance, we can implement an ensemble of many different models. In addition, adjustments during the preprocessing stage can be make such as different methods for scaling and encoding categorical variables. "
   ]
  }
 ],
 "metadata": {
  "kernelspec": {
   "display_name": "Python 3",
   "language": "python",
   "name": "python3"
  },
  "language_info": {
   "codemirror_mode": {
    "name": "ipython",
    "version": 3
   },
   "file_extension": ".py",
   "mimetype": "text/x-python",
   "name": "python",
   "nbconvert_exporter": "python",
   "pygments_lexer": "ipython3",
   "version": "3.7.6"
  }
 },
 "nbformat": 4,
 "nbformat_minor": 4
}
